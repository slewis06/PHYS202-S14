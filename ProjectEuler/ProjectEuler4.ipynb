{
 "metadata": {
  "name": "",
  "signature": "sha256:a815694780eb871565cd094e1d8d6921ce83e94b5ed6275325c13cc88cad7a97"
 },
 "nbformat": 3,
 "nbformat_minor": 0,
 "worksheets": [
  {
   "cells": [
    {
     "cell_type": "heading",
     "level": 1,
     "metadata": {},
     "source": [
      "Largest Palindrome Product"
     ]
    },
    {
     "cell_type": "heading",
     "level": 3,
     "metadata": {},
     "source": [
      "Problem 4"
     ]
    },
    {
     "cell_type": "markdown",
     "metadata": {},
     "source": [
      "A palindromic number reads the same both ways. The largest palindrome made from the product of two 2-digit numbers is 9009 = 91 \u00d7 99.\n",
      "\n",
      "Find the largest palindrome made from the product of two 3-digit numbers."
     ]
    },
    {
     "cell_type": "code",
     "collapsed": false,
     "input": [
      "import numpy as np"
     ],
     "language": "python",
     "metadata": {},
     "outputs": [],
     "prompt_number": 27
    },
    {
     "cell_type": "code",
     "collapsed": false,
     "input": [
      "#Example Case:\n",
      "\n",
      "lst = []\n",
      "#The exterminator makes it so the two numbers being multipied will\n",
      "#be ignored if their product is smaller than the product preformed\n",
      "#prior to it.\n",
      "exterminator = 0\n",
      "#two for loops to itterate through all 2 digit numbers.\n",
      "for num1 in range(10,100):\n",
      "    for num2 in range(10,100):\n",
      "        #assign a variable to the string of the product.\n",
      "        prod = str(num1*num2)\n",
      "        #exterminator\n",
      "        if num1*num2 > exterminator:\n",
      "            #if the product reads the same backwards and forewards...\n",
      "            if prod == prod[::-1]:\n",
      "                #append the product to a list.\n",
      "                lst.append(int(prod))\n",
      "                #increment the exterminator.\n",
      "                exterminator = num1*num2\n",
      "                #reassign the numbers that were multiplied so we dont\n",
      "                #print out a mess of numbers.\n",
      "                finalnum1 = num1\n",
      "                finalnum2 = num2\n",
      "\n",
      "#print the max of the list and the two numbers.\n",
      "print max(lst), \"is the largest palindrome made by\", finalnum1, \"x\", finalnum2"
     ],
     "language": "python",
     "metadata": {},
     "outputs": [
      {
       "output_type": "stream",
       "stream": "stdout",
       "text": [
        "9009 is the largest palindrome made by 91 x 99\n"
       ]
      }
     ],
     "prompt_number": 31
    },
    {
     "cell_type": "code",
     "collapsed": false,
     "input": [
      "#Actual problem:\n",
      "\n",
      "#Everything here is the same as above, except the range of the numbers goes \n",
      "#to 1000, for the 3 digit numbers\n",
      "\n",
      "lst1 = []\n",
      "exterminator1 = 0\n",
      "for num1 in range(100,1000):\n",
      "    for num2 in range(100,1000):\n",
      "        prod = str(num1*num2)\n",
      "        if num1*num2 > exterminator1:\n",
      "            if prod == prod[::-1]:\n",
      "                lst1.append(int(prod))\n",
      "                exterminator1 = num1*num2\n",
      "                finalnum1 = num1\n",
      "                finalnum2 = num2\n",
      "print max(lst1), \"is the largest palindrome made by\", finalnum1, \"x\", finalnum2"
     ],
     "language": "python",
     "metadata": {},
     "outputs": [
      {
       "output_type": "stream",
       "stream": "stdout",
       "text": [
        "906609 is the largest palindrome made by 913 x 993\n"
       ]
      }
     ],
     "prompt_number": 35
    },
    {
     "cell_type": "code",
     "collapsed": false,
     "input": [],
     "language": "python",
     "metadata": {},
     "outputs": []
    }
   ],
   "metadata": {}
  }
 ]
}