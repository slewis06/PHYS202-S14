{
 "metadata": {
  "name": "",
  "signature": "sha256:9eb5314901fa2e606119445154d61d68ce2d61e7ee076972c2e6ef0d4c3e17b0"
 },
 "nbformat": 3,
 "nbformat_minor": 0,
 "worksheets": [
  {
   "cells": [
    {
     "cell_type": "heading",
     "level": 1,
     "metadata": {},
     "source": [
      "1000-digit Fibonacci Number"
     ]
    },
    {
     "cell_type": "heading",
     "level": 2,
     "metadata": {},
     "source": [
      "Problem 25"
     ]
    },
    {
     "cell_type": "markdown",
     "metadata": {},
     "source": [
      "The Fibonacci sequence is defined by the recurrence relation:\n",
      "\n",
      "Fn = Fn\u22121 + Fn\u22122, where F1 = 1 and F2 = 1.\n",
      "Hence the first 12 terms will be:\n",
      "\n",
      "* F1 = 1\n",
      "* F2 = 1\n",
      "* F3 = 2\n",
      "* F4 = 3\n",
      "* F5 = 5\n",
      "* F6 = 8\n",
      "* F7 = 13\n",
      "* F8 = 21\n",
      "* F9 = 34\n",
      "* F10 = 55\n",
      "* F11 = 89\n",
      "* F12 = 144\n",
      "\n",
      "The 12th term, F12, is the first term to contain three digits.\n",
      "\n",
      "What is the first term in the Fibonacci sequence to contain 1000 digits?"
     ]
    },
    {
     "cell_type": "code",
     "collapsed": false,
     "input": [
      "\n",
      "def Fibonacci_number(index):\n",
      "    \"\"\"\n",
      "    This function will take an index value and then display the Fibonacci number \n",
      "    at that index and tell the user how many digits it has. This function is specially\n",
      "    desined to stop calculating Fibonnaci numbers once it reaches a number of 1000 digits.\n",
      "    If a number of this size is reached, the number will be displayed and its index given.\n",
      "    \"\"\"\n",
      "    #Initialize values\n",
      "    x = 1 \n",
      "    y = 0    #x and y are numbers used to generate the fibonacci sequence.\n",
      "    q = 1    #q is the index value to be displayed at the end.\n",
      "    while index - 1 > 0:\n",
      "        #This while loop keeps generating Fibonacci numbers until index = 0 or until the if statement becomes true.\n",
      "        x, y = x + y, x\n",
      "        index = index - 1\n",
      "        q += 1\n",
      "        if len(str(x)) == 1000:\n",
      "            #The if statement breaks out of the while loop prematurely if the fibonacci number has 1000 digits.\n",
      "            break\n",
      "    if len(str(x)) == 1000:\n",
      "        #If the number has exactly 1000 digit, this specific message will be displayed. I did this\n",
      "        #because we are specifically looking for the index of the first 1000 digit number.\n",
      "        #So, no number over 1000 digits can be displayed.\n",
      "        print \"The first Fibonacci number with 1000 digits is:\\n\\n\",x\n",
      "        print \"\\nIts index number is:\",q\n",
      "    else:\n",
      "        #If the number has less than 1000 digits, a message will still display the index, \n",
      "        #value of the number, and the number of digits it has.\n",
      "        print \"The Fibonacci number at index %s is: \" %(q)\n",
      "        print \"\\n\",x\n",
      "        print \"\\nIt has %s digits.\" %len(str(x))\n",
      "    return \"\""
     ],
     "language": "python",
     "metadata": {},
     "outputs": [],
     "prompt_number": 152
    },
    {
     "cell_type": "code",
     "collapsed": false,
     "input": [
      "#Test case\n",
      "print Fibonacci_number(12)"
     ],
     "language": "python",
     "metadata": {},
     "outputs": [
      {
       "output_type": "stream",
       "stream": "stdout",
       "text": [
        "The Fibonacci number at index 12 is: \n",
        "\n",
        "144\n",
        "\n",
        "It has 3 digits.\n",
        "\n"
       ]
      }
     ],
     "prompt_number": 153
    },
    {
     "cell_type": "code",
     "collapsed": false,
     "input": [
      "#Here I put in 10000 for the index number just to ensure the function will reach a number with 1000 digits.\n",
      "#Notice the different message compared to index 12.\n",
      "print Fibonacci_number(10000)\n"
     ],
     "language": "python",
     "metadata": {},
     "outputs": [
      {
       "output_type": "stream",
       "stream": "stdout",
       "text": [
        "The first Fibonacci number with 1000 digits is:\n",
        "\n",
        "1070066266382758936764980584457396885083683896632151665013235203375314520604694040621889147582489792657804694888177591957484336466672569959512996030461262748092482186144069433051234774442750273781753087579391666192149259186759553966422837148943113074699503439547001985432609723067290192870526447243726117715821825548491120525013201478612965931381792235559657452039506137551467837543229119602129934048260706175397706847068202895486902666185435124521900369480641357447470911707619766945691070098024393439617474103736912503231365532164773697023167755051595173518460579954919410967778373229665796581646513903488154256310184224190259846088000110186255550245493937113651657039447629584714548523425950428582425306083544435428212611008992863795048006894330309773217834864543113205765659868456288616808718693835297350643986297640660000723562917905207051164077614812491885830945940566688339109350944456576357666151619317753792891661581327159616877487983821820492520348473874384736771934512787029218636250627816\n",
        "\n",
        "Its index number is: 4782\n",
        "\n"
       ]
      }
     ],
     "prompt_number": 154
    },
    {
     "cell_type": "code",
     "collapsed": false,
     "input": [
      "#Just to show how the function works, here is the Fibonacci number right before the one we want.\n",
      "print Fibonacci_number(4781)"
     ],
     "language": "python",
     "metadata": {},
     "outputs": [
      {
       "output_type": "stream",
       "stream": "stdout",
       "text": [
        "The Fibonacci number at index 4781 is: \n",
        "\n",
        "661337322839244020529448762061498838625822185407709121508540998594682904585308540198620399347330470400653280666540992810413273565832926917994398713638718230004471776413151146318909185589434770973461837586080318941036906375808818987789429626217366616261579890860369055555894732519548901040157604298546742957666096845809463021127999592568557636384690462092341124092401245911116667639704650585763476554594656814646920798543755041993472555505701157143290739289844688760895075749533130953287080934600205342326904398216342904642143410026582439596278979961166556037913414174756579068802168337413360918567937945101952123966744780579475400056938418442029794142856905251486526028946063939727834195575354173400454719814829506586601492013100468780852140836021109820860257494909387619656513364393990237289782342713423952649505274336811640790273740875206602634583227097792146230883268422965993230492657630338344967767776216497296016612316692840479306680187737608910337658122657075262622220319456797676633847360981\n",
        "\n",
        "It has 999 digits.\n",
        "\n"
       ]
      }
     ],
     "prompt_number": 155
    },
    {
     "cell_type": "code",
     "collapsed": false,
     "input": [],
     "language": "python",
     "metadata": {},
     "outputs": []
    }
   ],
   "metadata": {}
  }
 ]
}