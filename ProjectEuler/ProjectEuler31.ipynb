{
 "metadata": {
  "name": "",
  "signature": "sha256:a0c908fad0e40a3501916250406c8c9e53c79db196ed7ab2b48d157ff89900a0"
 },
 "nbformat": 3,
 "nbformat_minor": 0,
 "worksheets": [
  {
   "cells": [
    {
     "cell_type": "heading",
     "level": 1,
     "metadata": {},
     "source": [
      "Coin Sums"
     ]
    },
    {
     "cell_type": "heading",
     "level": 2,
     "metadata": {},
     "source": [
      "Problem 31"
     ]
    },
    {
     "cell_type": "markdown",
     "metadata": {},
     "source": [
      "In England the currency is made up of pound, \u00a3, and pence, p, and there are eight coins in general circulation:\n",
      "\n",
      "1p, 2p, 5p, 10p, 20p, 50p, \u00a31 (100p) and \u00a32 (200p).\n",
      "It is possible to make \u00a32 in the following way:\n",
      "\n",
      "1\u00d7\u00a31 + 1\u00d750p + 2\u00d720p + 1\u00d75p + 1\u00d72p + 3\u00d71p\n",
      "How many different ways can \u00a32 be made using any number of coins?"
     ]
    },
    {
     "cell_type": "code",
     "collapsed": false,
     "input": [
      "total = 8\n",
      "for pound in range(0,2):\n",
      "    if 100*pound == 200:\n",
      "        total += 1\n",
      "        continue\n",
      "    if 100*pound > 200:\n",
      "        continue\n",
      "        for fifty_pence in range(0,4):\n",
      "            if 100*pound + 50*fifty_pence == 200:\n",
      "                total += 1\n",
      "                continue\n",
      "            if 100*pound + 50*fifty_pence > 200:\n",
      "                continue\n",
      "                for twenty_pence in range (0,10):\n",
      "                    if 100*pound + 50*fifty_pence + 20*twenty_pence == 200:\n",
      "                        total += 1\n",
      "                        continue\n",
      "                    if 100*pound + 50*fifty_pence + 20*twenty_pence > 200:\n",
      "                        continue\n",
      "                        for ten_pence in range(0,20):\n",
      "                            if 100*pound + 50*fifty_pence + 20*twenty_pence + 10*ten_pence == 200:\n",
      "                                total += 1\n",
      "                                continue\n",
      "                            if 100*pound + 50*fifty_pence + 20*twenty_pence + 10*ten_pence > 200:\n",
      "                                continue\n",
      "                                for five_pence in range(0,40):\n",
      "                                    if 100*pound + 50*fifty_pence + 20*twenty_pence + 10*ten_pence + 5*five_pence == 200:\n",
      "                                        total += 1\n",
      "                                        continue\n",
      "                                    if 100*pound + 50*fifty_pence + 20*twenty_pence + 10*ten_pence + 5*five_pence > 200:\n",
      "                                        continue\n",
      "                                        for two_pence in range(0,100):\n",
      "                                            if 100*pound + 50*fifty_pence + 20*twenty_pence + 10*ten_pence + 5*five_pence + 2*two_pence == 200:\n",
      "                                                total += 1\n",
      "                                                continue\n",
      "                                            if 100*pound + 50*fifty_pence + 20*twenty_pence + 10*ten_pence + 5*five_pence + 2*two_pence > 200:\n",
      "                                                continue\n",
      "                                                for one_pence in range(0,200):\n",
      "                                                    if 100*pound + 50*fifty_pence + 20*twenty_pence + 10*ten_pence + 5*five_pence + 2*two_pence + 1*one_pence == 200:\n",
      "                                                        total += 1\n",
      "                                                        continue\n",
      "                                                    if 100*pound + 50*fifty_pence + 20*twenty_pence + 10*ten_pence + 5*five_pence + 2*two_pence + 1*one_pence > 200:\n",
      "                                                        continue\n",
      "\n",
      "print total                                                                                              "
     ],
     "language": "python",
     "metadata": {},
     "outputs": [
      {
       "output_type": "stream",
       "stream": "stdout",
       "text": [
        "8\n"
       ]
      }
     ],
     "prompt_number": 3
    },
    {
     "cell_type": "code",
     "collapsed": false,
     "input": [],
     "language": "python",
     "metadata": {},
     "outputs": []
    }
   ],
   "metadata": {}
  }
 ]
}