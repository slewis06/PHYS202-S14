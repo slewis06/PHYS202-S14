{
 "metadata": {
  "name": "",
  "signature": "sha256:fe3e01374c50003598aea7613468985f6590eaa9ee70b107f186bd6aeaa4fee9"
 },
 "nbformat": 3,
 "nbformat_minor": 0,
 "worksheets": [
  {
   "cells": [
    {
     "cell_type": "heading",
     "level": 1,
     "metadata": {},
     "source": [
      "Power Digit Sum"
     ]
    },
    {
     "cell_type": "heading",
     "level": 2,
     "metadata": {},
     "source": [
      "Problem 16"
     ]
    },
    {
     "cell_type": "markdown",
     "metadata": {},
     "source": [
      "2^15 = 32768 and the sum of its digits is 3 + 2 + 7 + 6 + 8 = 26.\n",
      "\n",
      "What is the sum of the digits of the number 2^1000?"
     ]
    },
    {
     "cell_type": "code",
     "collapsed": false,
     "input": [
      "def power_digit_sum(exponent):\n",
      "    number = 2 ** exponent\n",
      "    number = str(number)\n",
      "    total = 0\n",
      "    for num in number:\n",
      "        total += int(num)\n",
      "    return total"
     ],
     "language": "python",
     "metadata": {},
     "outputs": [],
     "prompt_number": 5
    },
    {
     "cell_type": "code",
     "collapsed": false,
     "input": [
      "print power_digit_sum(1000)"
     ],
     "language": "python",
     "metadata": {},
     "outputs": [
      {
       "output_type": "stream",
       "stream": "stdout",
       "text": [
        "1366\n"
       ]
      }
     ],
     "prompt_number": 8
    }
   ],
   "metadata": {}
  }
 ]
}