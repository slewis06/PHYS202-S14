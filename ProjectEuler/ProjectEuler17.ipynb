{
 "metadata": {
  "name": "",
  "signature": "sha256:ad9cffd3db1030c07c382cf280954757f1398f7998c559fc56d9adb6f364a94b"
 },
 "nbformat": 3,
 "nbformat_minor": 0,
 "worksheets": [
  {
   "cells": [
    {
     "cell_type": "heading",
     "level": 1,
     "metadata": {},
     "source": [
      "Number Letter Counts"
     ]
    },
    {
     "cell_type": "heading",
     "level": 2,
     "metadata": {},
     "source": [
      "Problem 17"
     ]
    },
    {
     "cell_type": "markdown",
     "metadata": {},
     "source": [
      "If the numbers 1 to 5 are written out in words: one, two, three, four, five, then there are 3 + 3 + 5 + 4 + 4 = 19 letters used in total.\n",
      "\n",
      "If all the numbers from 1 to 1000 (one thousand) inclusive were written out in words, how many letters would be used?\n",
      "\n",
      "\n",
      "NOTE: Do not count spaces or hyphens. For example, 342 (three hundred and forty-two) contains 23 letters and 115 (one hundred and fifteen) contains 20 letters. The use of \"and\" when writing out numbers is in compliance with British usage."
     ]
    },
    {
     "cell_type": "code",
     "collapsed": false,
     "input": [
      "\"\"\"\n",
      "\n",
      "To complete this problem, I decided to create a function that contains two dictionaries, one containing numbers one through nineteen,\n",
      "and the other containing each 10's place number. I'll pass the function a range of numbers, and for each number the function will\n",
      "check whether the number is in between 100 and 999, if it is, the string version of the number/100 found inside the tens_place dictionary\n",
      "is added to number_engl. The function then continues to check if the number is divisible by 100. If it is, then that means the number's \n",
      "\"name\" ends in \"hundred\" (i.e. 500 = \"five hundred\"). If the number is not divisible by 100, that means there are numbers in either the \n",
      "tens or ones place or both. In this case, the numbers name ends in \"hundred and \" (i.e 503 = \"five hundred AND ...). The function then \n",
      "replaces the variable for the number originally given to it with the remainder after dividing it by 100 so that we can now access the \n",
      "tens place. Now the function checks if the \"new\" number is between 20 and 99, if so, and if number/10 is within the tens_place dictionary,\n",
      "the string related to the number is added to number_engl. Otherwise, the number variable is then changed to the remainder after dividing \n",
      "it by ten and finally, the function checks if the remaining number is withing the ones_to_teens, in which case the relating string will\n",
      "be added to number_engl. Lastly, I used .replace to get rid of all the spaces present in number_engl and then number_engl is returned.\n",
      "The sum of the lengths of number_engl for a range of numbers is then calculated as the final result.\n",
      "\n",
      "\"\"\"\n",
      "\n",
      "def number_letter_counts(number):\n",
      "    ones_to_teens = {1: ' one', 2: ' two', 3: ' three', 4: ' four',\n",
      "            5: ' five', 6: ' six', 7: ' seven', 8: ' eight', 9: ' nine', 10: ' ten',\n",
      "            11: ' eleven', 12: ' twelve', 13: ' thirteen', 14: ' fourteen', 15: ' fifteen', \n",
      "            16: ' sixteen', 17: ' seventeen', 18: ' eighteen', 19: ' nineteen'}\n",
      "\n",
      "    tens_place = {2: ' twenty', 3: ' thirty', 4: ' forty', 5: ' fifty',\n",
      "            6: ' sixty', 7: ' seventy', 8: ' eighty', 9: ' ninety'}\n",
      "    \n",
      "    number_engl = ' '\n",
      "    \n",
      "    #This was unmentioned above, but if the number is equal to 1000, then the string value is just \"one thousand\".\n",
      "    #There is no need to alter number_engl for this case because we are only using this function for numbers up to 1000\n",
      "    #so there will never be an apperance of something like \"one thousand and nineteen.\"\n",
      "    if number == 1000:\n",
      "        number_engl += \"one thousand\"\n",
      "        \n",
      "    if number >= 100 and number < 1000:\n",
      "        number_engl += ones_to_teens[number/100]\n",
      "        if number % 100 == 0:\n",
      "            number_engl += \" hundred\"\n",
      "        else:\n",
      "            number_engl += \" hundred and\"\n",
      "            number %= 100\n",
      "            \n",
      "    if number >= 20 and number < 100:\n",
      "        number_engl += tens_place[number/10]\n",
      "        number %= 10\n",
      "        \n",
      "    if number in ones_to_teens:\n",
      "        number_engl += ones_to_teens[number]\n",
      "    \n",
      "    number_engl = number_engl.replace(' ', '')\n",
      "    \n",
      "    return number_engl"
     ],
     "language": "python",
     "metadata": {},
     "outputs": [],
     "prompt_number": 45
    },
    {
     "cell_type": "code",
     "collapsed": false,
     "input": [
      "#Example in problem.\n",
      "print sum(len((number_letter_counts(i))) for i in range(1, 6))"
     ],
     "language": "python",
     "metadata": {},
     "outputs": [
      {
       "output_type": "stream",
       "stream": "stdout",
       "text": [
        "19\n"
       ]
      }
     ],
     "prompt_number": 46
    },
    {
     "cell_type": "code",
     "collapsed": false,
     "input": [
      "#number of letters in 1 through 1000.\n",
      "print sum(len((number_letter_counts(i))) for i in range(1, 1001))"
     ],
     "language": "python",
     "metadata": {},
     "outputs": [
      {
       "output_type": "stream",
       "stream": "stdout",
       "text": [
        "21124\n"
       ]
      }
     ],
     "prompt_number": 47
    },
    {
     "cell_type": "code",
     "collapsed": false,
     "input": [],
     "language": "python",
     "metadata": {},
     "outputs": []
    }
   ],
   "metadata": {}
  }
 ]
}