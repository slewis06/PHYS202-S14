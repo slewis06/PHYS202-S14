{
 "metadata": {
  "name": "",
  "signature": "sha256:ed53a4aeade1a3d6ba8d8d70700e3ef3c3d6f3da379929dc35179fe8fb803377"
 },
 "nbformat": 3,
 "nbformat_minor": 0,
 "worksheets": [
  {
   "cells": [
    {
     "cell_type": "heading",
     "level": 1,
     "metadata": {},
     "source": [
      "Number Letter Counts"
     ]
    },
    {
     "cell_type": "heading",
     "level": 2,
     "metadata": {},
     "source": [
      "Problem 17"
     ]
    },
    {
     "cell_type": "markdown",
     "metadata": {},
     "source": [
      "If the numbers 1 to 5 are written out in words: one, two, three, four, five, then there are 3 + 3 + 5 + 4 + 4 = 19 letters used in total.\n",
      "\n",
      "If all the numbers from 1 to 1000 (one thousand) inclusive were written out in words, how many letters would be used?\n",
      "\n",
      "\n",
      "NOTE: Do not count spaces or hyphens. For example, 342 (three hundred and forty-two) contains 23 letters and 115 (one hundred and fifteen) contains 20 letters. The use of \"and\" when writing out numbers is in compliance with British usage."
     ]
    },
    {
     "cell_type": "code",
     "collapsed": false,
     "input": [
      "def number_letter_counts(number):\n",
      "    ones_to_teens = {1: 'one', 2: 'two', 3: 'three', 4: 'four',\n",
      "            5: 'five', 6: 'six', 7: 'seven', 8: 'eight', 9: 'nine', 10: 'ten',\n",
      "            11: 'eleven', 12: 'twelve', 13: 'thirteen', 14: 'fourteen', 15: 'fifteen', \n",
      "            16: 'sixteen', 17: 'seventeen', 18: 'eighteen', 19: 'nineteen'}\n",
      "\n",
      "    tens_place = {2: 'twenty', 3: 'thirty', 4: 'forty', 5: 'fifty',\n",
      "            6: 'sixty', 7: 'seventy', 8: 'eighty', 9: 'ninety'}\n",
      "    \n",
      "    number_engl = ''\n",
      "    \n",
      "    if number == 1000:\n",
      "        number_engl += \"one thousand\"\n",
      "        \n",
      "    if number >= 100 and number < 1000:\n",
      "        number_engl += ones_to_teens[number / 100]\n",
      "        if number % 100 == 0:\n",
      "            number_engl += \" hundred\"\n",
      "        else:\n",
      "            number_engl += \" hundred and \"\n",
      "            number %= 100\n",
      "            \n",
      "    if number >= 20 and number < 100:\n",
      "        number_engl += tens_place[number / 10]\n",
      "        number %= 10\n",
      "        \n",
      "    if number in ones_to_teens:\n",
      "        number_engl += ones_to_teens[number]\n",
      "    \n",
      "    number_engl = number_engl.replace(' ', '')\n",
      "    \n",
      "    return number_engl"
     ],
     "language": "python",
     "metadata": {},
     "outputs": [],
     "prompt_number": 15
    },
    {
     "cell_type": "code",
     "collapsed": false,
     "input": [
      "print sum(len((number_letter_counts(i))) for i in range(1, 6))"
     ],
     "language": "python",
     "metadata": {},
     "outputs": [
      {
       "output_type": "stream",
       "stream": "stdout",
       "text": [
        "19\n"
       ]
      }
     ],
     "prompt_number": 17
    },
    {
     "cell_type": "code",
     "collapsed": false,
     "input": [
      "print sum(len((number_letter_counts(i))) for i in range(1, 1001))"
     ],
     "language": "python",
     "metadata": {},
     "outputs": [
      {
       "output_type": "stream",
       "stream": "stdout",
       "text": [
        "21124\n"
       ]
      }
     ],
     "prompt_number": 18
    },
    {
     "cell_type": "code",
     "collapsed": false,
     "input": [],
     "language": "python",
     "metadata": {},
     "outputs": []
    }
   ],
   "metadata": {}
  }
 ]
}