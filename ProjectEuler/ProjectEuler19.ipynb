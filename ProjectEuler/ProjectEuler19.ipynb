{
 "metadata": {
  "name": "",
  "signature": "sha256:3f881e04eee5c6671f1bdf2977d2a1628a3e747e7c6c341bd0d3bd66d3a88b17"
 },
 "nbformat": 3,
 "nbformat_minor": 0,
 "worksheets": [
  {
   "cells": [
    {
     "cell_type": "heading",
     "level": 1,
     "metadata": {},
     "source": [
      "Counting Sundays"
     ]
    },
    {
     "cell_type": "heading",
     "level": 2,
     "metadata": {},
     "source": [
      "Problem 19"
     ]
    },
    {
     "cell_type": "markdown",
     "metadata": {},
     "source": [
      "You are given the following information, but you may prefer to do some research for yourself.\n",
      "\n",
      "* 1 Jan 1900 was a Monday.\n",
      "* Thirty days has September, April, June and November. All the rest have thirty-one, saving February alone, which has twenty-eight, rain or shine. And on leap years, twenty-nine.\n",
      "* A leap year occurs on any year evenly divisible by 4, but not on a century unless it is divisible by 400.\n",
      "\n",
      "How many Sundays fell on the first of the month during the twentieth century (1 Jan 1901 to 31 Dec 2000)?"
     ]
    },
    {
     "cell_type": "code",
     "collapsed": false,
     "input": [
      "#First I calculated the total number of days between Jan 1 1900 and Dec 31 2000\n",
      "total_days = 365*77 +366*24\n",
      "\n",
      "#These lists mark the day number of the first of the month for each month for both types of years.\n",
      "first_of_month_normal = [1,32,60,91,121,152,182,213,244,274,305,335]\n",
      "first_of_month_leap = [1,32,61,92,122,153,183,214,245,275,306,336]\n",
      "\n",
      "#set all variables to zero.\n",
      "total_years = 0\n",
      "normal_years = 0\n",
      "leap_years = 0\n",
      "sundays = 0\n",
      "\n",
      "#Begin for loop, x is any one day.\n",
      "for x in range(1,total_days):\n",
      "    #This line ensures that day_in_year resets to 1 after reaching 365 or 366 days.\n",
      "    day_in_year = (x - (365*normal_years + 366*leap_years))\n",
      "    #This if statement basically bypasses the first year (1900) because we want 1901 to 2000.\n",
      "    if total_years < 1:\n",
      "        if day_in_year == 365:\n",
      "            total_years += 1\n",
      "            normal_years += 1\n",
      "    else:\n",
      "        #Now for normal_years.\n",
      "        if total_years % 4 != 0:\n",
      "            #If the day number is divisible by seven, then it is a sunday.\n",
      "            if x % 7 == 0:\n",
      "                #If that day is in the list defined at the top of the cell, then it is a sunday on the\n",
      "                #first of the month.\n",
      "                if day_in_year in first_of_month_normal:\n",
      "                    sundays += 1\n",
      "            #Once the days reach 365, the number of years is incremented.\n",
      "            if day_in_year == 365:\n",
      "                normal_years += 1\n",
      "                total_years += 1\n",
      "        #This else statement is for leap years.\n",
      "        else:\n",
      "            #Same process as before, if the day number is divisible by seven, it is a Sunday.\n",
      "            if x % 7 == 0:\n",
      "                #If that sunday is in the list defined above, it is on the first of the month, count it.\n",
      "                if day_in_year in first_of_month_leap:\n",
      "                    sundays += 1\n",
      "            #Increment the year once the days reach 366.\n",
      "            if day_in_year == 366:\n",
      "                leap_years += 1\n",
      "                total_years += 1\n",
      "        \n",
      "print 'The number of Sundays that land \\non the first of the month between \\n1 Jan 1901 and 31 Dec 200 are: ', sundays"
     ],
     "language": "python",
     "metadata": {},
     "outputs": [
      {
       "output_type": "stream",
       "stream": "stdout",
       "text": [
        "The number of Sundays that land \n",
        "on the first of the month between \n",
        "1 Jan 1901 and 31 Dec 200 are:  171\n"
       ]
      }
     ],
     "prompt_number": 7
    },
    {
     "cell_type": "code",
     "collapsed": false,
     "input": [
      "#Use datetime to check if we have the right answer.\n",
      "import datetime\n",
      "Sun = 0\n",
      "for year in range(1,101):\n",
      "    for month in range(1,13):\n",
      "        date = datetime.date(1900+year, month, 1)\n",
      "        if (date.weekday() == 6):\n",
      "            Sun +=1\n",
      "print Sun"
     ],
     "language": "python",
     "metadata": {},
     "outputs": [
      {
       "output_type": "stream",
       "stream": "stdout",
       "text": [
        "171\n"
       ]
      }
     ],
     "prompt_number": 8
    },
    {
     "cell_type": "code",
     "collapsed": false,
     "input": [],
     "language": "python",
     "metadata": {},
     "outputs": []
    }
   ],
   "metadata": {}
  }
 ]
}