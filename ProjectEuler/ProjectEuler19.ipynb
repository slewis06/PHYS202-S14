{
 "metadata": {
  "name": "",
  "signature": "sha256:dbbc31bbb789e7e79c911c636a828b186d49853eacd3e28990e01ff8365c73d8"
 },
 "nbformat": 3,
 "nbformat_minor": 0,
 "worksheets": [
  {
   "cells": [
    {
     "cell_type": "heading",
     "level": 1,
     "metadata": {},
     "source": [
      "Counting Sundays"
     ]
    },
    {
     "cell_type": "heading",
     "level": 2,
     "metadata": {},
     "source": [
      "Problem 19"
     ]
    },
    {
     "cell_type": "markdown",
     "metadata": {},
     "source": [
      "You are given the following information, but you may prefer to do some research for yourself.\n",
      "\n",
      "* 1 Jan 1900 was a Monday.\n",
      "* Thirty days has September, April, June and November. All the rest have thirty-one, saving February alone, which has twenty-eight, rain or shine. And on leap years, twenty-nine.\n",
      "* A leap year occurs on any year evenly divisible by 4, but not on a century unless it is divisible by 400.\n",
      "\n",
      "How many Sundays fell on the first of the month during the twentieth century (1 Jan 1901 to 31 Dec 2000)?"
     ]
    },
    {
     "cell_type": "code",
     "collapsed": false,
     "input": [
      "total_days = 365*77 +366*24\n",
      "\n",
      "first_of_month_normal = [1,32,60,91,121,152,182,213,244,274,305,335]\n",
      "first_of_month_leap = [1,32,61,92,122,153,183,214,245,275,306,336]\n",
      "\n",
      "total_years = 0\n",
      "normal_years = 0\n",
      "leap_years = 0\n",
      "sundays = 0\n",
      "\n",
      "for x in range(1,total_days):\n",
      "    day_in_year = (x - (365*normal_years + 366*leap_years))\n",
      "    if total_years < 1:\n",
      "        if day_in_year == 365:\n",
      "            total_years += 1\n",
      "            normal_years += 1\n",
      "    else:\n",
      "        if total_years % 4 != 0:\n",
      "            if x % 7 == 0:\n",
      "                if day_in_year in first_of_month_normal:\n",
      "                    sundays += 1\n",
      "            if day_in_year == 365:\n",
      "                normal_years += 1\n",
      "                total_years += 1\n",
      "        else:\n",
      "            if x % 7 == 0:\n",
      "                if day_in_year in first_of_month_leap:\n",
      "                    sundays += 1\n",
      "            if day_in_year == 366:\n",
      "                leap_years += 1\n",
      "                total_years += 1\n",
      "        \n",
      "print sundays"
     ],
     "language": "python",
     "metadata": {},
     "outputs": [
      {
       "output_type": "stream",
       "stream": "stdout",
       "text": [
        "171\n"
       ]
      }
     ],
     "prompt_number": 34
    },
    {
     "cell_type": "code",
     "collapsed": false,
     "input": [
      "import datetime\n",
      "Sun = 0\n",
      "for year in range(1,101):\n",
      "    for month in range(1,13):\n",
      "        date = datetime.date(1900+year, month, 1)\n",
      "        if (date.weekday() == 6):\n",
      "            Sun +=1\n",
      "print Sun"
     ],
     "language": "python",
     "metadata": {},
     "outputs": [
      {
       "output_type": "stream",
       "stream": "stdout",
       "text": [
        "171\n"
       ]
      }
     ],
     "prompt_number": 10
    },
    {
     "cell_type": "code",
     "collapsed": false,
     "input": [],
     "language": "python",
     "metadata": {},
     "outputs": []
    }
   ],
   "metadata": {}
  }
 ]
}