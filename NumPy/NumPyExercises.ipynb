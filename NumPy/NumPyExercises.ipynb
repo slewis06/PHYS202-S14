{
 "metadata": {
  "name": "",
  "signature": "sha256:0a87df4ebc04da41666cda0dee5c5647d4a7cdfca9bb8d12f5329396c7696859"
 },
 "nbformat": 3,
 "nbformat_minor": 0,
 "worksheets": [
  {
   "cells": [
    {
     "cell_type": "heading",
     "level": 1,
     "metadata": {},
     "source": [
      "NumPy Exercises"
     ]
    },
    {
     "cell_type": "code",
     "collapsed": false,
     "input": [
      "%pylab inline\n",
      "import numpy as np"
     ],
     "language": "python",
     "metadata": {},
     "outputs": [
      {
       "output_type": "stream",
       "stream": "stdout",
       "text": [
        "Populating the interactive namespace from numpy and matplotlib\n"
       ]
      }
     ],
     "prompt_number": 2
    },
    {
     "cell_type": "markdown",
     "metadata": {},
     "source": [
      "\n",
      "**1. Create the following arrays with correct data types:**\n",
      "\n",
      "[[1, 1, 1, 1],\n",
      "\n",
      " [1, 1, 1, 1],\n",
      " \n",
      " [1, 1, 1, 2],\n",
      " \n",
      " [1, 6, 1, 1]]\n",
      " \n",
      " \n",
      "[[0., 0., 0., 0., 0.],\n",
      "\n",
      " [2., 0., 0., 0., 0.],\n",
      " \n",
      " [0., 3., 0., 0., 0.],\n",
      " \n",
      " [0., 0., 4., 0., 0.],\n",
      " \n",
      " [0., 0., 0., 5., 0.],\n",
      " \n",
      " [0., 0., 0., 0., 6.]]\n",
      " \n",
      "You should be able to accomplish this in 3 lines of code or less for each one. The documentation for the diag method may be helpful."
     ]
    },
    {
     "cell_type": "code",
     "collapsed": false,
     "input": [
      "arr = np.ones((4,4), dtype=int)\n",
      "arr[2,3] = 2\n",
      "arr[3,1] = 6\n",
      "print arr\n",
      "\n",
      "e = np.diag(np.linspace(1,6,6))\n",
      "f = e[0:6,1:6]\n",
      "print f"
     ],
     "language": "python",
     "metadata": {},
     "outputs": [
      {
       "output_type": "stream",
       "stream": "stdout",
       "text": [
        "[[1 1 1 1]\n",
        " [1 1 1 1]\n",
        " [1 1 1 2]\n",
        " [1 6 1 1]]\n",
        "[[ 0.  0.  0.  0.  0.]\n",
        " [ 2.  0.  0.  0.  0.]\n",
        " [ 0.  3.  0.  0.  0.]\n",
        " [ 0.  0.  4.  0.  0.]\n",
        " [ 0.  0.  0.  5.  0.]\n",
        " [ 0.  0.  0.  0.  6.]]\n"
       ]
      }
     ],
     "prompt_number": 32
    },
    {
     "cell_type": "markdown",
     "metadata": {},
     "source": [
      "**2. Read the documentation for np.tile and use this function to construct the following array:**\n",
      "\n",
      "[[4, 3, 4, 3, 4, 3],\n",
      "\n",
      " [2, 1, 2, 1, 2, 1],\n",
      " \n",
      " [4, 3, 4, 3, 4, 3],\n",
      " \n",
      " [2, 1, 2, 1, 2, 1]]"
     ]
    },
    {
     "cell_type": "code",
     "collapsed": false,
     "input": [
      "arr = np.array([[4,3], [2,1]])\n",
      "np.tile(arr, (2,2))"
     ],
     "language": "python",
     "metadata": {},
     "outputs": [
      {
       "metadata": {},
       "output_type": "pyout",
       "prompt_number": 8,
       "text": [
        "array([[4, 3, 4, 3],\n",
        "       [2, 1, 2, 1],\n",
        "       [4, 3, 4, 3],\n",
        "       [2, 1, 2, 1]])"
       ]
      }
     ],
     "prompt_number": 8
    },
    {
     "cell_type": "markdown",
     "metadata": {},
     "source": [
      "**3. Let\u2019s create a prime number sieve. We will use the sieve to see what numbers between 0 and 100 are prime.**\n",
      "\n",
      "**(a)** First, construct an array of booleans called is prime with shape (100,), filled with True in all the elements.\n",
      "is_prime = np.ones((100,), dtype=bool)"
     ]
    },
    {
     "cell_type": "code",
     "collapsed": false,
     "input": [
      "is_prime = np.ones((100,), dtype=bool)"
     ],
     "language": "python",
     "metadata": {},
     "outputs": [],
     "prompt_number": 9
    },
    {
     "cell_type": "markdown",
     "metadata": {},
     "source": [
      "**(b)** The index of each boolean element represents the number. \u201cCross out\u201d 0 and 1, which are not primes. You can either set them to False or 0 (which python recognizes as equivalent to False for boolean types)."
     ]
    },
    {
     "cell_type": "code",
     "collapsed": false,
     "input": [],
     "language": "python",
     "metadata": {},
     "outputs": []
    }
   ],
   "metadata": {}
  }
 ]
}