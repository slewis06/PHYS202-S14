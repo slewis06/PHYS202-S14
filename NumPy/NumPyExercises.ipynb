{
 "metadata": {
  "name": "",
  "signature": "sha256:506b901489f2357c7e38114244478a270a278211f7df4368ccb8c7e09a07c8ba"
 },
 "nbformat": 3,
 "nbformat_minor": 0,
 "worksheets": [
  {
   "cells": [
    {
     "cell_type": "heading",
     "level": 1,
     "metadata": {},
     "source": [
      "NumPy Exercises"
     ]
    },
    {
     "cell_type": "code",
     "collapsed": false,
     "input": [
      "%pylab inline\n",
      "import numpy as np"
     ],
     "language": "python",
     "metadata": {},
     "outputs": [
      {
       "output_type": "stream",
       "stream": "stdout",
       "text": [
        "Populating the interactive namespace from numpy and matplotlib\n"
       ]
      }
     ],
     "prompt_number": 1
    },
    {
     "cell_type": "markdown",
     "metadata": {},
     "source": [
      "\n",
      "1. Create the following arrays with correct data types:\n",
      "\n",
      "[[1, 1, 1, 1],\n",
      "\n",
      " [1, 1, 1, 1],\n",
      " \n",
      " [1, 1, 1, 2],\n",
      " \n",
      " [1, 6, 1, 1]]\n",
      " \n",
      " \n",
      "[[0., 0., 0., 0., 0.],\n",
      "\n",
      " [2., 0., 0., 0., 0.],\n",
      " \n",
      " [0., 3., 0., 0., 0.],\n",
      " \n",
      " [0., 0., 4., 0., 0.],\n",
      " \n",
      " [0., 0., 0., 5., 0.],\n",
      " \n",
      " [0., 0., 0., 0., 6.]]\n",
      " \n",
      "You should be able to accomplish this in 3 lines of code or less for each one. The documentation for the diag method may be helpful."
     ]
    },
    {
     "cell_type": "code",
     "collapsed": false,
     "input": [],
     "language": "python",
     "metadata": {},
     "outputs": []
    }
   ],
   "metadata": {}
  }
 ]
}