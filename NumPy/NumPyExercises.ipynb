{
 "metadata": {
  "name": "",
  "signature": "sha256:ae6647235fa291d67e56ade255d0827bd35762558746b8333555e775147651f2"
 },
 "nbformat": 3,
 "nbformat_minor": 0,
 "worksheets": [
  {
   "cells": [
    {
     "cell_type": "heading",
     "level": 1,
     "metadata": {},
     "source": [
      "NumPy Exercises"
     ]
    },
    {
     "cell_type": "code",
     "collapsed": false,
     "input": [
      "%pylab inline\n",
      "import numpy as np"
     ],
     "language": "python",
     "metadata": {},
     "outputs": [
      {
       "output_type": "stream",
       "stream": "stdout",
       "text": [
        "Populating the interactive namespace from numpy and matplotlib\n"
       ]
      }
     ],
     "prompt_number": 3
    },
    {
     "cell_type": "markdown",
     "metadata": {},
     "source": [
      "\n",
      "**1. Create the following arrays with correct data types:**\n",
      "\n",
      "[[1, 1, 1, 1],\n",
      "\n",
      " [1, 1, 1, 1],\n",
      " \n",
      " [1, 1, 1, 2],\n",
      " \n",
      " [1, 6, 1, 1]]\n",
      " \n",
      " \n",
      "[[0., 0., 0., 0., 0.],\n",
      "\n",
      " [2., 0., 0., 0., 0.],\n",
      " \n",
      " [0., 3., 0., 0., 0.],\n",
      " \n",
      " [0., 0., 4., 0., 0.],\n",
      " \n",
      " [0., 0., 0., 5., 0.],\n",
      " \n",
      " [0., 0., 0., 0., 6.]]\n",
      " \n",
      "You should be able to accomplish this in 3 lines of code or less for each one. The documentation for the diag method may be helpful."
     ]
    },
    {
     "cell_type": "code",
     "collapsed": false,
     "input": [
      "arr = np.ones((4,4), dtype=int)\n",
      "arr[2,3] = 2\n",
      "arr[3,1] = 6\n",
      "print arr\n",
      "\n",
      "e = np.diag(np.linspace(1,6,6))\n",
      "f = e[0:6,1:6]\n",
      "print f"
     ],
     "language": "python",
     "metadata": {},
     "outputs": [
      {
       "output_type": "stream",
       "stream": "stdout",
       "text": [
        "[[1 1 1 1]\n",
        " [1 1 1 1]\n",
        " [1 1 1 2]\n",
        " [1 6 1 1]]\n",
        "[[ 0.  0.  0.  0.  0.]\n",
        " [ 2.  0.  0.  0.  0.]\n",
        " [ 0.  3.  0.  0.  0.]\n",
        " [ 0.  0.  4.  0.  0.]\n",
        " [ 0.  0.  0.  5.  0.]\n",
        " [ 0.  0.  0.  0.  6.]]\n"
       ]
      }
     ],
     "prompt_number": 32
    },
    {
     "cell_type": "markdown",
     "metadata": {},
     "source": [
      "**2. Read the documentation for np.tile and use this function to construct the following array:**\n",
      "\n",
      "[[4, 3, 4, 3, 4, 3],\n",
      "\n",
      " [2, 1, 2, 1, 2, 1],\n",
      " \n",
      " [4, 3, 4, 3, 4, 3],\n",
      " \n",
      " [2, 1, 2, 1, 2, 1]]"
     ]
    },
    {
     "cell_type": "code",
     "collapsed": false,
     "input": [],
     "language": "python",
     "metadata": {},
     "outputs": []
    }
   ],
   "metadata": {}
  }
 ]
}