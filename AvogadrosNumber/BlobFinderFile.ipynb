{
 "metadata": {
  "name": "",
  "signature": "sha256:55076898f6f7e630c76e0b27797cefcee8be2aaabcd557d407eaf702aa204d5b"
 },
 "nbformat": 3,
 "nbformat_minor": 0,
 "worksheets": [
  {
   "cells": [
    {
     "cell_type": "code",
     "collapsed": false,
     "input": [
      "#%%file Blobfinder.py\n",
      "\n",
      "class Blob():\n",
      "    def __init__(self):\n",
      "        # construct an empty blob\n",
      "        self.pixels = []\n",
      "    def add(self, i, j):\n",
      "        #add a pixel (i, j) to the blob\n",
      "        self.pixels.append((i,j))\n",
      "    def mass(self):\n",
      "        # return number of pixels added = its mass\n",
      "        return len(self.pixels)\n",
      "    def distanceTo(self, b):\n",
      "        # return distance between centers of masses of this blob and b\n",
      "        x1 = self.centerOfMass()[0]\n",
      "        x2 = b.centerOfMass()[0]\n",
      "        y1 = self.centerOfMass()[1]\n",
      "        y2 = b.centerOfMass()[1]\n",
      "        \n",
      "        dist = ((x2 - x1)**2 + (y2 - y1)**2)**0.5\n",
      "        return dist\n",
      "    def centerOfMass(self):\n",
      "        # return tuple of (x,y) values for this blob's center of mass\n",
      "        # format center-of-mass coordinates with 4 digits to right\n",
      "        # of decimal point\n",
      "        x = 0\n",
      "        y = 0\n",
      "        for coord in self.pixels:\n",
      "            x += coord[0]\n",
      "            y += coord[1]\n",
      "        x_avg = x/(len(self.pixels))\n",
      "        y_avg = y/(len(self.pixels))\n",
      "        return [x_avg, y_avg]  \n",
      "    \n",
      "def BlobFinder(picture, threshold):\n",
      "    \"\"\"loops over the pixels in the loaded image, \n",
      "    replacing the RGB values of each with either \n",
      "    black or white depending on whether its total \n",
      "    luminance is above or below some threshold \n",
      "    passed in by the user\"\"\"\n",
      "    black = (0, 0, 0)\n",
      "    white = (255, 255, 255)\n",
      "    xsize, ysize = picture.size\n",
      "    temp = picture.load()\n",
      "    for x in range(xsize):\n",
      "        for y in range(ysize):\n",
      "            r,g,b = temp[x,y]\n",
      "            if r+g+b >= threshold: \n",
      "                temp[x,y] = black\n",
      "            else:\n",
      "                temp[x,y] = white\n",
      "BLACK = (0,0,0)\n",
      "RED = (255,0,0)\n",
      "#Modified to accept which fillfunction to use\n",
      "def count(picture,fillfunc,P):\n",
      "    \"\"\"scan the image top to bottom and left to right using a nested loop.\n",
      "    when black pixel is found, increment the count, then call the fill\n",
      "    function to fill in all the pixels connected to that one.\"\"\"\n",
      "    xsize, ysize = picture.size\n",
      "    temp = picture.load()\n",
      "    result = 0\n",
      "    for x in range(xsize):\n",
      "        for y in range(ysize):\n",
      "            if temp[x,y] == BLACK:\n",
      "                fillfunc(temp,xsize,ysize,x,y)\n",
      "                if "
     ],
     "language": "python",
     "metadata": {},
     "outputs": [],
     "prompt_number": 38
    },
    {
     "cell_type": "code",
     "collapsed": false,
     "input": [
      "b = Blob()\n",
      "b.add(4,90)\n",
      "b.add(5,5)\n",
      "c = Blob()\n",
      "c.add(10,10)\n",
      "c.add(15,30)\n",
      "print b.mass()\n",
      "print b.centerOfMass()\n",
      "print c.mass()\n",
      "print c.centerOfMass()\n",
      "print b.distanceTo(c)"
     ],
     "language": "python",
     "metadata": {},
     "outputs": [
      {
       "output_type": "stream",
       "stream": "stdout",
       "text": [
        "2\n",
        "[4, 47]\n",
        "2\n",
        "[12, 20]\n",
        "28.1602556807\n"
       ]
      }
     ],
     "prompt_number": 39
    },
    {
     "cell_type": "code",
     "collapsed": false,
     "input": [],
     "language": "python",
     "metadata": {},
     "outputs": []
    }
   ],
   "metadata": {}
  }
 ]
}