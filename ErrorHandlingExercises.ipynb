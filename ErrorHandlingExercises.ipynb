{
 "metadata": {
  "name": "",
  "signature": "sha256:5380cdecece252583ea513f307c9fb93107448558f08daeec3c3296cb3c9e829"
 },
 "nbformat": 3,
 "nbformat_minor": 0,
 "worksheets": [
  {
   "cells": [
    {
     "cell_type": "heading",
     "level": 1,
     "metadata": {},
     "source": [
      "Error Handling Exercises"
     ]
    },
    {
     "cell_type": "markdown",
     "metadata": {},
     "source": [
      "**1.** Find a partner. Choose a driver and a navigator. The driver should copy their Battleship code to a cell in the driver's ErrorHandlingExercises notebook. The driver should explain to the navigator the basics of how their program works. Work together to add some error handling to the program. Include a markdown cell identifying the driver and navigator. When you are done, switch roles and let the navigator be the driver and vice versa. At the end you should both have a Battleship program that includes some error handling."
     ]
    },
    {
     "cell_type": "markdown",
     "metadata": {},
     "source": [
      "Driver:\n",
      "\n",
      "Navigator:"
     ]
    },
    {
     "cell_type": "code",
     "collapsed": false,
     "input": [
      "from ipythonblocks import BlockGrid\n",
      "from random import randint\n",
      "%pylab inline\n",
      "\n",
      "print \"Battleship! Guess a row and column, try and sink the ship!\"\n",
      "\n",
      "#Creates the board, 15 x 15 and a light blue color.\n",
      "board = BlockGrid(15,15, fill=(173, 216, 230))\n",
      "board.show()\n",
      "\n",
      "#Generates a random row for the ship to occupy.\n",
      "def random_row(board):\n",
      "    return randint(2, (board.width - 1))\n",
      "\n",
      "#Generates a random column for the ship to occupy.\n",
      "def random_col(board):\n",
      "    return randint(0, (board.height - 1))\n",
      "\n",
      "#This stores the value of the random square on the board in two variables.\n",
      "#Then, the ship is expanded in length by defining the variable ship_row1.\n",
      "ship_row = random_row(board)\n",
      "ship_col = random_col(board)\n",
      "ship_row1 = ship_row - 1\n",
      "\n",
      "#Initialize turn value and allow user to input number of desired turns.\n",
      "turn = 1\n",
      "number_of_turns = int(raw_input(\"Number of turns:\"))\n",
      "\n",
      "for turn in range(number_of_turns):\n",
      "    #Allow user to guess row and column values.\n",
      "    guess_row = int(raw_input(\"Guess Row:\"))\n",
      "    guess_col = int(raw_input(\"Guess Col:\"))\n",
      "    \n",
      "    #Turns the guessed block red if the guessed block is equal to the randomly generated one.\n",
      "    if guess_row == ship_row and guess_col == ship_col:\n",
      "        board[guess_row, guess_col].red = 255\n",
      "        board[guess_row, guess_col].blue = 0\n",
      "        board[guess_row, guess_col].green = 0\n",
      "        print \"You hit my battleship!\"\n",
      "    \n",
      "        #If, after guessing a correct block, both are red, then you win the game!\n",
      "        if board[ship_row, ship_col].red == 255 and board[ship_row1, ship_col].red == 255:\n",
      "            print \"You've won! You sunk my battleship!\"\n",
      "            board.show()\n",
      "            break\n",
      "            \n",
      "    #This is the same process as the if loop above but now for ship_row1        \n",
      "    elif guess_row == ship_row1 and guess_col == ship_col:    \n",
      "        board[ship_row1, guess_col].red = 255\n",
      "        board[ship_row1, guess_col].blue = 0\n",
      "        board[ship_row1, guess_col].green = 0\n",
      "        print \"You hit my battleship!\"\n",
      "        \n",
      "        if board[ship_row, ship_col].red == 255 and board[ship_row1, ship_col].red == 255:\n",
      "            print \"You've won! You sunk my battleship!\"\n",
      "            board.show()\n",
      "            break\n",
      "            \n",
      "    #If the player guesses something that is out of the board, they receive this message.        \n",
      "    elif (guess_row < 0 or guess_row > board.width) or (guess_col < 0 or \\\n",
      "        guess_col > board.height):\n",
      "            print \"Oops, that's not even in the ocean. Try again!\"\n",
      "            \n",
      "    #If the player makes a guess, but the block is already yellow or red, they will be promted telling them so.     \n",
      "    elif board[guess_row, guess_col].red == 255 or board[guess_row, guess_col].green == 255:\n",
      "        print \"You guessed that one already.\"\n",
      "    \n",
      "    #If none of the above loops can be entered, that means the player missed the battleship.    \n",
      "    else:\n",
      "        print \"You missed my battleship!\"\n",
      "        board[guess_row, guess_col] = (254, 255, 0)\n",
      "    \n",
      "    #This if loop determines when the game will finish based on the player's turns, and changes any unhit ship blocks to dark red.\n",
      "    if turn == number_of_turns - 1:\n",
      "        print \"Game Over\"\n",
      "        if board[ship_row, ship_col] != (255, 0, 0):\n",
      "            board[ship_row, ship_col] = (139, 0, 0)\n",
      "        else:\n",
      "            board[ship_row, ship_col] = (255, 0, 0)\n",
      "        if board[ship_row1,ship_col] != (255, 0, 0):\n",
      "            board[ship_row1,ship_col] = (139, 0, 0)\n",
      "        else:\n",
      "            board[ship_row1,ship_col] = (255, 0, 0)\n",
      "  \n",
      "    print \"Turn\", turn + 1\n",
      "    board.show()"
     ],
     "language": "python",
     "metadata": {},
     "outputs": []
    },
    {
     "cell_type": "markdown",
     "metadata": {},
     "source": [
      "Here is a function which takes a filename, opens the file, reads the result, closes the file, and returns the contents. It should look something like this:"
     ]
    },
    {
     "cell_type": "code",
     "collapsed": false,
     "input": [
      "def read_all_from_file(filename):\n",
      "    f = open(filename)\n",
      "    contents = f.read()\n",
      "    f.close()\n",
      "    return contents"
     ],
     "language": "python",
     "metadata": {},
     "outputs": [],
     "prompt_number": 1
    },
    {
     "cell_type": "markdown",
     "metadata": {},
     "source": [
      "Use runtime error handling concepts to improve this function, so that it does the following:\n",
      "\n",
      "* raises an informative custom error if the file doesn't exist\n",
      "* uses try, except, else, and/or finally to safely return the file's contents & close the file if necessary.\n",
      "* add a keyword safe which defaults to False. If the function is called with safe=True, then return an empty string if the file doesn't exist."
     ]
    },
    {
     "cell_type": "code",
     "collapsed": false,
     "input": [
      "def read_all_from_file(filename):\n",
      "    # your code here"
     ],
     "language": "python",
     "metadata": {},
     "outputs": []
    }
   ],
   "metadata": {}
  }
 ]
}