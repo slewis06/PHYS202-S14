{
 "metadata": {
  "name": "",
  "signature": "sha256:8596f3d862fe3ef61ee0515e136b36bdf2d87190dc523a763237571d9e337efa"
 },
 "nbformat": 3,
 "nbformat_minor": 0,
 "worksheets": [
  {
   "cells": [
    {
     "cell_type": "heading",
     "level": 1,
     "metadata": {},
     "source": [
      "Graphics Exercises"
     ]
    },
    {
     "cell_type": "code",
     "collapsed": false,
     "input": [
      "%pylab inline\n",
      "from scipy import misc\n",
      "from mpl_toolkits.mplot3d.axes3d import Axes3D\n",
      "from matplotlib import cm"
     ],
     "language": "python",
     "metadata": {},
     "outputs": [
      {
       "output_type": "stream",
       "stream": "stdout",
       "text": [
        "Populating the interactive namespace from numpy and matplotlib\n"
       ]
      }
     ],
     "prompt_number": 1
    },
    {
     "cell_type": "markdown",
     "metadata": {},
     "source": [
      "**1.** Have a look at the Matplotlib gallery, find a cool looking figure, use the %loadpy magic we used before to copy the code into the box below, and modify it. Note that some of the examples might require packages that are not installed on your machine (in particular those that make maps) - if this is the case, pick another example for the purposes of this exercise.\n",
      "\n",
      "Type %loadpy and then the URL of the py file containing the code, and it will automatically copy it into a cell below. Run the cell with the code to see the figure."
     ]
    },
    {
     "cell_type": "code",
     "collapsed": false,
     "input": [],
     "language": "python",
     "metadata": {},
     "outputs": []
    },
    {
     "cell_type": "markdown",
     "metadata": {},
     "source": [
      "**2.** Download the linked file called sunspots.txt, which contains the observed number of sunspots on the Sun for each month since January 1749. The file contains two columns of numbers, the first being the month and the second being the sunspot number. **(See note below\u2217 for how to download it.)**\n",
      "\n",
      "**(a)** Write some code that reads in the data and makes a graph of sunspots as a function of time. Format the x-axis labels to show every 25th year starting with 1750 e.g. (1750, 1775, 1800, 1825, 1850, etc.), instead of sunspot number. Be sure to think about how to make this graph publication quality, i.e. it should have labels, a legend, and customized (i.e. NOT default) color and data representation choices."
     ]
    },
    {
     "cell_type": "code",
     "collapsed": false,
     "input": [],
     "language": "python",
     "metadata": {},
     "outputs": []
    },
    {
     "cell_type": "markdown",
     "metadata": {},
     "source": [
      "**(b)** Now add code to calculate the running average of the data. Plot both the original data and the running average on the same graph, only over the range covered by the first 1000 data points."
     ]
    },
    {
     "cell_type": "code",
     "collapsed": false,
     "input": [],
     "language": "python",
     "metadata": {},
     "outputs": []
    },
    {
     "cell_type": "markdown",
     "metadata": {},
     "source": [
      "**3.** Download the linked file called stars.txt, which contains the temperatures and magnitudes of several thousand stars in the Milky Way near our solar system. You will use this data to construct a scatter plot of stellar magnitude (logarithm of brightness) vs. temperature (in Kelvin), called a Hertzsprung-Russell diagram, after the astronomers who first plotted such data this way. The diagram is one of the fundamental tools of stellar astrophysics. For historical reasons, H-R diagrams are normally plotted with both the magnitude and temperature axes decreasing to the right/up rather than increasing.\n",
      "\n",
      "**(a)** Read in the data from stars.txt and plot the data as is, with magnitude and temperature increasing in the usual way. Add labels and format your graph as publication quality.\n",
      " "
     ]
    },
    {
     "cell_type": "code",
     "collapsed": false,
     "input": [],
     "language": "python",
     "metadata": {},
     "outputs": []
    },
    {
     "cell_type": "markdown",
     "metadata": {},
     "source": [
      "**(b)** Now use the xlim() and ylim() commands to flip your graph so that it is a correct H-R diagram. There are several regions of the diagram where stars seem to cluster. Have a look at the wikipedia entry on H-R diagrams to find out what each of these regions are called and add some annotations to your graph to identify them."
     ]
    },
    {
     "cell_type": "code",
     "collapsed": false,
     "input": [],
     "language": "python",
     "metadata": {},
     "outputs": []
    },
    {
     "cell_type": "markdown",
     "metadata": {},
     "source": [
      "**4.** Make a 3D plot of the function G(x,y)=e(\u2212x2\u2212y2) over the range -6 <(x,y)< 6 using 51 bins in x and 51 bins in y."
     ]
    },
    {
     "cell_type": "markdown",
     "metadata": {},
     "source": [
      "**5.** Determine the electric potential for a quadrupole consisting of\n",
      "\n",
      "q1 = -1.0 nC at (-2 m, 0 m)\n",
      "\n",
      "q2 = -1.0 nC at (+2 m, 0 m)\n",
      "\n",
      "q3 = +1.0 nC at (0 m, -2 m)\n",
      "\n",
      "q4 = +1.0 nC at (0 m, +2 m)"
     ]
    },
    {
     "cell_type": "markdown",
     "metadata": {},
     "source": [
      "**(a)** Make a surface plot on the range -4 <(x,y)< 4 using 101 bins in x and 101 bins in y. In this case, do not let k = q = d = 1. Use dimensionful quantities and compute the value of the potential in volts.\n",
      "\n",
      "Recall k = 8.9875517873681764 \u00d7 10^9 N\u22c5 m^2/C^2.\n",
      " "
     ]
    },
    {
     "cell_type": "code",
     "collapsed": false,
     "input": [],
     "language": "python",
     "metadata": {},
     "outputs": []
    },
    {
     "cell_type": "markdown",
     "metadata": {},
     "source": [
      "**(b)** Now make a contour plot of the same data, with appropriate contour levels to see the shape of the potential."
     ]
    },
    {
     "cell_type": "code",
     "collapsed": false,
     "input": [],
     "language": "python",
     "metadata": {},
     "outputs": []
    },
    {
     "cell_type": "markdown",
     "metadata": {},
     "source": [
      "**6.** Find a juicy equation in a textbook from one of your classes and use LATEX to typeset it in a markdown cell. Include an explanation of what the equation is for."
     ]
    },
    {
     "cell_type": "code",
     "collapsed": false,
     "input": [],
     "language": "python",
     "metadata": {},
     "outputs": []
    }
   ],
   "metadata": {}
  }
 ]
}