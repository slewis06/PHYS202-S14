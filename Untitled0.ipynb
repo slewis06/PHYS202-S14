{
 "metadata": {
  "name": "",
  "signature": "sha256:9e7d9cae6776c7eabf1713dd99feee122448378211730e411b03d80e439c2e11"
 },
 "nbformat": 3,
 "nbformat_minor": 0,
 "worksheets": []
}