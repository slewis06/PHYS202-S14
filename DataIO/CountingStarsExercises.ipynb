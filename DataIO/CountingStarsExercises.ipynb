{
 "metadata": {
  "name": "",
  "signature": "sha256:d94b1bbf44c73f3c063f4dbc5c91de30d2f082a50d07c0bf7624de3d26148435"
 },
 "nbformat": 3,
 "nbformat_minor": 0,
 "worksheets": [
  {
   "cells": [
    {
     "cell_type": "heading",
     "level": 1,
     "metadata": {},
     "source": [
      "Counting Stars Exercises"
     ]
    },
    {
     "cell_type": "code",
     "collapsed": false,
     "input": [
      "%pylab inline\n",
      "import numpy as np\n",
      "import matplotlib.pyplot as plt\n",
      "from PIL import Image\n",
      "import requests\n",
      "from StringIO import StringIO"
     ],
     "language": "python",
     "metadata": {},
     "outputs": [
      {
       "output_type": "stream",
       "stream": "stdout",
       "text": [
        "Populating the interactive namespace from numpy and matplotlib\n"
       ]
      }
     ],
     "prompt_number": 20
    },
    {
     "cell_type": "markdown",
     "metadata": {},
     "source": [
      "**1.** Modify the fill function so that it never looks at the same pixel twice. There are at least two ways to do this. Name your new function fastfill. The function prototype might look something like this:\n",
      "\n",
      "def fastfill(picture, xsize, ysize, xstart, ystart):\n",
      "\n",
      "    \"\"\"Faster fill algorithm that doesn't look at any pixel more than once.\"\"\"\n",
      "    \n",
      "Be sure to include comments and add detail to the docstring to describe what it is doing."
     ]
    },
    {
     "cell_type": "code",
     "collapsed": false,
     "input": [
      "#Redefining all functions that I will be using.\n",
      "def monochrome(picture, threshold):\n",
      "    \"\"\"loops over the pixels in the loaded image, \n",
      "    replacing the RGB values of each with either \n",
      "    black or white depending on whether its total \n",
      "    luminance is above or below some threshold \n",
      "    passed in by the user\"\"\"\n",
      "    black = (0, 0, 0)\n",
      "    white = (255, 255, 255)\n",
      "    xsize, ysize = picture.size\n",
      "    temp = picture.load()\n",
      "    for x in range(xsize):\n",
      "        for y in range(ysize):\n",
      "            r,g,b = temp[x,y]\n",
      "            if r+g+b >= threshold: \n",
      "                temp[x,y] = black\n",
      "            else:\n",
      "                temp[x,y] = white"
     ],
     "language": "python",
     "metadata": {},
     "outputs": [],
     "prompt_number": 21
    },
    {
     "cell_type": "code",
     "collapsed": false,
     "input": [
      "#I began by making a blacklist that my fast fill function will check before itterating through the if loop.\n",
      "#If the pixel it is looking at is in the blacklist, it will not itterate through the if loop. \n",
      "#If the pixel is not in blacklist, the if loop will execute and then the pixel will be added to the black list\n",
      "#so that it isnt looked at again.\n",
      "def fastfill(picture, xsize, ysize, xstart, ystart):\n",
      "    BLACK = (0,0,0)\n",
      "    RED = (255,0,0)\n",
      "    \"\"\"Faster fill algorithm that doesn't look at any pixel more than once.\"\"\"\n",
      "    xsize, ysize = picture.size\n",
      "    blacklist = np.array((xsize, ysize))\n",
      "    queue = [(xstart,ystart)]\n",
      "    while queue:\n",
      "        x,y,queue = queue[0][0], queue[0][1], queue[1:]\n",
      "        if queue not in blacklist:\n",
      "            return\n",
      "        if picture[x,y] == BLACK:\n",
      "            picture[x,y] = RED\n",
      "            if x > 0:\n",
      "                queue.append((x-1,y))\n",
      "                np.insert(blacklist, x-1, y)\n",
      "            if x < (xsize-1):\n",
      "                queue.append((x+1,y))\n",
      "                np.insert(blacklist, x+1, y)\n",
      "            if y > 0:\n",
      "                queue.append((x, y-1))\n",
      "                np.insert(blacklist, x, y-1)\n",
      "            if y < (ysize-1):\n",
      "                queue.append((x, y+1))\n",
      "                np.insert(blacklist, x, y+1)\n"
     ],
     "language": "python",
     "metadata": {},
     "outputs": [],
     "prompt_number": 44
    },
    {
     "cell_type": "markdown",
     "metadata": {},
     "source": [
      "**2.** Modify your count function to take another argument - which fill function to use - and compare the time it takes to count the stars using the original fill, your improved fastfill, and the recursive recfill.\n",
      " "
     ]
    },
    {
     "cell_type": "code",
     "collapsed": false,
     "input": [
      "def fill(picture, xsize, ysize, xstart, ystart):\n",
      "    \"\"\"keep a list of pixels that need to be looked at, \n",
      "    but haven't yet been filled in - a list of the (x,y) \n",
      "    coordinates of pixels that are neighbors of ones we have \n",
      "    already examined.  Keep looping until there's nothing \n",
      "    left in this list\"\"\"\n",
      "    queue = [(xstart,ystart)]\n",
      "    while queue:\n",
      "        x,y,queue = queue[0][0], queue[0][1], queue[1:]\n",
      "        if picture[x,y] == BLACK:\n",
      "            picture[x,y] = RED\n",
      "            if x > 0:\n",
      "                queue.append((x-1,y))\n",
      "            if x < (xsize-1):\n",
      "                queue.append((x+1,y))\n",
      "            if y > 0:\n",
      "                queue.append((x, y-1))\n",
      "            if y < (ysize-1):\n",
      "                queue.append((x, y+1))"
     ],
     "language": "python",
     "metadata": {},
     "outputs": [],
     "prompt_number": 23
    },
    {
     "cell_type": "code",
     "collapsed": false,
     "input": [
      "def fillrec(picture, xsize, ysize, x, y):\n",
      "    \"\"\"each call to 'fillrec' takes care of one pixel, \n",
      "    then calls 'fillrec' again to take care of the neighbors\"\"\"\n",
      "    BLACK = (0,0,0)\n",
      "    RED = (255,0,0)\n",
      "    if picture[x,y] != BLACK:\n",
      "        return\n",
      "    picture[x,y] = RED\n",
      "    if x > 0:\n",
      "        fillrec(picture, xsize, ysize, x-1, y)\n",
      "    if x < (xsize-1):\n",
      "        fillrec(picture, xsize, ysize, x+1, y)\n",
      "    if y > 0:\n",
      "        fillrec(picture, xsize, ysize, x, y-1)\n",
      "    if y < (ysize-1):\n",
      "        fillrec(picture, xsize, ysize, x, y+1)"
     ],
     "language": "python",
     "metadata": {},
     "outputs": [],
     "prompt_number": 24
    },
    {
     "cell_type": "code",
     "collapsed": false,
     "input": [
      "BLACK = (0,0,0)\n",
      "RED = (255,0,0)\n",
      "def count(picture, function):\n",
      "    \"\"\"scan the image top to bottom and left to right using a nested loop.\n",
      "    when black pixel is found, increment the count, then call the fill\n",
      "    function to fill in all the pixels connected to that one.\"\"\"\n",
      "    xsize, ysize = picture.size\n",
      "    temp = picture.load()\n",
      "    result = 0\n",
      "    for x in range(xsize):\n",
      "        for y in range(ysize):\n",
      "            if temp[x,y] == BLACK:\n",
      "                result += 1\n",
      "                function(temp,xsize,ysize,x,y)\n",
      "    return result"
     ],
     "language": "python",
     "metadata": {},
     "outputs": [],
     "prompt_number": 39
    },
    {
     "cell_type": "code",
     "collapsed": false,
     "input": [
      "response = requests.get(\"http://imgsrc.hubblesite.org/hu/db/images/hs-2004-20-a-large_web.jpg\")\n",
      "pic = Image.open(StringIO(response.content))\n",
      "\n",
      "bwpic = Image.open(StringIO(response.content))\n",
      "monochrome(bwpic,200+200+200)\n"
     ],
     "language": "python",
     "metadata": {},
     "outputs": [],
     "prompt_number": 26
    },
    {
     "cell_type": "code",
     "collapsed": false,
     "input": [
      "%timeit count(bwpic, fill)"
     ],
     "language": "python",
     "metadata": {},
     "outputs": [
      {
       "output_type": "stream",
       "stream": "stdout",
       "text": [
        "10 loops, best of 3: 114 ms per loop\n"
       ]
      }
     ],
     "prompt_number": 27
    },
    {
     "cell_type": "code",
     "collapsed": false,
     "input": [
      "%timeit count(bwpic, fillrec)"
     ],
     "language": "python",
     "metadata": {},
     "outputs": [
      {
       "output_type": "stream",
       "stream": "stdout",
       "text": [
        "10 loops, best of 3: 118 ms per loop\n"
       ]
      }
     ],
     "prompt_number": 28
    },
    {
     "cell_type": "code",
     "collapsed": false,
     "input": [
      "a,b = pic.size\n",
      "fastfill(bwpic, a, b, 0, 0)\n",
      "%timeit count(bwpic, fastfill)"
     ],
     "language": "python",
     "metadata": {},
     "outputs": [
      {
       "output_type": "stream",
       "stream": "stdout",
       "text": [
        "10 loops, best of 3: 130 ms per loop\n"
       ]
      }
     ],
     "prompt_number": 48
    },
    {
     "cell_type": "markdown",
     "metadata": {},
     "source": [
      "**3.** Use the fastest algorithm from question 2 to count the stars above a threshold in all of the images listed at the top of the page. How does the count for each image change if you lower the threshold from 600 to 500? Comment on any changes to the count. Why do they happen?"
     ]
    },
    {
     "cell_type": "code",
     "collapsed": false,
     "input": [
      "#For this problem, I just took each picture, ran it through the process seen in the Counting Stars Tour,\n",
      "#then put it through the redefined count function from problem 2.\n",
      "\n",
      "print \"Picture 1\"\n",
      "response1 = requests.get(\"http://imgsrc.hubblesite.org/hu/db/images/hs-1993-13-a-large_web.jpg\")\n",
      "bwpic = Image.open(StringIO(response1.content))\n",
      "monochrome(bwpic,200+200+200)\n",
      "xsize, ysize = pic.size\n",
      "\n",
      "print \"Fillrec 600 threshold:\", count(bwpic, fillrec)\n",
      "\n",
      "#This is the same picture, but I changed the threshold in monochrome to 500.\n",
      "response1 = requests.get(\"http://imgsrc.hubblesite.org/hu/db/images/hs-1993-13-a-large_web.jpg\")\n",
      "bwpic = Image.open(StringIO(response1.content))\n",
      "monochrome(bwpic,200+200+100)\n",
      "\n",
      "print \"Fillrec with a 500 threshold:\", count(bwpic, fillrec)"
     ],
     "language": "python",
     "metadata": {},
     "outputs": [
      {
       "output_type": "stream",
       "stream": "stdout",
       "text": [
        "Picture 1\n",
        "Fillrec 600 threshold:"
       ]
      },
      {
       "output_type": "stream",
       "stream": "stdout",
       "text": [
        " 72\n",
        "Fillrec with a 500 threshold:"
       ]
      },
      {
       "output_type": "stream",
       "stream": "stdout",
       "text": [
        " 77\n"
       ]
      }
     ],
     "prompt_number": 31
    },
    {
     "cell_type": "code",
     "collapsed": false,
     "input": [
      "#Rinse and repeat for the next picture.\n",
      "response2 = requests.get(\"http://imgsrc.hubblesite.org/hu/db/images/hs-1995-32-c-full_jpg.jpg\")\n",
      "bwpic2 = Image.open(StringIO(response2.content))\n",
      "monochrome(bwpic2,200+200+200)\n",
      "\n",
      "print \"picture 2\"\n",
      "print \"Fillrec 600 threshold:\", count(bwpic2, fillrec)\n",
      "\n",
      "response2 = requests.get(\"http://imgsrc.hubblesite.org/hu/db/images/hs-1995-32-c-full_jpg.jpg\")\n",
      "bwpic2 = Image.open(StringIO(response2.content))\n",
      "monochrome(bwpic2,200+200+100)\n",
      "\n",
      "\n",
      "print \"Fillrec 500 threshold:\", count(bwpic2, fillrec)"
     ],
     "language": "python",
     "metadata": {},
     "outputs": [
      {
       "output_type": "stream",
       "stream": "stdout",
       "text": [
        "picture 2\n",
        "Fillrec 600 threshold: "
       ]
      },
      {
       "output_type": "stream",
       "stream": "stdout",
       "text": [
        "82\n",
        "Fillrec 500 threshold:"
       ]
      },
      {
       "output_type": "stream",
       "stream": "stdout",
       "text": [
        " 117\n"
       ]
      }
     ],
     "prompt_number": 32
    },
    {
     "cell_type": "code",
     "collapsed": false,
     "input": [
      "response3 = requests.get(\"http://imgsrc.hubblesite.org/hu/db/images/hs-2002-10-c-large_web.jpg\")\n",
      "bwpic3 = Image.open(StringIO(response3.content))\n",
      "monochrome(bwpic3,200+200+200)\n",
      "\n",
      "print \"picture 3\"\n",
      "print \"Fillrec 600 threshold:\", count(bwpic3, fillrec)\n",
      "\n",
      "response3 = requests.get(\"http://imgsrc.hubblesite.org/hu/db/images/hs-2002-10-c-large_web.jpg\")\n",
      "bwpic3 = Image.open(StringIO(response3.content))\n",
      "monochrome(bwpic3,200+200+190)\n",
      "plt.imshow(bwpic3)\n",
      "\n",
      "print \"Fillrec 590 threshold:\", count(bwpic3, fillrec)\n",
      "\n",
      "#A threshold of 500 produces an error because the \"black\" stars begin to go off the picture."
     ],
     "language": "python",
     "metadata": {},
     "outputs": [
      {
       "output_type": "stream",
       "stream": "stdout",
       "text": [
        "picture 3\n",
        "Fillrec 600 threshold: "
       ]
      },
      {
       "output_type": "stream",
       "stream": "stdout",
       "text": [
        "246\n",
        "Fillrec 590 threshold:"
       ]
      },
      {
       "output_type": "stream",
       "stream": "stdout",
       "text": [
        " 245\n"
       ]
      },
      {
       "metadata": {},
       "output_type": "display_data",
       "png": "[encoded data removed]",
       "text": [
        "<matplotlib.figure.Figure at 0x10878fa90>"
       ]
      }
     ],
     "prompt_number": 33
    },
    {
     "cell_type": "code",
     "collapsed": false,
     "input": [
      "response3 = requests.get(\"http://imgsrc.hubblesite.org/hu/db/images/hs-1999-30-b-full_jpg.jpg\")\n",
      "bwpic3 = Image.open(StringIO(response3.content))\n",
      "monochrome(bwpic3,200+200+200)\n",
      "\n",
      "print \"picture 4\"\n",
      "print \"Fillrec 600 threshold:\", count(bwpic3, fillrec)\n",
      "\n",
      "response3 = requests.get(\"http://imgsrc.hubblesite.org/hu/db/images/hs-1999-30-b-full_jpg.jpg\")\n",
      "bwpic3 = Image.open(StringIO(response3.content))\n",
      "monochrome(bwpic3,200+200+100)\n",
      "\n",
      "\n",
      "print \"Fillrec 500 threshold:\", count(bwpic3, fillrec)"
     ],
     "language": "python",
     "metadata": {},
     "outputs": [
      {
       "output_type": "stream",
       "stream": "stdout",
       "text": [
        "picture 4\n",
        "Fillrec 600 threshold: "
       ]
      },
      {
       "output_type": "stream",
       "stream": "stdout",
       "text": [
        "320\n",
        "Fillrec 500 threshold:"
       ]
      },
      {
       "output_type": "stream",
       "stream": "stdout",
       "text": [
        " 355\n"
       ]
      }
     ],
     "prompt_number": 34
    },
    {
     "cell_type": "code",
     "collapsed": false,
     "input": [
      "response4 = requests.get(\"http://imgsrc.hubblesite.org/hu/db/images/hs-2004-20-a-large_web.jpg\")\n",
      "bwpic4 = Image.open(StringIO(response4.content))\n",
      "monochrome(bwpic4,200+200+200)\n",
      "\n",
      "print \"picture 5\"\n",
      "print \"Fillrec 600 threshold:\", count(bwpic4, fillrec)\n",
      "\n",
      "response4 = requests.get(\"http://imgsrc.hubblesite.org/hu/db/images/hs-2004-20-a-large_web.jpg\")\n",
      "bwpic4 = Image.open(StringIO(response4.content))\n",
      "monochrome(bwpic4,200+200+100)\n",
      "\n",
      "\n",
      "print \"Fillrec 500 threshold:\", count(bwpic4, fillrec)"
     ],
     "language": "python",
     "metadata": {},
     "outputs": [
      {
       "output_type": "stream",
       "stream": "stdout",
       "text": [
        "picture 5\n",
        "Fillrec 600 threshold: "
       ]
      },
      {
       "output_type": "stream",
       "stream": "stdout",
       "text": [
        "121\n",
        "Fillrec 500 threshold:"
       ]
      },
      {
       "output_type": "stream",
       "stream": "stdout",
       "text": [
        " 210\n"
       ]
      }
     ],
     "prompt_number": 35
    },
    {
     "cell_type": "markdown",
     "metadata": {},
     "source": [
      "When the threshold is changed from 600 to 500, pixels that were originally excluded due to their lack of brightness are now included. The result is more stars being represented after the monochrome function itterates through the picture."
     ]
    },
    {
     "cell_type": "markdown",
     "metadata": {},
     "source": [
      "**4.** Write a variation on your count function to keep track of the pixels in a given blob and use the brightest pixel in the blob as the \"location\" of the star. Use the data I/O skills we learned to write out a text (not binary) file containing\n",
      "* a header which includes\n",
      "* the link to the image\n",
      "* the threshold value used in the conversion to monochrome\n",
      "* the algorithm used to count its stars\n",
      "* how fast it processed the image\n",
      "* how many stars were found\n",
      "* a description of the data in the subsequent columns\n",
      "* a list of the star data organized in three columns and formatted for easy reading as follows:\n",
      "* location (x,y in pixel units)\n",
      "* maximum brightness value for the star\n",
      "\n",
      "Apply your function to the six images at the top of the page."
     ]
    },
    {
     "cell_type": "code",
     "collapsed": false,
     "input": [
      "from time import time\n",
      "def elapsed(func, picture):\n",
      "    \"\"\"takes a function and a picture as arguments,\n",
      "    applies the function to the picture and returns the\n",
      "    elapsed time along with whatever the function itself\n",
      "    returned.\"\"\"\n",
      "    start = time()\n",
      "    result = func(picture)\n",
      "    return time() - start, result"
     ],
     "language": "python",
     "metadata": {},
     "outputs": [],
     "prompt_number": 36
    },
    {
     "cell_type": "code",
     "collapsed": false,
     "input": [
      "def brightest(picture):\n",
      "    \"\"\"adds up each pixel's color values to \n",
      "    approximate its overall luminance\"\"\"\n",
      "    xsize, ysize = pic.size\n",
      "    max_val = 0 \n",
      "    for x in range(xsize):\n",
      "        for y in range(ysize):\n",
      "            r,g,b = pic.getpixel((x,y))\n",
      "            if r+g+b > max_val:\n",
      "                bx, by, max_val = x, y, r+g+b\n",
      "    return (bx,by), max_val"
     ],
     "language": "python",
     "metadata": {},
     "outputs": [],
     "prompt_number": 37
    },
    {
     "cell_type": "code",
     "collapsed": false,
     "input": [
      "def thecount(url, thresh, func):\n",
      "    #I redefined the inputs so that they are strings to be added to the header later.\n",
      "    url1 = str(url)\n",
      "    thresh1 = str(thresh)\n",
      "    func1 = str(func)\n",
      "    #Here I get the picture and run it through the process seen in problem 3.\n",
      "    response = requests.get(url)\n",
      "    pic0 = Image.open(StringIO(response.content))\n",
      "    monochrome(pic0, thresh)\n",
      "    stars = str(count(pic0, func))\n",
      "    #I then run the count function through the elapsed function to get the time it took.\n",
      "    time = str(elapsed(count, pic0))\n",
      "    xsize, ysize = pic0.size\n",
      "    temp = picture.load()\n",
      "    result = 0\n",
      "    BLACK = (0,0,0)\n",
      "    RED = (255,0,0)\n",
      "    lst = []\n",
      "    for x in range(xsize):\n",
      "        for y in range(ysize):\n",
      "            if temp[x,y] == BLACK:\n",
      "                result += 1\n",
      "                function(temp,xsize,ysize,x,y)\n",
      "                lst.append((x,y))\n",
      "    arr = np.array(lst)\n",
      "    return result\n",
      "\n",
      "    #The header for the text file to contain all star information.\n",
      "    my_header = \"URL:\" + url1 + \";\" + \"Threshold\" + thresh1 + \";\" + \\\n",
      "\"Function Used:\" + func1 + \";\" + \"Time:\" + time + \";\" + \"Number of Stars:\" + stars\n",
      "    #Saves the file as stars.txt\n",
      "    savetxt(\"stars.txt\", header = my_header)\n",
      "    \n",
      "#Call thecount function and cat the saved file.\n",
      "thecount(\"http://imgsrc.hubblesite.org/hu/db/images/hs-2004-20-a-large_web.jpg\", 600, fillrec)\n",
      "!cat \"stars.txt\""
     ],
     "language": "python",
     "metadata": {},
     "outputs": [
      {
       "ename": "TypeError",
       "evalue": "count() takes exactly 2 arguments (1 given)",
       "output_type": "pyerr",
       "traceback": [
        "\u001b[0;31m---------------------------------------------------------------------------\u001b[0m\n\u001b[0;31mTypeError\u001b[0m                                 Traceback (most recent call last)",
        "\u001b[0;32m<ipython-input-57-45521e651f25>\u001b[0m in \u001b[0;36m<module>\u001b[0;34m()\u001b[0m\n\u001b[1;32m     29\u001b[0m     \u001b[0msavetxt\u001b[0m\u001b[0;34m(\u001b[0m\u001b[0;34m\"stars.txt\"\u001b[0m\u001b[0;34m,\u001b[0m \u001b[0mheader\u001b[0m \u001b[0;34m=\u001b[0m \u001b[0mmy_header\u001b[0m\u001b[0;34m)\u001b[0m\u001b[0;34m\u001b[0m\u001b[0m\n\u001b[1;32m     30\u001b[0m \u001b[0;34m\u001b[0m\u001b[0m\n\u001b[0;32m---> 31\u001b[0;31m \u001b[0mthecount\u001b[0m\u001b[0;34m(\u001b[0m\u001b[0;34m\"http://imgsrc.hubblesite.org/hu/db/images/hs-2004-20-a-large_web.jpg\"\u001b[0m\u001b[0;34m,\u001b[0m \u001b[0;36m600\u001b[0m\u001b[0;34m,\u001b[0m \u001b[0mfillrec\u001b[0m\u001b[0;34m)\u001b[0m\u001b[0;34m\u001b[0m\u001b[0m\n\u001b[0m\u001b[1;32m     32\u001b[0m \u001b[0mget_ipython\u001b[0m\u001b[0;34m(\u001b[0m\u001b[0;34m)\u001b[0m\u001b[0;34m.\u001b[0m\u001b[0msystem\u001b[0m\u001b[0;34m(\u001b[0m\u001b[0;34mu'cat \"stars.txt\"'\u001b[0m\u001b[0;34m)\u001b[0m\u001b[0;34m\u001b[0m\u001b[0m\n",
        "\u001b[0;32m<ipython-input-57-45521e651f25>\u001b[0m in \u001b[0;36mthecount\u001b[0;34m(url, thresh, func)\u001b[0m\n\u001b[1;32m     10\u001b[0m     \u001b[0mstars\u001b[0m \u001b[0;34m=\u001b[0m \u001b[0mstr\u001b[0m\u001b[0;34m(\u001b[0m\u001b[0mcount\u001b[0m\u001b[0;34m(\u001b[0m\u001b[0mpic0\u001b[0m\u001b[0;34m,\u001b[0m \u001b[0mfunc\u001b[0m\u001b[0;34m)\u001b[0m\u001b[0;34m)\u001b[0m\u001b[0;34m\u001b[0m\u001b[0m\n\u001b[1;32m     11\u001b[0m     \u001b[0;31m#I then run the count function through the elapsed function to get the time it took.\u001b[0m\u001b[0;34m\u001b[0m\u001b[0;34m\u001b[0m\u001b[0m\n\u001b[0;32m---> 12\u001b[0;31m     \u001b[0mtime\u001b[0m \u001b[0;34m=\u001b[0m \u001b[0mstr\u001b[0m\u001b[0;34m(\u001b[0m\u001b[0melapsed\u001b[0m\u001b[0;34m(\u001b[0m\u001b[0mcount\u001b[0m\u001b[0;34m,\u001b[0m \u001b[0mpic0\u001b[0m\u001b[0;34m)\u001b[0m\u001b[0;34m)\u001b[0m\u001b[0;34m\u001b[0m\u001b[0m\n\u001b[0m\u001b[1;32m     13\u001b[0m     \u001b[0mxsize\u001b[0m\u001b[0;34m,\u001b[0m \u001b[0mysize\u001b[0m \u001b[0;34m=\u001b[0m \u001b[0mpic0\u001b[0m\u001b[0;34m.\u001b[0m\u001b[0msize\u001b[0m\u001b[0;34m\u001b[0m\u001b[0m\n\u001b[1;32m     14\u001b[0m     \u001b[0mtemp\u001b[0m \u001b[0;34m=\u001b[0m \u001b[0mpicture\u001b[0m\u001b[0;34m.\u001b[0m\u001b[0mload\u001b[0m\u001b[0;34m(\u001b[0m\u001b[0;34m)\u001b[0m\u001b[0;34m\u001b[0m\u001b[0m\n",
        "\u001b[0;32m<ipython-input-36-0270e889a1de>\u001b[0m in \u001b[0;36melapsed\u001b[0;34m(func, picture)\u001b[0m\n\u001b[1;32m      6\u001b[0m     returned.\"\"\"\n\u001b[1;32m      7\u001b[0m     \u001b[0mstart\u001b[0m \u001b[0;34m=\u001b[0m \u001b[0mtime\u001b[0m\u001b[0;34m(\u001b[0m\u001b[0;34m)\u001b[0m\u001b[0;34m\u001b[0m\u001b[0m\n\u001b[0;32m----> 8\u001b[0;31m     \u001b[0mresult\u001b[0m \u001b[0;34m=\u001b[0m \u001b[0mfunc\u001b[0m\u001b[0;34m(\u001b[0m\u001b[0mpicture\u001b[0m\u001b[0;34m)\u001b[0m\u001b[0;34m\u001b[0m\u001b[0m\n\u001b[0m\u001b[1;32m      9\u001b[0m     \u001b[0;32mreturn\u001b[0m \u001b[0mtime\u001b[0m\u001b[0;34m(\u001b[0m\u001b[0;34m)\u001b[0m \u001b[0;34m-\u001b[0m \u001b[0mstart\u001b[0m\u001b[0;34m,\u001b[0m \u001b[0mresult\u001b[0m\u001b[0;34m\u001b[0m\u001b[0m\n",
        "\u001b[0;31mTypeError\u001b[0m: count() takes exactly 2 arguments (1 given)"
       ]
      }
     ],
     "prompt_number": 57
    },
    {
     "cell_type": "code",
     "collapsed": false,
     "input": [],
     "language": "python",
     "metadata": {},
     "outputs": []
    },
    {
     "cell_type": "code",
     "collapsed": false,
     "input": [],
     "language": "python",
     "metadata": {},
     "outputs": []
    }
   ],
   "metadata": {}
  }
 ]
}