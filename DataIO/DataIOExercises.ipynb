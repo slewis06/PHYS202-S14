{
 "metadata": {
  "name": "",
  "signature": "sha256:c111acadef8feecad582c7743f08e3eaf52a22f5bb844d6a19603af7dc93591b"
 },
 "nbformat": 3,
 "nbformat_minor": 0,
 "worksheets": [
  {
   "cells": [
    {
     "cell_type": "heading",
     "level": 1,
     "metadata": {},
     "source": [
      "Data I/O Exercises"
     ]
    },
    {
     "cell_type": "code",
     "collapsed": false,
     "input": [
      "%pylab inline\n",
      "import numpy as np"
     ],
     "language": "python",
     "metadata": {},
     "outputs": [
      {
       "output_type": "stream",
       "stream": "stdout",
       "text": [
        "Populating the interactive namespace from numpy and matplotlib\n"
       ]
      }
     ],
     "prompt_number": 1
    },
    {
     "cell_type": "markdown",
     "metadata": {},
     "source": [
      "**1.** Here is some code that creates a comma-delimited file of numbers with random precision, leading spaces, and formatting:"
     ]
    },
    {
     "cell_type": "code",
     "collapsed": false,
     "input": [
      "# Don't modify this: it simply writes the example file\n",
      "f = open('messy_data.dat', 'w')\n",
      "import random\n",
      "for i in range(100):\n",
      "    for j in range(5):\n",
      "        f.write(' ' * random.randint(0, 6))\n",
      "        f.write('%0*.*g' % (random.randint(8, 12),\n",
      "                            random.randint(5, 10),\n",
      "                            100 * random.random()))\n",
      "        if j != 4:\n",
      "            f.write(',')\n",
      "    f.write('\\n')\n",
      "f.close()"
     ],
     "language": "python",
     "metadata": {},
     "outputs": [],
     "prompt_number": 2
    },
    {
     "cell_type": "code",
     "collapsed": false,
     "input": [
      "# Look at the first four lines of the file:\n",
      "!head -4 messy_data.dat"
     ],
     "language": "python",
     "metadata": {},
     "outputs": [
      {
       "output_type": "stream",
       "stream": "stdout",
       "text": [
        "      00056.599,     000090.255, 000043.901,   00080.819157,      0054.661728\r\n",
        "     0088.518135,      000017.60455,   068.30768,  097.02723742, 0020.059411\r\n",
        "    98.6096197, 82.944481,   006.14912696,  30.61529796,    51.67519305\r\n",
        "47.24119,   00050.209955,67.7905421,000041.272, 0037.5198\r\n"
       ]
      }
     ],
     "prompt_number": 3
    },
    {
     "cell_type": "markdown",
     "metadata": {},
     "source": [
      "**(a)** Write a program that reads in the contents of \"messy_data.dat\" and extracts the numbers from each line, using the string manipulations we used in section 1 (remember that float() will convert a suitable string to a floating-point number)."
     ]
    },
    {
     "cell_type": "code",
     "collapsed": false,
     "input": [
      "lst = []\n",
      "f = open('messy_data.dat')\n",
      "for line in open('messy_data.dat'):\n",
      "    line.split\n",
      "    for num in line:\n",
      "        num = float(num)\n",
      "        lst.append(num)\n",
      "        \n",
      "f.close()"
     ],
     "language": "python",
     "metadata": {},
     "outputs": [
      {
       "ename": "ValueError",
       "evalue": "could not convert string to float: ",
       "output_type": "pyerr",
       "traceback": [
        "\u001b[0;31m---------------------------------------------------------------------------\u001b[0m\n\u001b[0;31mValueError\u001b[0m                                Traceback (most recent call last)",
        "\u001b[0;32m<ipython-input-6-865ca7e5828c>\u001b[0m in \u001b[0;36m<module>\u001b[0;34m()\u001b[0m\n\u001b[1;32m      4\u001b[0m     \u001b[0mline\u001b[0m\u001b[0;34m.\u001b[0m\u001b[0msplit\u001b[0m\u001b[0;34m\u001b[0m\u001b[0m\n\u001b[1;32m      5\u001b[0m     \u001b[0;32mfor\u001b[0m \u001b[0mnum\u001b[0m \u001b[0;32min\u001b[0m \u001b[0mline\u001b[0m\u001b[0;34m:\u001b[0m\u001b[0;34m\u001b[0m\u001b[0m\n\u001b[0;32m----> 6\u001b[0;31m         \u001b[0mnum\u001b[0m \u001b[0;34m=\u001b[0m \u001b[0mfloat\u001b[0m\u001b[0;34m(\u001b[0m\u001b[0mnum\u001b[0m\u001b[0;34m)\u001b[0m\u001b[0;34m\u001b[0m\u001b[0m\n\u001b[0m\u001b[1;32m      7\u001b[0m         \u001b[0mlst\u001b[0m\u001b[0;34m.\u001b[0m\u001b[0mappend\u001b[0m\u001b[0;34m(\u001b[0m\u001b[0mnum\u001b[0m\u001b[0;34m)\u001b[0m\u001b[0;34m\u001b[0m\u001b[0m\n\u001b[1;32m      8\u001b[0m \u001b[0;34m\u001b[0m\u001b[0m\n",
        "\u001b[0;31mValueError\u001b[0m: could not convert string to float: "
       ]
      }
     ],
     "prompt_number": 6
    },
    {
     "cell_type": "markdown",
     "metadata": {},
     "source": [
      "**(b)** Next write out a new file named \"clean_data.dat\". The new file should contain the same data as the old file, but with uniform formatting and aligned columns."
     ]
    },
    {
     "cell_type": "code",
     "collapsed": false,
     "input": [],
     "language": "python",
     "metadata": {},
     "outputs": [],
     "prompt_number": 11
    },
    {
     "cell_type": "markdown",
     "metadata": {},
     "source": [
      "**(c)** Now re-do the same task using NumPy's loadtxt and savetxt functions."
     ]
    },
    {
     "cell_type": "code",
     "collapsed": false,
     "input": [],
     "language": "python",
     "metadata": {},
     "outputs": []
    }
   ],
   "metadata": {}
  }
 ]
}