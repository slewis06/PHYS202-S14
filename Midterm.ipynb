{
 "metadata": {
  "name": "",
  "signature": "sha256:8554f81e14e2e963da18e640bf5541026db5d2e4691ef1c191a877ee96b57347"
 },
 "nbformat": 3,
 "nbformat_minor": 0,
 "worksheets": [
  {
   "cells": [
    {
     "cell_type": "heading",
     "level": 1,
     "metadata": {},
     "source": [
      "Midterm"
     ]
    },
    {
     "cell_type": "heading",
     "level": 2,
     "metadata": {},
     "source": [
      "Question 1"
     ]
    },
    {
     "cell_type": "code",
     "collapsed": false,
     "input": [
      "prefixes = 'JKLMNOPQ' \n",
      "suffix = 'ack'\n",
      "for letter in prefixes:\n",
      "    if letter == 'O' or letter == 'Q':\n",
      "        print letter + 'u' + suffix\n",
      "    else:\n",
      "        print letter + suffix"
     ],
     "language": "python",
     "metadata": {},
     "outputs": [
      {
       "output_type": "stream",
       "stream": "stdout",
       "text": [
        "Jack\n",
        "Kack\n",
        "Lack\n",
        "Mack\n",
        "Nack\n",
        "Ouack\n",
        "Pack\n",
        "Quack\n"
       ]
      }
     ],
     "prompt_number": 3
    },
    {
     "cell_type": "heading",
     "level": 2,
     "metadata": {},
     "source": [
      "Question 2"
     ]
    },
    {
     "cell_type": "code",
     "collapsed": false,
     "input": [
      "from ipythonblocks import BlockGrid"
     ],
     "language": "python",
     "metadata": {},
     "outputs": [],
     "prompt_number": 4
    },
    {
     "cell_type": "code",
     "collapsed": false,
     "input": [
      "grid = BlockGrid(8, 8, fill=(255, 0, 0))\n",
      "\n",
      "grid[1:6,1] = (0,0,255)\n",
      "grid[6,1:6] = (0,0,255)\n",
      "\n",
      "grid"
     ],
     "language": "python",
     "metadata": {},
     "outputs": [
      {
       "html": [
        "<style type=\"text/css\">table.blockgrid {border: none;} .blockgrid tr {border: none;} .blockgrid td {padding: 0px;} #blocks36002451-4ae9-4784-9f2c-fc4a9873c428 td {border: 1px solid white;}</style><table id=\"blocks36002451-4ae9-4784-9f2c-fc4a9873c428\" class=\"blockgrid\"><tbody><tr><td title=\"Index: [0, 0]&#10;Color: (255, 0, 0)\" style=\"width: 20px; height: 20px;background-color: rgb(255, 0, 0);\"></td><td title=\"Index: [0, 1]&#10;Color: (255, 0, 0)\" style=\"width: 20px; height: 20px;background-color: rgb(255, 0, 0);\"></td><td title=\"Index: [0, 2]&#10;Color: (255, 0, 0)\" style=\"width: 20px; height: 20px;background-color: rgb(255, 0, 0);\"></td><td title=\"Index: [0, 3]&#10;Color: (255, 0, 0)\" style=\"width: 20px; height: 20px;background-color: rgb(255, 0, 0);\"></td><td title=\"Index: [0, 4]&#10;Color: (255, 0, 0)\" style=\"width: 20px; height: 20px;background-color: rgb(255, 0, 0);\"></td><td title=\"Index: [0, 5]&#10;Color: (255, 0, 0)\" style=\"width: 20px; height: 20px;background-color: rgb(255, 0, 0);\"></td><td title=\"Index: [0, 6]&#10;Color: (255, 0, 0)\" style=\"width: 20px; height: 20px;background-color: rgb(255, 0, 0);\"></td><td title=\"Index: [0, 7]&#10;Color: (255, 0, 0)\" style=\"width: 20px; height: 20px;background-color: rgb(255, 0, 0);\"></td></tr><tr><td title=\"Index: [1, 0]&#10;Color: (255, 0, 0)\" style=\"width: 20px; height: 20px;background-color: rgb(255, 0, 0);\"></td><td title=\"Index: [1, 1]&#10;Color: (0, 0, 255)\" style=\"width: 20px; height: 20px;background-color: rgb(0, 0, 255);\"></td><td title=\"Index: [1, 2]&#10;Color: (255, 0, 0)\" style=\"width: 20px; height: 20px;background-color: rgb(255, 0, 0);\"></td><td title=\"Index: [1, 3]&#10;Color: (255, 0, 0)\" style=\"width: 20px; height: 20px;background-color: rgb(255, 0, 0);\"></td><td title=\"Index: [1, 4]&#10;Color: (255, 0, 0)\" style=\"width: 20px; height: 20px;background-color: rgb(255, 0, 0);\"></td><td title=\"Index: [1, 5]&#10;Color: (255, 0, 0)\" style=\"width: 20px; height: 20px;background-color: rgb(255, 0, 0);\"></td><td title=\"Index: [1, 6]&#10;Color: (255, 0, 0)\" style=\"width: 20px; height: 20px;background-color: rgb(255, 0, 0);\"></td><td title=\"Index: [1, 7]&#10;Color: (255, 0, 0)\" style=\"width: 20px; height: 20px;background-color: rgb(255, 0, 0);\"></td></tr><tr><td title=\"Index: [2, 0]&#10;Color: (255, 0, 0)\" style=\"width: 20px; height: 20px;background-color: rgb(255, 0, 0);\"></td><td title=\"Index: [2, 1]&#10;Color: (0, 0, 255)\" style=\"width: 20px; height: 20px;background-color: rgb(0, 0, 255);\"></td><td title=\"Index: [2, 2]&#10;Color: (255, 0, 0)\" style=\"width: 20px; height: 20px;background-color: rgb(255, 0, 0);\"></td><td title=\"Index: [2, 3]&#10;Color: (255, 0, 0)\" style=\"width: 20px; height: 20px;background-color: rgb(255, 0, 0);\"></td><td title=\"Index: [2, 4]&#10;Color: (255, 0, 0)\" style=\"width: 20px; height: 20px;background-color: rgb(255, 0, 0);\"></td><td title=\"Index: [2, 5]&#10;Color: (255, 0, 0)\" style=\"width: 20px; height: 20px;background-color: rgb(255, 0, 0);\"></td><td title=\"Index: [2, 6]&#10;Color: (255, 0, 0)\" style=\"width: 20px; height: 20px;background-color: rgb(255, 0, 0);\"></td><td title=\"Index: [2, 7]&#10;Color: (255, 0, 0)\" style=\"width: 20px; height: 20px;background-color: rgb(255, 0, 0);\"></td></tr><tr><td title=\"Index: [3, 0]&#10;Color: (255, 0, 0)\" style=\"width: 20px; height: 20px;background-color: rgb(255, 0, 0);\"></td><td title=\"Index: [3, 1]&#10;Color: (0, 0, 255)\" style=\"width: 20px; height: 20px;background-color: rgb(0, 0, 255);\"></td><td title=\"Index: [3, 2]&#10;Color: (255, 0, 0)\" style=\"width: 20px; height: 20px;background-color: rgb(255, 0, 0);\"></td><td title=\"Index: [3, 3]&#10;Color: (255, 0, 0)\" style=\"width: 20px; height: 20px;background-color: rgb(255, 0, 0);\"></td><td title=\"Index: [3, 4]&#10;Color: (255, 0, 0)\" style=\"width: 20px; height: 20px;background-color: rgb(255, 0, 0);\"></td><td title=\"Index: [3, 5]&#10;Color: (255, 0, 0)\" style=\"width: 20px; height: 20px;background-color: rgb(255, 0, 0);\"></td><td title=\"Index: [3, 6]&#10;Color: (255, 0, 0)\" style=\"width: 20px; height: 20px;background-color: rgb(255, 0, 0);\"></td><td title=\"Index: [3, 7]&#10;Color: (255, 0, 0)\" style=\"width: 20px; height: 20px;background-color: rgb(255, 0, 0);\"></td></tr><tr><td title=\"Index: [4, 0]&#10;Color: (255, 0, 0)\" style=\"width: 20px; height: 20px;background-color: rgb(255, 0, 0);\"></td><td title=\"Index: [4, 1]&#10;Color: (0, 0, 255)\" style=\"width: 20px; height: 20px;background-color: rgb(0, 0, 255);\"></td><td title=\"Index: [4, 2]&#10;Color: (255, 0, 0)\" style=\"width: 20px; height: 20px;background-color: rgb(255, 0, 0);\"></td><td title=\"Index: [4, 3]&#10;Color: (255, 0, 0)\" style=\"width: 20px; height: 20px;background-color: rgb(255, 0, 0);\"></td><td title=\"Index: [4, 4]&#10;Color: (255, 0, 0)\" style=\"width: 20px; height: 20px;background-color: rgb(255, 0, 0);\"></td><td title=\"Index: [4, 5]&#10;Color: (255, 0, 0)\" style=\"width: 20px; height: 20px;background-color: rgb(255, 0, 0);\"></td><td title=\"Index: [4, 6]&#10;Color: (255, 0, 0)\" style=\"width: 20px; height: 20px;background-color: rgb(255, 0, 0);\"></td><td title=\"Index: [4, 7]&#10;Color: (255, 0, 0)\" style=\"width: 20px; height: 20px;background-color: rgb(255, 0, 0);\"></td></tr><tr><td title=\"Index: [5, 0]&#10;Color: (255, 0, 0)\" style=\"width: 20px; height: 20px;background-color: rgb(255, 0, 0);\"></td><td title=\"Index: [5, 1]&#10;Color: (0, 0, 255)\" style=\"width: 20px; height: 20px;background-color: rgb(0, 0, 255);\"></td><td title=\"Index: [5, 2]&#10;Color: (255, 0, 0)\" style=\"width: 20px; height: 20px;background-color: rgb(255, 0, 0);\"></td><td title=\"Index: [5, 3]&#10;Color: (255, 0, 0)\" style=\"width: 20px; height: 20px;background-color: rgb(255, 0, 0);\"></td><td title=\"Index: [5, 4]&#10;Color: (255, 0, 0)\" style=\"width: 20px; height: 20px;background-color: rgb(255, 0, 0);\"></td><td title=\"Index: [5, 5]&#10;Color: (255, 0, 0)\" style=\"width: 20px; height: 20px;background-color: rgb(255, 0, 0);\"></td><td title=\"Index: [5, 6]&#10;Color: (255, 0, 0)\" style=\"width: 20px; height: 20px;background-color: rgb(255, 0, 0);\"></td><td title=\"Index: [5, 7]&#10;Color: (255, 0, 0)\" style=\"width: 20px; height: 20px;background-color: rgb(255, 0, 0);\"></td></tr><tr><td title=\"Index: [6, 0]&#10;Color: (255, 0, 0)\" style=\"width: 20px; height: 20px;background-color: rgb(255, 0, 0);\"></td><td title=\"Index: [6, 1]&#10;Color: (0, 0, 255)\" style=\"width: 20px; height: 20px;background-color: rgb(0, 0, 255);\"></td><td title=\"Index: [6, 2]&#10;Color: (0, 0, 255)\" style=\"width: 20px; height: 20px;background-color: rgb(0, 0, 255);\"></td><td title=\"Index: [6, 3]&#10;Color: (0, 0, 255)\" style=\"width: 20px; height: 20px;background-color: rgb(0, 0, 255);\"></td><td title=\"Index: [6, 4]&#10;Color: (0, 0, 255)\" style=\"width: 20px; height: 20px;background-color: rgb(0, 0, 255);\"></td><td title=\"Index: [6, 5]&#10;Color: (0, 0, 255)\" style=\"width: 20px; height: 20px;background-color: rgb(0, 0, 255);\"></td><td title=\"Index: [6, 6]&#10;Color: (255, 0, 0)\" style=\"width: 20px; height: 20px;background-color: rgb(255, 0, 0);\"></td><td title=\"Index: [6, 7]&#10;Color: (255, 0, 0)\" style=\"width: 20px; height: 20px;background-color: rgb(255, 0, 0);\"></td></tr><tr><td title=\"Index: [7, 0]&#10;Color: (255, 0, 0)\" style=\"width: 20px; height: 20px;background-color: rgb(255, 0, 0);\"></td><td title=\"Index: [7, 1]&#10;Color: (255, 0, 0)\" style=\"width: 20px; height: 20px;background-color: rgb(255, 0, 0);\"></td><td title=\"Index: [7, 2]&#10;Color: (255, 0, 0)\" style=\"width: 20px; height: 20px;background-color: rgb(255, 0, 0);\"></td><td title=\"Index: [7, 3]&#10;Color: (255, 0, 0)\" style=\"width: 20px; height: 20px;background-color: rgb(255, 0, 0);\"></td><td title=\"Index: [7, 4]&#10;Color: (255, 0, 0)\" style=\"width: 20px; height: 20px;background-color: rgb(255, 0, 0);\"></td><td title=\"Index: [7, 5]&#10;Color: (255, 0, 0)\" style=\"width: 20px; height: 20px;background-color: rgb(255, 0, 0);\"></td><td title=\"Index: [7, 6]&#10;Color: (255, 0, 0)\" style=\"width: 20px; height: 20px;background-color: rgb(255, 0, 0);\"></td><td title=\"Index: [7, 7]&#10;Color: (255, 0, 0)\" style=\"width: 20px; height: 20px;background-color: rgb(255, 0, 0);\"></td></tr></tbody></table>"
       ],
       "metadata": {},
       "output_type": "pyout",
       "prompt_number": 152,
       "text": [
        "<ipythonblocks.ipythonblocks.BlockGrid at 0x10700b310>"
       ]
      }
     ],
     "prompt_number": 152
    },
    {
     "cell_type": "heading",
     "level": 2,
     "metadata": {},
     "source": [
      "Question 3"
     ]
    },
    {
     "cell_type": "code",
     "collapsed": false,
     "input": [
      "beer = 99\n",
      "song = \" bottles of beer on the wall, \"\n",
      "song1 = \" bottles of beer.\"\n",
      "song2 = \"Take one down, pass it around, \"\n",
      "song3 = \" bottles of beer on the wall\"\n",
      "while beer > 0:\n",
      "    print str(beer) + song + str(beer) + song1\n",
      "    beer -= 1\n",
      "    print song2 + str(beer) + song3"
     ],
     "language": "python",
     "metadata": {},
     "outputs": [
      {
       "output_type": "stream",
       "stream": "stdout",
       "text": [
        "99 bottles of beer on the wall, 99 bottles of beer.\n",
        "Take one down, pass it around, 98 bottles of beer on the wall\n",
        "98 bottles of beer on the wall, 98 bottles of beer.\n",
        "Take one down, pass it around, 97 bottles of beer on the wall\n",
        "97 bottles of beer on the wall, 97 bottles of beer.\n",
        "Take one down, pass it around, 96 bottles of beer on the wall\n",
        "96 bottles of beer on the wall, 96 bottles of beer.\n",
        "Take one down, pass it around, 95 bottles of beer on the wall\n",
        "95 bottles of beer on the wall, 95 bottles of beer.\n",
        "Take one down, pass it around, 94 bottles of beer on the wall\n",
        "94 bottles of beer on the wall, 94 bottles of beer.\n",
        "Take one down, pass it around, 93 bottles of beer on the wall\n",
        "93 bottles of beer on the wall, 93 bottles of beer.\n",
        "Take one down, pass it around, 92 bottles of beer on the wall\n",
        "92 bottles of beer on the wall, 92 bottles of beer.\n",
        "Take one down, pass it around, 91 bottles of beer on the wall\n",
        "91 bottles of beer on the wall, 91 bottles of beer.\n",
        "Take one down, pass it around, 90 bottles of beer on the wall\n",
        "90 bottles of beer on the wall, 90 bottles of beer.\n",
        "Take one down, pass it around, 89 bottles of beer on the wall\n",
        "89 bottles of beer on the wall, 89 bottles of beer.\n",
        "Take one down, pass it around, 88 bottles of beer on the wall\n",
        "88 bottles of beer on the wall, 88 bottles of beer.\n",
        "Take one down, pass it around, 87 bottles of beer on the wall\n",
        "87 bottles of beer on the wall, 87 bottles of beer.\n",
        "Take one down, pass it around, 86 bottles of beer on the wall\n",
        "86 bottles of beer on the wall, 86 bottles of beer.\n",
        "Take one down, pass it around, 85 bottles of beer on the wall\n",
        "85 bottles of beer on the wall, 85 bottles of beer.\n",
        "Take one down, pass it around, 84 bottles of beer on the wall\n",
        "84 bottles of beer on the wall, 84 bottles of beer.\n",
        "Take one down, pass it around, 83 bottles of beer on the wall\n",
        "83 bottles of beer on the wall, 83 bottles of beer.\n",
        "Take one down, pass it around, 82 bottles of beer on the wall\n",
        "82 bottles of beer on the wall, 82 bottles of beer.\n",
        "Take one down, pass it around, 81 bottles of beer on the wall\n",
        "81 bottles of beer on the wall, 81 bottles of beer.\n",
        "Take one down, pass it around, 80 bottles of beer on the wall\n",
        "80 bottles of beer on the wall, 80 bottles of beer.\n",
        "Take one down, pass it around, 79 bottles of beer on the wall\n",
        "79 bottles of beer on the wall, 79 bottles of beer.\n",
        "Take one down, pass it around, 78 bottles of beer on the wall\n",
        "78 bottles of beer on the wall, 78 bottles of beer.\n",
        "Take one down, pass it around, 77 bottles of beer on the wall\n",
        "77 bottles of beer on the wall, 77 bottles of beer.\n",
        "Take one down, pass it around, 76 bottles of beer on the wall\n",
        "76 bottles of beer on the wall, 76 bottles of beer.\n",
        "Take one down, pass it around, 75 bottles of beer on the wall\n",
        "75 bottles of beer on the wall, 75 bottles of beer.\n",
        "Take one down, pass it around, 74 bottles of beer on the wall\n",
        "74 bottles of beer on the wall, 74 bottles of beer.\n",
        "Take one down, pass it around, 73 bottles of beer on the wall\n",
        "73 bottles of beer on the wall, 73 bottles of beer.\n",
        "Take one down, pass it around, 72 bottles of beer on the wall\n",
        "72 bottles of beer on the wall, 72 bottles of beer.\n",
        "Take one down, pass it around, 71 bottles of beer on the wall\n",
        "71 bottles of beer on the wall, 71 bottles of beer.\n",
        "Take one down, pass it around, 70 bottles of beer on the wall\n",
        "70 bottles of beer on the wall, 70 bottles of beer.\n",
        "Take one down, pass it around, 69 bottles of beer on the wall\n",
        "69 bottles of beer on the wall, 69 bottles of beer.\n",
        "Take one down, pass it around, 68 bottles of beer on the wall\n",
        "68 bottles of beer on the wall, 68 bottles of beer.\n",
        "Take one down, pass it around, 67 bottles of beer on the wall\n",
        "67 bottles of beer on the wall, 67 bottles of beer.\n",
        "Take one down, pass it around, 66 bottles of beer on the wall\n",
        "66 bottles of beer on the wall, 66 bottles of beer.\n",
        "Take one down, pass it around, 65 bottles of beer on the wall\n",
        "65 bottles of beer on the wall, 65 bottles of beer.\n",
        "Take one down, pass it around, 64 bottles of beer on the wall\n",
        "64 bottles of beer on the wall, 64 bottles of beer.\n",
        "Take one down, pass it around, 63 bottles of beer on the wall\n",
        "63 bottles of beer on the wall, 63 bottles of beer.\n",
        "Take one down, pass it around, 62 bottles of beer on the wall\n",
        "62 bottles of beer on the wall, 62 bottles of beer.\n",
        "Take one down, pass it around, 61 bottles of beer on the wall\n",
        "61 bottles of beer on the wall, 61 bottles of beer.\n",
        "Take one down, pass it around, 60 bottles of beer on the wall\n",
        "60 bottles of beer on the wall, 60 bottles of beer.\n",
        "Take one down, pass it around, 59 bottles of beer on the wall\n",
        "59 bottles of beer on the wall, 59 bottles of beer.\n",
        "Take one down, pass it around, 58 bottles of beer on the wall\n",
        "58 bottles of beer on the wall, 58 bottles of beer.\n",
        "Take one down, pass it around, 57 bottles of beer on the wall\n",
        "57 bottles of beer on the wall, 57 bottles of beer.\n",
        "Take one down, pass it around, 56 bottles of beer on the wall\n",
        "56 bottles of beer on the wall, 56 bottles of beer.\n",
        "Take one down, pass it around, 55 bottles of beer on the wall\n",
        "55 bottles of beer on the wall, 55 bottles of beer.\n",
        "Take one down, pass it around, 54 bottles of beer on the wall\n",
        "54 bottles of beer on the wall, 54 bottles of beer.\n",
        "Take one down, pass it around, 53 bottles of beer on the wall\n",
        "53 bottles of beer on the wall, 53 bottles of beer.\n",
        "Take one down, pass it around, 52 bottles of beer on the wall\n",
        "52 bottles of beer on the wall, 52 bottles of beer.\n",
        "Take one down, pass it around, 51 bottles of beer on the wall\n",
        "51 bottles of beer on the wall, 51 bottles of beer.\n",
        "Take one down, pass it around, 50 bottles of beer on the wall\n",
        "50 bottles of beer on the wall, 50 bottles of beer.\n",
        "Take one down, pass it around, 49 bottles of beer on the wall\n",
        "49 bottles of beer on the wall, 49 bottles of beer.\n",
        "Take one down, pass it around, 48 bottles of beer on the wall\n",
        "48 bottles of beer on the wall, 48 bottles of beer.\n",
        "Take one down, pass it around, 47 bottles of beer on the wall\n",
        "47 bottles of beer on the wall, 47 bottles of beer.\n",
        "Take one down, pass it around, 46 bottles of beer on the wall\n",
        "46 bottles of beer on the wall, 46 bottles of beer.\n",
        "Take one down, pass it around, 45 bottles of beer on the wall\n",
        "45 bottles of beer on the wall, 45 bottles of beer.\n",
        "Take one down, pass it around, 44 bottles of beer on the wall\n",
        "44 bottles of beer on the wall, 44 bottles of beer.\n",
        "Take one down, pass it around, 43 bottles of beer on the wall\n",
        "43 bottles of beer on the wall, 43 bottles of beer.\n",
        "Take one down, pass it around, 42 bottles of beer on the wall\n",
        "42 bottles of beer on the wall, 42 bottles of beer.\n",
        "Take one down, pass it around, 41 bottles of beer on the wall\n",
        "41 bottles of beer on the wall, 41 bottles of beer.\n",
        "Take one down, pass it around, 40 bottles of beer on the wall\n",
        "40 bottles of beer on the wall, 40 bottles of beer.\n",
        "Take one down, pass it around, 39 bottles of beer on the wall\n",
        "39 bottles of beer on the wall, 39 bottles of beer.\n",
        "Take one down, pass it around, 38 bottles of beer on the wall\n",
        "38 bottles of beer on the wall, 38 bottles of beer.\n",
        "Take one down, pass it around, 37 bottles of beer on the wall\n",
        "37 bottles of beer on the wall, 37 bottles of beer.\n",
        "Take one down, pass it around, 36 bottles of beer on the wall\n",
        "36 bottles of beer on the wall, 36 bottles of beer.\n",
        "Take one down, pass it around, 35 bottles of beer on the wall\n",
        "35 bottles of beer on the wall, 35 bottles of beer.\n",
        "Take one down, pass it around, 34 bottles of beer on the wall\n",
        "34 bottles of beer on the wall, 34 bottles of beer.\n",
        "Take one down, pass it around, 33 bottles of beer on the wall\n",
        "33 bottles of beer on the wall, 33 bottles of beer.\n",
        "Take one down, pass it around, 32 bottles of beer on the wall\n",
        "32 bottles of beer on the wall, 32 bottles of beer.\n",
        "Take one down, pass it around, 31 bottles of beer on the wall\n",
        "31 bottles of beer on the wall, 31 bottles of beer.\n",
        "Take one down, pass it around, 30 bottles of beer on the wall\n",
        "30 bottles of beer on the wall, 30 bottles of beer.\n",
        "Take one down, pass it around, 29 bottles of beer on the wall\n",
        "29 bottles of beer on the wall, 29 bottles of beer.\n",
        "Take one down, pass it around, 28 bottles of beer on the wall\n",
        "28 bottles of beer on the wall, 28 bottles of beer.\n",
        "Take one down, pass it around, 27 bottles of beer on the wall\n",
        "27 bottles of beer on the wall, 27 bottles of beer.\n",
        "Take one down, pass it around, 26 bottles of beer on the wall\n",
        "26 bottles of beer on the wall, 26 bottles of beer.\n",
        "Take one down, pass it around, 25 bottles of beer on the wall\n",
        "25 bottles of beer on the wall, 25 bottles of beer.\n",
        "Take one down, pass it around, 24 bottles of beer on the wall\n",
        "24 bottles of beer on the wall, 24 bottles of beer.\n",
        "Take one down, pass it around, 23 bottles of beer on the wall\n",
        "23 bottles of beer on the wall, 23 bottles of beer.\n",
        "Take one down, pass it around, 22 bottles of beer on the wall\n",
        "22 bottles of beer on the wall, 22 bottles of beer.\n",
        "Take one down, pass it around, 21 bottles of beer on the wall\n",
        "21 bottles of beer on the wall, 21 bottles of beer.\n",
        "Take one down, pass it around, 20 bottles of beer on the wall\n",
        "20 bottles of beer on the wall, 20 bottles of beer.\n",
        "Take one down, pass it around, 19 bottles of beer on the wall\n",
        "19 bottles of beer on the wall, 19 bottles of beer.\n",
        "Take one down, pass it around, 18 bottles of beer on the wall\n",
        "18 bottles of beer on the wall, 18 bottles of beer.\n",
        "Take one down, pass it around, 17 bottles of beer on the wall\n",
        "17 bottles of beer on the wall, 17 bottles of beer.\n",
        "Take one down, pass it around, 16 bottles of beer on the wall\n",
        "16 bottles of beer on the wall, 16 bottles of beer.\n",
        "Take one down, pass it around, 15 bottles of beer on the wall\n",
        "15 bottles of beer on the wall, 15 bottles of beer.\n",
        "Take one down, pass it around, 14 bottles of beer on the wall\n",
        "14 bottles of beer on the wall, 14 bottles of beer.\n",
        "Take one down, pass it around, 13 bottles of beer on the wall\n",
        "13 bottles of beer on the wall, 13 bottles of beer.\n",
        "Take one down, pass it around, 12 bottles of beer on the wall\n",
        "12 bottles of beer on the wall, 12 bottles of beer.\n",
        "Take one down, pass it around, 11 bottles of beer on the wall\n",
        "11 bottles of beer on the wall, 11 bottles of beer.\n",
        "Take one down, pass it around, 10 bottles of beer on the wall\n",
        "10 bottles of beer on the wall, 10 bottles of beer.\n",
        "Take one down, pass it around, 9 bottles of beer on the wall\n",
        "9 bottles of beer on the wall, 9 bottles of beer.\n",
        "Take one down, pass it around, 8 bottles of beer on the wall\n",
        "8 bottles of beer on the wall, 8 bottles of beer.\n",
        "Take one down, pass it around, 7 bottles of beer on the wall\n",
        "7 bottles of beer on the wall, 7 bottles of beer.\n",
        "Take one down, pass it around, 6 bottles of beer on the wall\n",
        "6 bottles of beer on the wall, 6 bottles of beer.\n",
        "Take one down, pass it around, 5 bottles of beer on the wall\n",
        "5 bottles of beer on the wall, 5 bottles of beer.\n",
        "Take one down, pass it around, 4 bottles of beer on the wall\n",
        "4 bottles of beer on the wall, 4 bottles of beer.\n",
        "Take one down, pass it around, 3 bottles of beer on the wall\n",
        "3 bottles of beer on the wall, 3 bottles of beer.\n",
        "Take one down, pass it around, 2 bottles of beer on the wall\n",
        "2 bottles of beer on the wall, 2 bottles of beer.\n",
        "Take one down, pass it around, 1 bottles of beer on the wall\n",
        "1 bottles of beer on the wall, 1 bottles of beer.\n",
        "Take one down, pass it around, 0 bottles of beer on the wall\n"
       ]
      }
     ],
     "prompt_number": 30
    },
    {
     "cell_type": "heading",
     "level": 2,
     "metadata": {},
     "source": [
      "Question 4"
     ]
    },
    {
     "cell_type": "code",
     "collapsed": false,
     "input": [
      "%pylab inline"
     ],
     "language": "python",
     "metadata": {},
     "outputs": [
      {
       "output_type": "stream",
       "stream": "stdout",
       "text": [
        "Populating the interactive namespace from numpy and matplotlib\n"
       ]
      }
     ],
     "prompt_number": 32
    },
    {
     "cell_type": "code",
     "collapsed": false,
     "input": [
      "x = np.linspace(0,3,30)\n",
      "y = np.sin(x)\n",
      "\n",
      "plt.plot(x, y, 'r');\n",
      "plt.plot(x, y, 'gd', markersize=7, label=\"sine curve\");\n",
      "plt.legend(loc='upper right');\n",
      "plt.grid();\n",
      "\n",
      "ax = plt.gca();\n",
      "ax.set_xlabel(\"The x-axis\", fontsize=14);\n",
      "ax.set_ylabel(\"The y-axis\", fontsize=14);"
     ],
     "language": "python",
     "metadata": {},
     "outputs": [
      {
       "metadata": {},
       "output_type": "display_data",
       "png": "[encoded data removed]",
       "text": [
        "<matplotlib.figure.Figure at 0x10700b1d0>"
       ]
      }
     ],
     "prompt_number": 175
    },
    {
     "cell_type": "heading",
     "level": 2,
     "metadata": {},
     "source": [
      "Question 5"
     ]
    },
    {
     "cell_type": "code",
     "collapsed": false,
     "input": [
      "import numpy as np"
     ],
     "language": "python",
     "metadata": {},
     "outputs": [],
     "prompt_number": 76
    },
    {
     "cell_type": "code",
     "collapsed": false,
     "input": [
      "arr = np.random.uniform(10.7,36.2,[100,5])\n",
      "    \n",
      "print arr"
     ],
     "language": "python",
     "metadata": {},
     "outputs": [
      {
       "output_type": "stream",
       "stream": "stdout",
       "text": [
        "[[ 11.1631487   22.84008254  27.18792592  33.1131603   27.61743318]\n",
        " [ 27.60660929  25.57925638  30.02000925  28.9292908   13.70071703]\n",
        " [ 29.72288565  15.95671561  28.03359734  25.91408925  12.0409012 ]\n",
        " [ 15.46246934  14.03899439  11.18292989  15.80879995  35.15908768]\n",
        " [ 17.26961168  22.59798711  25.16821353  13.01036996  25.3082961 ]\n",
        " [ 25.09733986  21.97566445  20.85054645  32.22703546  27.77560126]\n",
        " [ 35.68506395  36.15137069  25.21317726  16.57558479  19.60780149]\n",
        " [ 11.85859524  29.06930521  20.0358976   30.55596508  30.46686267]\n",
        " [ 18.99655537  18.85287133  34.84650335  25.20741989  22.25712553]\n",
        " [ 36.12878322  13.01978705  26.01921226  10.8852653   13.65450427]\n",
        " [ 17.17353303  24.64095258  31.86619479  17.47545024  11.99476138]\n",
        " [ 25.69617799  33.15428652  13.33619936  14.85257307  16.21309765]\n",
        " [ 21.21226801  22.86914941  26.78741532  20.53468479  12.83934095]\n",
        " [ 34.6539488   19.81602701  25.69745885  11.99879774  34.01664169]\n",
        " [ 16.25868383  33.15951309  32.41582948  28.00173714  31.71191835]\n",
        " [ 30.1035425   32.6347416   24.52137156  26.55864209  18.35835093]\n",
        " [ 21.62877742  18.59743741  32.02510863  21.65883993  31.0677798 ]\n",
        " [ 27.94527423  22.25439814  31.14959886  35.51769589  14.78209973]\n",
        " [ 10.93558573  26.23764274  32.19842052  28.51871239  32.01652297]\n",
        " [ 12.02123112  33.66915518  29.38080829  26.81407614  30.60109676]\n",
        " [ 12.76221027  17.5572462   33.44246591  29.99994544  10.79749261]\n",
        " [ 31.62902885  11.22463742  29.77629374  13.73642039  17.79762142]\n",
        " [ 33.0168437   32.60137883  16.61286922  27.62386085  12.78069566]\n",
        " [ 12.3439616   25.88298049  13.06882115  35.26423109  24.01550262]\n",
        " [ 27.85365273  28.5005055   30.27526685  33.95758966  30.23292797]\n",
        " [ 20.63136547  24.21166634  26.27662733  26.09078832  22.62387959]\n",
        " [ 20.08686543  16.65281046  22.47307611  22.86902797  31.63897303]\n",
        " [ 20.67189012  26.26036231  33.62062543  18.92631657  17.44711418]\n",
        " [ 12.29255211  17.72748806  17.65544207  27.82363727  25.43400468]\n",
        " [ 14.90738623  29.87616766  35.37802375  17.75769375  15.80534984]\n",
        " [ 23.7879384   14.94408555  11.2829196   26.64521406  35.97329836]\n",
        " [ 34.21402265  17.98354546  20.56227911  18.29533162  16.11192535]\n",
        " [ 13.29744377  24.096334    20.23523179  12.56480434  24.03945043]\n",
        " [ 14.71746732  11.36152189  16.61724865  34.18002433  15.52558568]\n",
        " [ 15.06862736  33.77239624  18.27630596  27.47617051  30.96211351]\n",
        " [ 25.26438473  13.38577825  35.02327051  32.64552206  28.5117935 ]\n",
        " [ 15.64878696  16.83964664  19.44854608  18.4422157   31.37054372]\n",
        " [ 25.19880652  27.74152171  26.42891062  32.02763543  13.35822023]\n",
        " [ 32.65076426  22.63096401  23.91511721  25.23274234  18.35772299]\n",
        " [ 11.91999325  11.96420178  15.15967396  16.74985209  15.31167864]\n",
        " [ 28.88151021  33.75446973  36.02578537  35.61956088  15.96986689]\n",
        " [ 11.213102    17.19577176  14.91947024  16.79160855  29.83926359]\n",
        " [ 28.85355645  22.0952194   17.31753297  31.30562982  33.40424995]\n",
        " [ 36.06289456  25.46742833  25.66745761  21.39265982  24.5760448 ]\n",
        " [ 19.40993832  12.5386312   11.25980649  12.43740122  31.28308498]\n",
        " [ 20.35132094  12.40305067  15.25518458  29.80191383  26.75852583]\n",
        " [ 29.41404079  31.8258663   26.78303488  35.55292102  17.90527752]\n",
        " [ 34.33620369  29.60741883  22.22702608  15.60559814  20.23858005]\n",
        " [ 11.24435026  31.65545739  22.84342092  14.45023653  16.28938307]\n",
        " [ 25.07099529  30.04679923  20.92371276  13.42277704  22.143233  ]\n",
        " [ 25.14148859  24.82253234  31.02227007  35.17256288  25.94840817]\n",
        " [ 26.38198007  25.54176332  16.11590978  24.73407728  31.87425006]\n",
        " [ 21.4833351   30.46491698  34.69797336  20.94245566  21.10248606]\n",
        " [ 11.89272093  18.77625349  34.42242273  31.64262943  22.32987694]\n",
        " [ 27.5457601   17.46624756  11.08198032  26.76965289  13.89681866]\n",
        " [ 18.42972974  28.8280004   31.78391892  32.0025222   33.26404001]\n",
        " [ 12.18047408  28.03355185  27.25921017  18.80764079  35.68959709]\n",
        " [ 34.44839945  25.31605237  16.90040488  35.84213859  18.85469136]\n",
        " [ 35.05052963  11.44043827  26.39584751  18.4568557   23.77834065]\n",
        " [ 29.60318574  13.51294806  25.31696926  32.85944675  10.79318137]\n",
        " [ 35.17600168  23.56011994  15.09484551  35.05137607  27.74956916]\n",
        " [ 28.57298908  36.08938352  20.7421088   18.76562625  27.51199571]\n",
        " [ 12.37682073  10.71005324  35.65419519  14.9950306   27.20264838]\n",
        " [ 11.87287206  22.75701866  31.5962017   23.24307342  16.53071835]\n",
        " [ 32.65668971  12.66146829  26.24245096  34.91802406  24.72416123]\n",
        " [ 35.00045867  18.82491593  26.25476758  18.19928885  28.86217936]\n",
        " [ 22.07817594  35.3098154   36.07280341  13.42060266  27.20539602]\n",
        " [ 28.42523879  21.36561948  34.08667449  15.07279749  12.69519723]\n",
        " [ 25.86830879  21.89051904  21.85072961  14.39311887  14.92423677]\n",
        " [ 27.3068406   22.96495864  28.49929119  19.36538605  33.73354475]\n",
        " [ 33.352982    12.09309765  13.33509671  33.28319426  27.12166375]\n",
        " [ 35.17423174  36.07895605  35.36787025  18.94666093  31.67496928]\n",
        " [ 21.71985853  36.11602965  19.67469083  13.98282773  10.98367939]\n",
        " [ 15.17096279  33.06864058  30.44463324  18.11112755  31.34288665]\n",
        " [ 12.12276178  27.46420018  29.91202152  16.99423549  20.79122989]\n",
        " [ 29.04296788  31.9791899   35.24226635  20.46529428  19.83129474]\n",
        " [ 24.86456556  27.52011674  30.79617189  15.06513014  19.4464339 ]\n",
        " [ 20.54974621  25.17977267  25.82628937  19.88069541  28.58477325]\n",
        " [ 24.36295724  15.12120503  32.10645419  26.9833848   34.51950106]\n",
        " [ 26.08060124  23.47407938  15.66284374  35.84696503  28.76039778]\n",
        " [ 10.94898899  34.11125564  20.82911017  22.84879198  23.49267955]\n",
        " [ 25.22294363  12.00249648  25.63508304  26.01751443  35.49742133]\n",
        " [ 24.60323341  26.73360607  24.54268755  26.72630891  34.76592802]\n",
        " [ 14.50411388  22.22003431  29.42018875  17.80616458  27.3762059 ]\n",
        " [ 34.30207716  25.89171224  23.12580857  12.3703398   31.38602857]\n",
        " [ 34.68289662  19.773584    35.75162044  33.41928506  28.67895605]\n",
        " [ 14.83990103  12.69362897  14.07161873  22.14948038  27.77930264]\n",
        " [ 11.02370519  17.95014205  20.46855219  19.09747081  13.01839499]\n",
        " [ 32.57289378  31.3213352   32.4507916   21.76383072  25.64467234]\n",
        " [ 12.12019787  21.14024198  10.86935116  33.44706574  17.22862962]\n",
        " [ 36.08872784  19.74579548  21.3758773   34.67097048  34.24961461]\n",
        " [ 31.05336955  16.28724795  18.62919273  16.52955795  29.00356723]\n",
        " [ 30.15233465  30.88677206  13.8550166   30.39449238  35.719958  ]\n",
        " [ 22.25457853  34.86610772  27.48905892  12.272095    16.12412803]\n",
        " [ 19.68725197  12.97592987  15.78586789  15.09668365  18.17127338]\n",
        " [ 11.20603071  32.62556855  22.46270275  21.26660751  23.26152567]\n",
        " [ 11.09676413  12.27092122  19.30702512  27.641402    25.67694492]\n",
        " [ 12.29133759  18.53251129  13.56788864  18.72585979  31.74258293]\n",
        " [ 12.62774769  33.40884243  32.02754671  27.54692351  13.13938745]\n",
        " [ 26.22817345  22.4093851   15.96085593  12.15891707  24.40258035]]\n"
       ]
      }
     ],
     "prompt_number": 171
    },
    {
     "cell_type": "code",
     "collapsed": false,
     "input": [
      "date = !date\n",
      "my_header = \"\\n This is Sean Lewis's Midterm 1, Question 5:\\\n",
      "\\n Date: %s\\n Let's hope this works!\\n\" %(date)\n",
      "\n",
      "np.savetxt('numbers.txt', arr, fmt='%.3f', delimiter='  ', header=my_header)\n",
      "!head -10 numbers.txt"
     ],
     "language": "python",
     "metadata": {},
     "outputs": [
      {
       "output_type": "stream",
       "stream": "stdout",
       "text": [
        "# \r\n",
        "#  This is Sean Lewis's Midterm 1, Question 5:\r\n",
        "#  Date: ['Tue Apr 29 15:51:13 PDT 2014']\r\n",
        "#  Let's hope this works!\r\n",
        "# \r\n",
        "11.163  22.840  27.188  33.113  27.617\r\n",
        "27.607  25.579  30.020  28.929  13.701\r\n",
        "29.723  15.957  28.034  25.914  12.041\r\n",
        "15.462  14.039  11.183  15.809  35.159\r\n",
        "17.270  22.598  25.168  13.010  25.308\r\n"
       ]
      }
     ],
     "prompt_number": 172
    },
    {
     "cell_type": "code",
     "collapsed": false,
     "input": [
      "arr2 = np.loadtxt('numbers.txt')\n",
      "print arr2[0:10, :]"
     ],
     "language": "python",
     "metadata": {},
     "outputs": [
      {
       "output_type": "stream",
       "stream": "stdout",
       "text": [
        "[[ 11.163  22.84   27.188  33.113  27.617]\n",
        " [ 27.607  25.579  30.02   28.929  13.701]\n",
        " [ 29.723  15.957  28.034  25.914  12.041]\n",
        " [ 15.462  14.039  11.183  15.809  35.159]\n",
        " [ 17.27   22.598  25.168  13.01   25.308]\n",
        " [ 25.097  21.976  20.851  32.227  27.776]\n",
        " [ 35.685  36.151  25.213  16.576  19.608]\n",
        " [ 11.859  29.069  20.036  30.556  30.467]\n",
        " [ 18.997  18.853  34.847  25.207  22.257]\n",
        " [ 36.129  13.02   26.019  10.885  13.655]]\n"
       ]
      }
     ],
     "prompt_number": 173
    },
    {
     "cell_type": "code",
     "collapsed": false,
     "input": [],
     "language": "python",
     "metadata": {},
     "outputs": []
    }
   ],
   "metadata": {}
  }
 ]
}