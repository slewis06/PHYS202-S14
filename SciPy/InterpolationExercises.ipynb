{
 "metadata": {
  "name": "",
  "signature": "sha256:a2bbb3a22adc0e92f7eafa675277770d7d4ee0042bf48d61b5c0bdbfc7c34c7f"
 },
 "nbformat": 3,
 "nbformat_minor": 0,
 "worksheets": [
  {
   "cells": [
    {
     "cell_type": "heading",
     "level": 1,
     "metadata": {},
     "source": [
      "Interpolation Exercises"
     ]
    },
    {
     "cell_type": "code",
     "collapsed": false,
     "input": [
      "%pylab inline\n",
      "import numpy as np\n",
      "import matplotlib.pyplot as plt\n",
      "from scipy.interpolate import interp1d \n",
      "from mpl_toolkits.mplot3d import Axes3D\n",
      "from scipy.interpolate import interp2d"
     ],
     "language": "python",
     "metadata": {},
     "outputs": [
      {
       "output_type": "stream",
       "stream": "stdout",
       "text": [
        "Populating the interactive namespace from numpy and matplotlib\n"
       ]
      }
     ],
     "prompt_number": 1
    },
    {
     "cell_type": "markdown",
     "metadata": {},
     "source": [
      "**1.** It is common to test functions where you know the answer they should give. Let's test the dipolePotential() function that we previously saved in Electrostatics.py to see that the function is zero along the bisector between the charges.\n",
      "\n",
      "First, set up a grid and evaluate the function."
     ]
    },
    {
     "cell_type": "code",
     "collapsed": false,
     "input": [
      "from Electrostatics import *\n",
      "x,y = np.meshgrid(np.arange(-5,5.01,0.5),np.arange(-5,5.01,0.5))\n",
      "Vdipole = dipolePotential(x,y,1e-9,2.)\n",
      "plt.contour(x,y,Vdipole,cmap=cm.coolwarm);\n",
      "plt.show();"
     ],
     "language": "python",
     "metadata": {},
     "outputs": [
      {
       "metadata": {},
       "output_type": "display_data",
       "png": "[encoded data removed]",
       "text": [
        "<matplotlib.figure.Figure at 0x1071e4610>"
       ]
      }
     ],
     "prompt_number": 3
    },
    {
     "cell_type": "markdown",
     "metadata": {},
     "source": [
      "**(a)** Use a boolean mask to locate the positions where x=0."
     ]
    },
    {
     "cell_type": "code",
     "collapsed": false,
     "input": [
      "ii = (x == 0)\n",
      "plt.contour(x[ii],y[ii],Vdipole,cmap=cm.coolwarm);\n",
      "plt.show();"
     ],
     "language": "python",
     "metadata": {},
     "outputs": [
      {
       "metadata": {},
       "output_type": "display_data",
       "png": "[encoded data removed]",
       "text": [
        "<matplotlib.figure.Figure at 0x1071f2d90>"
       ]
      }
     ],
     "prompt_number": 4
    },
    {
     "cell_type": "markdown",
     "metadata": {},
     "source": [
      "**(b)** Check that Vdipole for these locations is zero. i.e. print the value of Vdipole for these locations using your mask from part (a)."
     ]
    },
    {
     "cell_type": "code",
     "collapsed": false,
     "input": [
      "NewVdipole = Vdipole[ii]\n",
      "print NewVdipole"
     ],
     "language": "python",
     "metadata": {},
     "outputs": [
      {
       "output_type": "stream",
       "stream": "stdout",
       "text": [
        "[ 0.  0.  0.  0.  0.  0.  0.  0.  0.  0.  0.  0.  0.  0.  0.  0.  0.  0.\n",
        "  0.  0.  0.]\n"
       ]
      }
     ],
     "prompt_number": 5
    },
    {
     "cell_type": "markdown",
     "metadata": {},
     "source": [
      "**2.** Thermistors are electrical devices that measure temperature. They are made out of a material whose resistance changes very predictably with temperature. In the lab we measure the resistance of the thermistor and then compute the temperature from the engineering data that the manufacturer sends with the devices. The table below is data for a set of thermistors used in PHYS 340. The temperature values are in \u2218C and the resistances in mega-Ohms, M\u03a9.\n",
      "\n",
      "Temp   Res   Temp   Res   Temp   Res   Temp   Res   Temp   Res\n",
      "--------------------------------------------------------------- \n",
      " 10   3.239   16   2.610   22   2.169   28   1.857   34   1.634\n",
      " 11   3.118   17   2.526   23   2.110   29   1.815   35   1.603\n",
      " 12   3.004   18   2.446   24   2.053   30   1.774   36   1.574\n",
      " 13   2.897   19   2.371   25   2.000   31   1.736   37   1.547\n",
      " 14   2.795   20   2.300   26   1.950   32   1.700   38   1.521\n",
      " 15   2.700   21   2.233   27   1.902   33   1.666   39   1.496\n",
      " \n",
      "**(a)** Let's turn this look-up table into a continuous function. Write a reusable function Temp(Resistance) that takes any value of Resistance and returns the interpolated temperature. Be sure to include a docstring in your function."
     ]
    },
    {
     "cell_type": "code",
     "collapsed": false,
     "input": [
      "y = arange(10,40,1.)\n",
      "x = [3.239,3.118,3.004,2.897,2.795,2.700,2.610,2.526,2.446,2.371,2.300,2.233,\n",
      "     2.169,2.110,2.053,2.000,1.950,1.902,1.857,1.815,1.774,1.736,1.700,1.666,\n",
      "     1.634,1.603,1.574,1.547,1.521,1.496]\n",
      "def Temp(Resistance):\n",
      "    \"\"\"\n",
      "    This function takes any value of resistance and finds the\n",
      "    corresponding temperature as long as the resistance value is between \n",
      "    1.496 and 3.239 megaohms.\n",
      "    \"\"\"\n",
      "    temperature = interp1d(x[::-1], y[::-1])\n",
      "    return temperature(Resistance)"
     ],
     "language": "python",
     "metadata": {},
     "outputs": [],
     "prompt_number": 6
    },
    {
     "cell_type": "markdown",
     "metadata": {},
     "source": [
      "**(b)** Show that the function returns expected values, including some from the table for a few specific input resistances."
     ]
    },
    {
     "cell_type": "code",
     "collapsed": false,
     "input": [
      "print Temp(2.594)\n",
      "print Temp(3.111)\n",
      "print Temp(1.750)\n",
      "print Temp(2.700)\n",
      "print Temp(1.700)"
     ],
     "language": "python",
     "metadata": {},
     "outputs": [
      {
       "output_type": "stream",
       "stream": "stdout",
       "text": [
        "16.1904761905\n",
        "11.0614035088\n",
        "30.6315789474\n",
        "15.0\n",
        "32.0\n"
       ]
      }
     ],
     "prompt_number": 7
    },
    {
     "cell_type": "markdown",
     "metadata": {},
     "source": [
      "**(c)** Plot Temp(Resistance) vs. Resistance for a reasonable range of Resistance with reasonably fine sampling. Include as an annotation on the plot the value of the temperature for a resistance of 1.75 M\u03a9. (It's up to you to decide what \"reasonable\" means in both cases.)"
     ]
    },
    {
     "cell_type": "code",
     "collapsed": false,
     "input": [
      "Resistance = np.arange(1.496,3.239, .06)\n",
      "new_res = 1.75\n",
      "new_temp = Temp(new_res)\n",
      "plt.plot(Temp(Resistance),Resistance,new_temp,new_res, 'rd', markersize=10)\n",
      "plt.annotate('Resistance = 1.75 M$\\Omega$,\\n Temp = 30.63 $\\degree$C', xy=(33,2), xytext=(29,1.9))\n",
      "plt.show()"
     ],
     "language": "python",
     "metadata": {},
     "outputs": [
      {
       "metadata": {},
       "output_type": "display_data",
       "png": "[encoded data removed]",
       "text": [
        "<matplotlib.figure.Figure at 0x1071de950>"
       ]
      }
     ],
     "prompt_number": 8
    }
   ],
   "metadata": {}
  }
 ]
}