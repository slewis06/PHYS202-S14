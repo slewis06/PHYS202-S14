{
 "metadata": {
  "name": "",
  "signature": "sha256:a2be28fe07e1cff1d45c30c58a9cdc38c1adb780244c90611b50746631fa9cde"
 },
 "nbformat": 3,
 "nbformat_minor": 0,
 "worksheets": [
  {
   "cells": [
    {
     "cell_type": "heading",
     "level": 1,
     "metadata": {},
     "source": [
      "Monte Carlo Integration Exercises"
     ]
    },
    {
     "cell_type": "heading",
     "level": 3,
     "metadata": {},
     "source": [
      "Question 1"
     ]
    },
    {
     "cell_type": "markdown",
     "metadata": {},
     "source": [
      "Let\u2019s compute the electric potential from a plane of charge as shown in the figure using Monte Carlo integration.\n",
      "\n",
      "The integral comes from summing all the potentials from the chunks of \u201cpoint\u201d charges. Just as we summed two charges for a dipole, now we\u2019ll sum many charges. The important part is to understand how dQ, modeled as a point charge, is related to \u03c3dA, where \u03c3 is the surface charge density = charge/area (\u03c3=Q/A ) Review your notes from PHYS 133 if you need a refresher.\n",
      "We want to use our previously defined pointPotential() function from Electrostatics.py, so we have to import it."
     ]
    },
    {
     "cell_type": "code",
     "collapsed": false,
     "input": [
      "%pylab inline\n",
      "import numpy as np\n",
      "import matplotlib.pyplot as plt"
     ],
     "language": "python",
     "metadata": {},
     "outputs": [
      {
       "output_type": "stream",
       "stream": "stdout",
       "text": [
        "Populating the interactive namespace from numpy and matplotlib\n"
       ]
      }
     ],
     "prompt_number": 1
    },
    {
     "cell_type": "code",
     "collapsed": false,
     "input": [
      "#Import our point potential function\n",
      "from Electrostatics import *"
     ],
     "language": "python",
     "metadata": {},
     "outputs": [],
     "prompt_number": 2
    },
    {
     "cell_type": "markdown",
     "metadata": {},
     "source": [
      "**(a)** Use the sample mean method to compute the potential at point P(2,3) due to the disk of charge for different numbers of samples N=(10^1,10^2,10^3,10^4,10^5,10^6). Report the value and its statistical uncertainty for each sample size. How does the result depend on N?"
     ]
    },
    {
     "cell_type": "code",
     "collapsed": false,
     "input": [
      "#pointPotential seems to be working incorrectly, it gives a result many orders of magnitude higher than it should.\n",
      "\n",
      "fxy =  lambda x,y: pointPotential(x,y,1e-6,2.,3.)\n",
      "xa = -1.; xb = 1.\n",
      "ya = 0.; yb = 2.\n",
      "\n",
      "i = (10,100,1000,10000,100000,1000000)\n",
      "for N in i:\n",
      "    x = xa + (xb-xa)*np.random.random_sample(N)\n",
      "    y = ya + (yb-ya)*np.random.random_sample(N)\n",
      "\n",
      "    I = (xb-xa)*(yb-ya)*fxy(x,y).mean()\n",
      "    \n",
      "    \n",
      "    print I\n",
      "#The result certainly depends on N, it appears to become more accurate as N increases (as expected)."
     ],
     "language": "python",
     "metadata": {},
     "outputs": [
      {
       "output_type": "stream",
       "stream": "stdout",
       "text": [
        "12974.6315436\n",
        "13165.8005481\n",
        "13006.668628\n",
        "12981.9593666\n",
        "13038.2281154\n",
        "13027.3531835"
       ]
      },
      {
       "output_type": "stream",
       "stream": "stdout",
       "text": [
        "\n"
       ]
      }
     ],
     "prompt_number": 3
    },
    {
     "cell_type": "markdown",
     "metadata": {},
     "source": [
      "**(b)** Now use the same method to compute the electric potential, V, at point P(2,3), from a disk centered on the origin with radius, R=1.2 cm, and charge density, \u03c3 = 2 nC/m2 ."
     ]
    },
    {
     "cell_type": "code",
     "collapsed": false,
     "input": [
      "#define constants and equation for disk.\n",
      "R = np.sqrt(13)\n",
      "K = 8.987e9\n",
      "sigma = 2e-9\n",
      "fxy =  lambda r,theta: K*r*sigma/(R-r)\n",
      "#Limits of integration\n",
      "rmin = 0.; rmax = 1.2\n",
      "thetamin = 0.; thetamax = 2*np.pi\n",
      "\n",
      "i = (10,100,1000,10000,100000,1000000)\n",
      "for N in i:\n",
      "    r = (rmax-rmin)*np.random.random_sample(N)\n",
      "    theta = (thetamax-thetamin)*np.random.random_sample(N)\n",
      "\n",
      "    I = (rmax-rmin)*(thetamax-thetamin)*fxy(r,theta).mean()\n",
      "    \n",
      "    \n",
      "    print I"
     ],
     "language": "python",
     "metadata": {},
     "outputs": [
      {
       "output_type": "stream",
       "stream": "stdout",
       "text": [
        "30.4048080495\n",
        "27.0179377918\n",
        "27.775131798\n",
        "28.8260214999\n",
        "29.2884739043\n",
        "29.2570747076"
       ]
      },
      {
       "output_type": "stream",
       "stream": "stdout",
       "text": [
        "\n"
       ]
      }
     ],
     "prompt_number": 4
    },
    {
     "cell_type": "heading",
     "level": 3,
     "metadata": {},
     "source": [
      "Question 2"
     ]
    },
    {
     "cell_type": "markdown",
     "metadata": {},
     "source": [
      "Use the sample mean method to compute the volume of a sphere with radius 1 using spherical coordinates:\n",
      "\n",
      "V=\u222b10\u222b\u03c00\u222b2\u03c00r2sin(\u03b8)drd\u03b8d\u03d5\n",
      "\n",
      "for N=(10^1,10^2,10^3,10^4,10^5,10^6). Report the value and statistical uncertainty for each sample size. How does the result depend on N?"
     ]
    },
    {
     "cell_type": "code",
     "collapsed": false,
     "input": [
      "#Equation of sphere\n",
      "fxy =  lambda r,theta,phi: (r**2)*np.sin(theta)\n",
      "#limits of integration\n",
      "rmin = 0.; rmax = 1\n",
      "thetamin = 0.; thetamax = np.pi\n",
      "phimin = 0.; phimax = 2*np.pi\n",
      "\n",
      "i = (10,100,1000,10000,100000,1000000)\n",
      "for N in i:\n",
      "    r = (rmax-rmin)*np.random.random_sample(N)\n",
      "    theta = (thetamax-thetamin)*np.random.random_sample(N)\n",
      "    phi = (phimax - phimin)*np.random.random_sample(N)\n",
      "    \n",
      "    V = (rmax-rmin)*(thetamax-thetamin)*(phimax - phimin)*fxy(r,theta,phi).mean()\n",
      "    approx = fxy(r,theta,phi)\n",
      "    \n",
      "    \n",
      "    #Numerical uncertainty\n",
      "    Vunc = (rmax-rmin)*np.sqrt( ((approx**2).mean()-(approx.mean())**2)/N )\n",
      "    \n",
      "    \n",
      "    print \"Volume = \", V\n",
      "    print \"Statistical Uncertainty = %.6f\" %(Vunc)\n",
      "    \n",
      "#Again, we see statistical uncertainty drop as N increases."
     ],
     "language": "python",
     "metadata": {},
     "outputs": [
      {
       "output_type": "stream",
       "stream": "stdout",
       "text": [
        "Volume =  3.33159167897\n",
        "Statistical Uncertainty = 0.071057\n",
        "Volume =  4.29122903854\n",
        "Statistical Uncertainty = 0.022992\n",
        "Volume =  4.28428367841\n",
        "Statistical Uncertainty = 0.007234\n",
        "Volume =  4.16101713165\n",
        "Statistical Uncertainty = 0.002328\n",
        "Volume =  4.17352721877\n",
        "Statistical Uncertainty = 0.000739\n",
        "Volume = "
       ]
      },
      {
       "output_type": "stream",
       "stream": "stdout",
       "text": [
        " 4.19340904227\n",
        "Statistical Uncertainty = 0.000235\n"
       ]
      }
     ],
     "prompt_number": 7
    },
    {
     "cell_type": "heading",
     "level": 3,
     "metadata": {},
     "source": [
      "Question 3"
     ]
    },
    {
     "cell_type": "markdown",
     "metadata": {},
     "source": [
      "**(a)** Use the hit or miss Monte Carlo method to estimate the integral of f(x) = 4\u221a1\u2212x^2\u203e\u203e in the interval 0\u2264x\u22641 as a function of N, the number of samples. Let N range from 10^1 to 10^6 and use at least 100 different values for N.\n",
      "\n",
      "(np.logspace might be useful here to get evenly spaced values for N.)"
     ]
    },
    {
     "cell_type": "code",
     "collapsed": false,
     "input": [
      "def hitOrMiss(N,xmin=0.,xmax=1.):\n",
      "\n",
      "    #Set up the function\n",
      "    f = lambda x: 4*np.sqrt(1-x**2)\n",
      "    x = np.arange(0.,1.,0.001)\n",
      "\n",
      "    #find the maximum value of f within the boundary to set ymax\n",
      "    subx = x[logical_and((x > xmin),(x < xmax))]\n",
      "    ymax = f(subx).max()*1.05\n",
      "    ymin = 0.\n",
      "\n",
      "    ##########################################################\n",
      "    #Here's the integration part:\n",
      "    samples_x = xmin + (xmax-xmin)*np.random.random_sample(N);\n",
      "    samples_y = ymin + (ymax-ymin)*np.random.random_sample(N);\n",
      "    \n",
      "    newmask = (samples_y < f(samples_x))\n",
      "    I = (xmax-xmin)*(ymax-ymin)*newmask.sum()/newmask.size\n",
      "\n",
      "\n",
      "\n",
      "\n",
      "    return I\n",
      "\n",
      "i = np.logspace(1, 6, 100)\n",
      "\n",
      "for N in i:\n",
      "    print hitOrMiss(N)\n"
     ],
     "language": "python",
     "metadata": {},
     "outputs": [
      {
       "output_type": "stream",
       "stream": "stdout",
       "text": [
        "2.93999853\n",
        "2.67272593636\n",
        "3.849998075\n",
        "3.29999835\n",
        "3.91999804\n",
        "3.4588218\n",
        "2.93999853\n",
        "3.43636191818\n",
        "3.191998404\n",
        "2.849998575\n",
        "2.70967606452\n",
        "3.23999838\n",
        "3.35999832\n",
        "3.82666475333\n",
        "3.275998362\n",
        "3.2421036421\n",
        "3.08437345781\n",
        "3.38333164167\n",
        "3.31851685926\n",
        "3.13845996923\n",
        "3.00588085\n",
        "3.49999825\n",
        "2.89767296977\n",
        "3.04137778965\n",
        "3.16296138148\n",
        "3.09835910656\n",
        "3.21658375756\n",
        "3.21818020909\n",
        "3.08107954054\n",
        "3.13195719691\n",
        "3.15963144771\n",
        "3.05558430327\n",
        "2.9999985\n",
        "3.11379154655\n",
        "3.09558386487\n",
        "3.11589587795\n",
        "3.16438197945\n",
        "3.0803773502\n",
        "3.17782973639\n",
        "3.06888258573\n",
        "3.16504139742\n",
        "3.13928414464\n",
        "3.10628156571\n",
        "3.13301730141\n",
        "3.01150928561\n",
        "3.15280141345\n",
        "3.10408590043\n",
        "3.19086134873\n",
        "3.14209180245\n",
        "3.14683047486\n",
        "3.13715152005\n",
        "3.07412173605\n",
        "3.14428785798\n",
        "3.14248263928\n",
        "3.14763710684\n",
        "3.14123967062\n",
        "3.14532067266\n",
        "3.13000901141\n",
        "3.12145307032\n",
        "3.14526820212\n",
        "3.14196821077\n",
        "3.10231476266\n",
        "3.15232658348\n",
        "3.13390197933\n",
        "3.13382377134\n",
        "3.13658532362\n",
        "3.13342769433\n",
        "3.13667873413\n",
        "3.14092173283\n",
        "3.15116745972\n",
        "3.13249027144\n",
        "3.15727362572\n",
        "3.1337706973\n",
        "3.14477282814\n",
        "3.13904130697\n",
        "3.14320480399\n",
        "3.14314325041\n",
        "3.14140054228\n",
        "3.14210296594\n",
        "3.12730038108"
       ]
      },
      {
       "output_type": "stream",
       "stream": "stdout",
       "text": [
        "\n",
        "3.13814456438\n",
        "3.14659165859\n",
        "3.13525924919\n",
        "3.1496676995\n",
        "3.14290838093\n",
        "3.14738818912"
       ]
      },
      {
       "output_type": "stream",
       "stream": "stdout",
       "text": [
        "\n",
        "3.14628912173\n",
        "3.14499231141\n",
        "3.13897598707\n",
        "3.14135511308"
       ]
      },
      {
       "output_type": "stream",
       "stream": "stdout",
       "text": [
        "\n",
        "3.15010309032\n",
        "3.14020176644\n",
        "3.14624929018"
       ]
      },
      {
       "output_type": "stream",
       "stream": "stdout",
       "text": [
        "\n",
        "3.14047526128\n",
        "3.14146630244"
       ]
      },
      {
       "output_type": "stream",
       "stream": "stdout",
       "text": [
        "\n",
        "3.14219568412\n",
        "3.14062183503"
       ]
      },
      {
       "output_type": "stream",
       "stream": "stdout",
       "text": [
        "\n",
        "3.14330742464"
       ]
      },
      {
       "output_type": "stream",
       "stream": "stdout",
       "text": [
        "\n",
        "3.14206163842"
       ]
      },
      {
       "output_type": "stream",
       "stream": "stdout",
       "text": [
        "\n",
        "3.13952363024"
       ]
      },
      {
       "output_type": "stream",
       "stream": "stdout",
       "text": [
        "\n"
       ]
      }
     ],
     "prompt_number": 6
    },
    {
     "cell_type": "markdown",
     "metadata": {},
     "source": [
      "**(b)** Calculate the percent error for the N values from part (a) using the exact result \u03c0. Make a log-log plot of the error as a function of N.\n",
      "What is the approximate functional dependence of the error on N for large N, for example N\u226510^4?"
     ]
    },
    {
     "cell_type": "code",
     "collapsed": false,
     "input": [
      "i = np.logspace(1, 6, 100)\n",
      "p = []\n",
      "for N in i:\n",
      "    p.append(hitOrMiss(N))\n",
      "\n",
      "error = abs(((np.array(p)-np.pi)/np.pi)*100)\n",
      "plt.loglog(i, error);"
     ],
     "language": "python",
     "metadata": {},
     "outputs": [
      {
       "metadata": {},
       "output_type": "display_data",
       "png": "[encoded data removed]",
       "text": [
        "<matplotlib.figure.Figure at 0x107ee13d0>"
       ]
      }
     ],
     "prompt_number": 8
    },
    {
     "cell_type": "markdown",
     "metadata": {},
     "source": [
      "**(c)** Estimate the same integral using the sample mean method and compute the statistical uncertainty and error as a function of the number of samples N for N\u226510^4. Use at least 100 different values for N.\n",
      "\n",
      "Make a log-log plot of both the statistical uncertainty and the error as a function of N.\n",
      "\n",
      "How many samples are needed to determine the result to two decimal places? What is the approximate functional dependence of the error on N for large N?"
     ]
    },
    {
     "cell_type": "code",
     "collapsed": false,
     "input": [
      "fxy =  lambda x: 4*np.sqrt(1-x**2)\n",
      "xa = 0.; xb = 1.\n",
      "c = []\n",
      "i = np.logspace(1,6,100)\n",
      "for N in i:\n",
      "    x = (xb-xa)*np.random.random_sample(N)\n",
      "    \n",
      "    I = (xb-xa)*fxy(x).mean()\n",
      "    c.append(I)\n",
      "\n",
      "error = abs((np.array(c)-np.pi)/np.pi)*100\n",
      "plt.loglog(i, error);\n",
      "plt.title('Percent Error');\n",
      "    \n"
     ],
     "language": "python",
     "metadata": {},
     "outputs": [
      {
       "metadata": {},
       "output_type": "display_data",
       "png": "[encoded data removed]",
       "text": [
        "<matplotlib.figure.Figure at 0x101e744d0>"
       ]
      }
     ],
     "prompt_number": 9
    },
    {
     "cell_type": "code",
     "collapsed": false,
     "input": [
      "\n",
      "def function(N):\n",
      "    f = lambda x: 4*np.sqrt(1-x**2)\n",
      "    x = np.arange(0.,1.,0.001)\n",
      "    xmin = 0.\n",
      "    xmax = 1.\n",
      "    Iexact = np.pi\n",
      "\n",
      "    ##########################################################\n",
      "    #Here's the integration part:\n",
      "    samples_x = xmin + (xmax-xmin)*np.random.random_sample(N);\n",
      "\n",
      "    approx = f(samples_x)\n",
      "    I = approx.mean()*(xmax-xmin)\n",
      "    \n",
      "    #Numerical uncertainty\n",
      "    Iunc = (xmax-xmin)*np.sqrt( ((approx**2).mean()-(approx.mean())**2)/N )\n",
      "    \n",
      "    #Comparison with exact result\n",
      "    Ierr = 100*np.abs(Iexact-I)/Iexact\n",
      "    ##########################################################\n",
      "    \n",
      "    #find the maximum value of f within the boundary to set ymax\n",
      "    return [I, Iunc, Ierr]\n",
      "    \n",
      "i = np.logspace(1,6, 100)\n",
      "a = []\n",
      "b = []\n",
      "c = []\n",
      "\n",
      "for N in i:\n",
      "    p = function(N)\n",
      "    a.append(p[0])\n",
      "    b.append(p[1])\n",
      "    c.append(p[2])\n",
      "\n",
      "print a[50]\n",
      "plt.loglog(i,b)\n",
      "plt.title('Statistical Uncertainty')\n",
      "plt.xlim(0,1e6)\n",
      "plt.show()\n",
      "\n",
      "plt.figure()\n",
      "\n",
      "plt.loglog(i,c)\n",
      "plt.title('Percent Error')\n",
      "plt.xlim(0,1e6)\n",
      "plt.show()"
     ],
     "language": "python",
     "metadata": {},
     "outputs": [
      {
       "output_type": "stream",
       "stream": "stdout",
       "text": [
        "3.17293905684\n"
       ]
      },
      {
       "metadata": {},
       "output_type": "display_data",
       "png": "[encoded data removed]",
       "text": [
        "<matplotlib.figure.Figure at 0x100783950>"
       ]
      },
      {
       "metadata": {},
       "output_type": "display_data",
       "png": "[encoded data removed]",
       "text": [
        "<matplotlib.figure.Figure at 0x1007e55d0>"
       ]
      }
     ],
     "prompt_number": 10
    },
    {
     "cell_type": "code",
     "collapsed": false,
     "input": [],
     "language": "python",
     "metadata": {},
     "outputs": []
    }
   ],
   "metadata": {}
  }
 ]
}