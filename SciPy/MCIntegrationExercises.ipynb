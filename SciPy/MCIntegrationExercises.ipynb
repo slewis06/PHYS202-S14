{
 "metadata": {
  "name": "",
  "signature": "sha256:eab14342b92d3ee5b6fe47523b185476057e903b3015f9d6c22546936e02c581"
 },
 "nbformat": 3,
 "nbformat_minor": 0,
 "worksheets": [
  {
   "cells": [
    {
     "cell_type": "heading",
     "level": 1,
     "metadata": {},
     "source": [
      "Monte Carlo Integration Exercises"
     ]
    },
    {
     "cell_type": "heading",
     "level": 3,
     "metadata": {},
     "source": [
      "Question 1"
     ]
    },
    {
     "cell_type": "markdown",
     "metadata": {},
     "source": [
      "Let\u2019s compute the electric potential from a plane of charge as shown in the figure using Monte Carlo integration.\n",
      "\n",
      "The integral comes from summing all the potentials from the chunks of \u201cpoint\u201d charges. Just as we summed two charges for a dipole, now we\u2019ll sum many charges. The important part is to understand how dQ, modeled as a point charge, is related to \u03c3dA, where \u03c3 is the surface charge density = charge/area (\u03c3=Q/A ) Review your notes from PHYS 133 if you need a refresher.\n",
      "We want to use our previously defined pointPotential() function from Electrostatics.py, so we have to import it."
     ]
    },
    {
     "cell_type": "code",
     "collapsed": false,
     "input": [
      "%pylab inline\n",
      "import numpy as np\n",
      "import matplotlib.pyplot as plt"
     ],
     "language": "python",
     "metadata": {},
     "outputs": [
      {
       "output_type": "stream",
       "stream": "stdout",
       "text": [
        "Populating the interactive namespace from numpy and matplotlib\n"
       ]
      }
     ],
     "prompt_number": 1
    },
    {
     "cell_type": "code",
     "collapsed": false,
     "input": [
      "#Import our point potential function\n",
      "from Electrostatics import *"
     ],
     "language": "python",
     "metadata": {},
     "outputs": [],
     "prompt_number": 2
    },
    {
     "cell_type": "markdown",
     "metadata": {},
     "source": [
      "**(a)** Use the sample mean method to compute the potential at point P(2,3) due to the disk of charge for different numbers of samples N=(10^1,10^2,10^3,10^4,10^5,10^6). Report the value and its statistical uncertainty for each sample size. How does the result depend on N?"
     ]
    },
    {
     "cell_type": "code",
     "collapsed": false,
     "input": [
      "#pointPotential seems to be working incorrectly, it gives a result many orders of magnitude higher than it should.\n",
      "\n",
      "fxy =  lambda x,y: pointPotential(2.,3.,1e-6,x,y)\n",
      "xa = -1.; xb = 1.\n",
      "ya = 0.; yb = 2.\n",
      "\n",
      "i = (10,100,1000,10000,100000,1000000)\n",
      "for N in i:\n",
      "    x = (xb-xa)*np.random.random_sample(N)\n",
      "    y = (yb-ya)*np.random.random_sample(N)\n",
      "\n",
      "    I = (xb-xa)*(yb-ya)*fxy(x,y).mean()\n",
      "    \n",
      "    \n",
      "    print I"
     ],
     "language": "python",
     "metadata": {},
     "outputs": [
      {
       "output_type": "stream",
       "stream": "stdout",
       "text": [
        "14960.8571983\n",
        "16538.4437502\n",
        "16600.0572779\n",
        "16669.868595\n",
        "16724.2786707\n",
        "16711.1476104"
       ]
      },
      {
       "output_type": "stream",
       "stream": "stdout",
       "text": [
        "\n"
       ]
      }
     ],
     "prompt_number": 10
    },
    {
     "cell_type": "markdown",
     "metadata": {},
     "source": [
      "**(b)** Now use the same method to compute the electric potential, V, at point P(2,3), from a disk centered on the origin with radius, R=1.2 cm, and charge density, \u03c3 = 2 nC/m2 ."
     ]
    },
    {
     "cell_type": "code",
     "collapsed": false,
     "input": [
      "R = np.sqrt(13)\n",
      "K = 8.987e9\n",
      "sigma = 2e-9\n",
      "fxy =  lambda r,theta: K*r*sigma/(R-r)\n",
      "rmin = 0.; rmax = 1.2\n",
      "thetamin = 0.; thetamax = 2*np.pi\n",
      "\n",
      "i = (10,100,1000,10000,100000,1000000)\n",
      "for N in i:\n",
      "    r = (rmax-rmin)*np.random.random_sample(N)\n",
      "    theta = (thetamax-thetamin)*np.random.random_sample(N)\n",
      "\n",
      "    I = (rmax-rmin)*(thetamax-thetamin)*fxy(r,theta).mean()\n",
      "    \n",
      "    \n",
      "    print I"
     ],
     "language": "python",
     "metadata": {},
     "outputs": [
      {
       "output_type": "stream",
       "stream": "stdout",
       "text": [
        "16.9617260349\n",
        "28.233765282\n",
        "28.6064198331\n",
        "28.8916341798\n",
        "29.2350034573\n",
        "29.2771611416"
       ]
      },
      {
       "output_type": "stream",
       "stream": "stdout",
       "text": [
        "\n"
       ]
      }
     ],
     "prompt_number": 13
    },
    {
     "cell_type": "heading",
     "level": 3,
     "metadata": {},
     "source": [
      "Question 2"
     ]
    },
    {
     "cell_type": "markdown",
     "metadata": {},
     "source": [
      "Use the sample mean method to compute the volume of a sphere with radius 1 using spherical coordinates:\n",
      "\n",
      "V=\u222b10\u222b\u03c00\u222b2\u03c00r2sin(\u03b8)drd\u03b8d\u03d5\n",
      "\n",
      "for N=(10^1,10^2,10^3,10^4,10^5,10^6). Report the value and statistical uncertainty for each sample size. How does the result depend on N?"
     ]
    },
    {
     "cell_type": "code",
     "collapsed": false,
     "input": [
      "fxy =  lambda r,theta,phi: (r**2)*np.sin(theta)\n",
      "rmin = 0.; rmax = 1\n",
      "thetamin = 0.; thetamax = np.pi\n",
      "phimin = 0.; phimax = 2*np.pi\n",
      "\n",
      "i = (10,100,1000,10000,100000,1000000)\n",
      "for N in i:\n",
      "    r = (rmax-rmin)*np.random.random_sample(N)\n",
      "    theta = (thetamax-thetamin)*np.random.random_sample(N)\n",
      "    phi = (phimax - phimin)*np.random.random_sample(N)\n",
      "    \n",
      "    I = (rmax-rmin)*(thetamax-thetamin)*(phimax - phimin)*fxy(r,theta,phi).mean()\n",
      "    \n",
      "    \n",
      "    print I"
     ],
     "language": "python",
     "metadata": {},
     "outputs": [
      {
       "output_type": "stream",
       "stream": "stdout",
       "text": [
        "3.51961948373\n",
        "4.15403651973\n",
        "4.11294195566\n",
        "4.15341527245\n",
        "4.19629427974\n",
        "4.18617491291"
       ]
      },
      {
       "output_type": "stream",
       "stream": "stdout",
       "text": [
        "\n"
       ]
      }
     ],
     "prompt_number": 16
    },
    {
     "cell_type": "heading",
     "level": 3,
     "metadata": {},
     "source": [
      "Question 3"
     ]
    },
    {
     "cell_type": "markdown",
     "metadata": {},
     "source": [
      "**(a)** Use the hit or miss Monte Carlo method to estimate the integral of f(x) = 4\u221a1\u2212x^2\u203e\u203e in the interval 0\u2264x\u22641 as a function of N, the number of samples. Let N range from 10^1 to 10^6 and use at least 100 different values for N.\n",
      "\n",
      "(np.logspace might be useful here to get evenly spaced values for N.)"
     ]
    },
    {
     "cell_type": "code",
     "collapsed": false,
     "input": [
      "def hitOrMiss(N,xmin=0.,xmax=1.):\n",
      "\n",
      "    #Set up the function\n",
      "    f = lambda x: 4*np.sqrt(1-x**2)\n",
      "    x = np.arange(0.,1.,0.001)\n",
      "\n",
      "    #find the maximum value of f within the boundary to set ymax\n",
      "    subx = x[logical_and((x > xmin),(x < xmax))]\n",
      "    ymax = f(subx).max()*1.05\n",
      "    ymin = 0.\n",
      "\n",
      "    ##########################################################\n",
      "    #Here's the integration part:\n",
      "    samples_x = xmin + (xmax-xmin)*np.random.random_sample(N);\n",
      "    samples_y = ymin + (ymax-ymin)*np.random.random_sample(N);\n",
      "    \n",
      "    newmask = (samples_y < f(samples_x))\n",
      "    I = (xmax-xmin)*(ymax-ymin)*newmask.sum()/newmask.size\n",
      "\n",
      "\n",
      "\n",
      "\n",
      "    return I\n",
      "\n",
      "i = np.linspace(10, 1e6, 101)\n",
      "\n",
      "for N in i:\n",
      "    print hitOrMiss(N)\n"
     ],
     "language": "python",
     "metadata": {},
     "outputs": [
      {
       "output_type": "stream",
       "stream": "stdout",
       "text": [
        "3.35999832\n",
        "3.15765652887\n",
        "3.12381272166\n",
        "3.14569471826\n",
        "3.13774243873\n",
        "3.13901740707\n",
        "3.14511665971\n",
        "3.14437415093\n",
        "3.14691439849\n",
        "3.13909118784\n",
        "3.14879103427\n",
        "3.13335237122\n",
        "3.14614868357\n",
        "3.13536394829"
       ]
      },
      {
       "output_type": "stream",
       "stream": "stdout",
       "text": [
        "\n",
        "3.13925904405\n",
        "3.13790307613\n",
        "3.14718981683\n",
        "3.1420188045\n",
        "3.13989554573\n",
        "3.14113459212"
       ]
      },
      {
       "output_type": "stream",
       "stream": "stdout",
       "text": [
        "\n",
        "3.13737793613\n",
        "3.14299366199\n",
        "3.1459465105\n",
        "3.14020633661"
       ]
      },
      {
       "output_type": "stream",
       "stream": "stdout",
       "text": [
        "\n",
        "3.14267926713\n",
        "3.14140966978\n",
        "3.1426122814\n",
        "3.14039701206"
       ]
      },
      {
       "output_type": "stream",
       "stream": "stdout",
       "text": [
        "\n",
        "3.14069491224\n",
        "3.1363378995\n",
        "3.1420851136"
       ]
      },
      {
       "output_type": "stream",
       "stream": "stdout",
       "text": [
        "\n",
        "3.14524980961\n",
        "3.14306199603\n",
        "3.14322127888"
       ]
      },
      {
       "output_type": "stream",
       "stream": "stdout",
       "text": [
        "\n",
        "3.14470528576\n",
        "3.14009259977\n",
        "3.14208272755"
       ]
      },
      {
       "output_type": "stream",
       "stream": "stdout",
       "text": [
        "\n",
        "3.14046912483\n",
        "3.1451298201\n",
        "3.1414854833"
       ]
      },
      {
       "output_type": "stream",
       "stream": "stdout",
       "text": [
        "\n",
        "3.14159330528\n",
        "3.13906063703"
       ]
      },
      {
       "output_type": "stream",
       "stream": "stdout",
       "text": [
        "\n",
        "3.13911106005\n",
        "3.14542975948"
       ]
      },
      {
       "output_type": "stream",
       "stream": "stdout",
       "text": [
        "\n",
        "3.1418109085\n",
        "3.14068619979"
       ]
      },
      {
       "output_type": "stream",
       "stream": "stdout",
       "text": [
        "\n",
        "3.14511598051\n",
        "3.14077863408"
       ]
      },
      {
       "output_type": "stream",
       "stream": "stdout",
       "text": [
        "\n",
        "3.14820688206\n",
        "3.14245779143"
       ]
      },
      {
       "output_type": "stream",
       "stream": "stdout",
       "text": [
        "\n",
        "3.13580467403\n",
        "3.14219966654"
       ]
      },
      {
       "output_type": "stream",
       "stream": "stdout",
       "text": [
        "\n",
        "3.14083926927\n",
        "3.14414224571"
       ]
      },
      {
       "output_type": "stream",
       "stream": "stdout",
       "text": [
        "\n",
        "3.14491957627\n",
        "3.13867378575"
       ]
      },
      {
       "output_type": "stream",
       "stream": "stdout",
       "text": [
        "\n",
        "3.14658595108\n",
        "3.14034586598"
       ]
      },
      {
       "output_type": "stream",
       "stream": "stdout",
       "text": [
        "\n",
        "3.1345019879\n",
        "3.14232458256"
       ]
      },
      {
       "output_type": "stream",
       "stream": "stdout",
       "text": [
        "\n",
        "3.1395894996\n",
        "3.13977905414"
       ]
      },
      {
       "output_type": "stream",
       "stream": "stdout",
       "text": [
        "\n",
        "3.14203709654\n",
        "3.14128347086"
       ]
      },
      {
       "output_type": "stream",
       "stream": "stdout",
       "text": [
        "\n",
        "3.14103901835\n",
        "3.14425899282"
       ]
      },
      {
       "output_type": "stream",
       "stream": "stdout",
       "text": [
        "\n",
        "3.14430777189\n",
        "3.14155301928"
       ]
      },
      {
       "output_type": "stream",
       "stream": "stdout",
       "text": [
        "\n",
        "3.14238133006"
       ]
      },
      {
       "output_type": "stream",
       "stream": "stdout",
       "text": [
        "\n",
        "3.13918043397"
       ]
      },
      {
       "output_type": "stream",
       "stream": "stdout",
       "text": [
        "\n",
        "3.14435095203"
       ]
      },
      {
       "output_type": "stream",
       "stream": "stdout",
       "text": [
        "\n",
        "3.13963155798"
       ]
      },
      {
       "output_type": "stream",
       "stream": "stdout",
       "text": [
        "\n",
        "3.14062720572"
       ]
      },
      {
       "output_type": "stream",
       "stream": "stdout",
       "text": [
        "\n",
        "3.14022626488"
       ]
      },
      {
       "output_type": "stream",
       "stream": "stdout",
       "text": [
        "\n",
        "3.14699884001"
       ]
      },
      {
       "output_type": "stream",
       "stream": "stdout",
       "text": [
        "\n",
        "3.14296204728"
       ]
      },
      {
       "output_type": "stream",
       "stream": "stdout",
       "text": [
        "\n",
        "3.14443620558"
       ]
      },
      {
       "output_type": "stream",
       "stream": "stdout",
       "text": [
        "\n",
        "3.14077208994"
       ]
      },
      {
       "output_type": "stream",
       "stream": "stdout",
       "text": [
        "\n",
        "3.14093345278"
       ]
      },
      {
       "output_type": "stream",
       "stream": "stdout",
       "text": [
        "\n",
        "3.1416436402"
       ]
      },
      {
       "output_type": "stream",
       "stream": "stdout",
       "text": [
        "\n",
        "3.14160107519"
       ]
      },
      {
       "output_type": "stream",
       "stream": "stdout",
       "text": [
        "\n",
        "3.14119010694"
       ]
      },
      {
       "output_type": "stream",
       "stream": "stdout",
       "text": [
        "\n",
        "3.13992484476"
       ]
      },
      {
       "output_type": "stream",
       "stream": "stdout",
       "text": [
        "\n",
        "3.14339608686"
       ]
      },
      {
       "output_type": "stream",
       "stream": "stdout",
       "text": [
        "\n",
        "3.14063969082"
       ]
      },
      {
       "output_type": "stream",
       "stream": "stdout",
       "text": [
        "\n",
        "3.14129332195"
       ]
      },
      {
       "output_type": "stream",
       "stream": "stdout",
       "text": [
        "\n",
        "3.14151175306"
       ]
      },
      {
       "output_type": "stream",
       "stream": "stdout",
       "text": [
        "\n",
        "3.14479550255"
       ]
      },
      {
       "output_type": "stream",
       "stream": "stdout",
       "text": [
        "\n",
        "3.13969531686"
       ]
      },
      {
       "output_type": "stream",
       "stream": "stdout",
       "text": [
        "\n",
        "3.14079737252"
       ]
      },
      {
       "output_type": "stream",
       "stream": "stdout",
       "text": [
        "\n",
        "3.13926160896"
       ]
      },
      {
       "output_type": "stream",
       "stream": "stdout",
       "text": [
        "\n",
        "3.14089227571"
       ]
      },
      {
       "output_type": "stream",
       "stream": "stdout",
       "text": [
        "\n",
        "3.14171712479"
       ]
      },
      {
       "output_type": "stream",
       "stream": "stdout",
       "text": [
        "\n",
        "3.13845520496"
       ]
      },
      {
       "output_type": "stream",
       "stream": "stdout",
       "text": [
        "\n",
        "3.1427467265"
       ]
      },
      {
       "output_type": "stream",
       "stream": "stdout",
       "text": [
        "\n",
        "3.13976369327"
       ]
      },
      {
       "output_type": "stream",
       "stream": "stdout",
       "text": [
        "\n",
        "3.14142780428"
       ]
      },
      {
       "output_type": "stream",
       "stream": "stdout",
       "text": [
        "\n",
        "3.1420920372"
       ]
      },
      {
       "output_type": "stream",
       "stream": "stdout",
       "text": [
        "\n",
        "3.1406812868"
       ]
      },
      {
       "output_type": "stream",
       "stream": "stdout",
       "text": [
        "\n",
        "3.14175964124"
       ]
      },
      {
       "output_type": "stream",
       "stream": "stdout",
       "text": [
        "\n",
        "3.14424442788"
       ]
      },
      {
       "output_type": "stream",
       "stream": "stdout",
       "text": [
        "\n"
       ]
      }
     ],
     "prompt_number": 28
    },
    {
     "cell_type": "markdown",
     "metadata": {},
     "source": [
      "**(b)** Calculate the percent error for the N values from part (a) using the exact result \u03c0. Make a log-log plot of the error as a function of N.\n",
      "What is the approximate functional dependence of the error on N for large N, for example N\u226510^4?"
     ]
    },
    {
     "cell_type": "code",
     "collapsed": false,
     "input": [
      "i = np.linspace(10, 1e6, 101)\n",
      "p = []\n",
      "for N in i:\n",
      "    p.append(hitOrMiss(N))\n",
      "\n",
      "error = abs(((np.array(p)-np.pi)/np.pi)*100)\n",
      "plt.loglog(i, error);"
     ],
     "language": "python",
     "metadata": {},
     "outputs": [
      {
       "metadata": {},
       "output_type": "display_data",
       "png": "[encoded data removed]",
       "text": [
        "<matplotlib.figure.Figure at 0x1070d3a10>"
       ]
      }
     ],
     "prompt_number": 34
    },
    {
     "cell_type": "markdown",
     "metadata": {},
     "source": [
      "**(c)** Estimate the same integral using the sample mean method and compute the statistical uncertainty and error as a function of the number of samples N for N\u226510^4. Use at least 100 different values for N.\n",
      "\n",
      "Make a log-log plot of both the statistical uncertainty and the error as a function of N.\n",
      "\n",
      "How many samples are needed to determine the result to two decimal places? What is the approximate functional dependence of the error on N for large N?"
     ]
    },
    {
     "cell_type": "code",
     "collapsed": false,
     "input": [
      "fxy =  lambda x: 4*np.sqrt(1-x**2)\n",
      "xa = 0.; xb = 1.\n",
      "c = []\n",
      "i = np.linspace(10,1e6,101)\n",
      "for N in i:\n",
      "    x = (xb-xa)*np.random.random_sample(N)\n",
      "    \n",
      "    I = (xb-xa)*fxy(x).mean()\n",
      "    c.append(I)\n",
      "\n",
      "error = abs((np.array(c)-np.pi)/np.pi)*100\n",
      "plt.loglog(i, error);\n",
      "plt.title('Percent Error');\n",
      "    \n"
     ],
     "language": "python",
     "metadata": {},
     "outputs": [
      {
       "metadata": {},
       "output_type": "display_data",
       "png": "[encoded data removed]",
       "text": [
        "<matplotlib.figure.Figure at 0x104711c90>"
       ]
      }
     ],
     "prompt_number": 40
    },
    {
     "cell_type": "code",
     "collapsed": false,
     "input": [
      "\n",
      "def function(N):\n",
      "    f = lambda x: 4*np.sqrt(1-x**2)\n",
      "    x = np.arange(0.,1.,0.001)\n",
      "    xmin = 0.\n",
      "    xmax = 1.\n",
      "    Iexact = np.pi\n",
      "\n",
      "    ##########################################################\n",
      "    #Here's the integration part:\n",
      "    samples_x = xmin + (xmax-xmin)*np.random.random_sample(N);\n",
      "\n",
      "    approx = f(samples_x)\n",
      "    I = approx.mean()*(xmax-xmin)\n",
      "    \n",
      "    #Numerical uncertainty\n",
      "    Iunc = (xmax-xmin)*np.sqrt( ((approx**2).mean()-(approx.mean())**2)/N )\n",
      "    \n",
      "    #Comparison with exact result\n",
      "    Ierr = 100*np.abs(Iexact-I)/Iexact\n",
      "    ##########################################################\n",
      "    \n",
      "    #find the maximum value of f within the boundary to set ymax\n",
      "    return [I, Iunc, Ierr]\n",
      "    \n",
      "i = np.linspace(10.,1e6, 101)\n",
      "a = []\n",
      "b = []\n",
      "c = []\n",
      "\n",
      "for N in i:\n",
      "    p = function(N)\n",
      "    a.append(p[0])\n",
      "    b.append(p[1])\n",
      "    c.append(p[2])\n",
      "\n",
      "print a[50]\n",
      "plt.loglog(i,b)\n",
      "plt.title('Statistical Uncertainty')\n",
      "plt.xlim(0,1e6)\n",
      "plt.show()\n",
      "\n",
      "plt.figure()\n",
      "\n",
      "plt.loglog(i,c)\n",
      "plt.title('Percent Error')\n",
      "plt.xlim(0,1e6)\n",
      "plt.show()"
     ],
     "language": "python",
     "metadata": {},
     "outputs": [
      {
       "output_type": "stream",
       "stream": "stdout",
       "text": [
        "3.14317906516\n"
       ]
      },
      {
       "metadata": {},
       "output_type": "display_data",
       "png": "[encoded data removed]",
       "text": [
        "<matplotlib.figure.Figure at 0x1079dec10>"
       ]
      },
      {
       "metadata": {},
       "output_type": "display_data",
       "png": "[encoded data removed]",
       "text": [
        "<matplotlib.figure.Figure at 0x107e74c90>"
       ]
      }
     ],
     "prompt_number": 10
    },
    {
     "cell_type": "code",
     "collapsed": false,
     "input": [],
     "language": "python",
     "metadata": {},
     "outputs": []
    }
   ],
   "metadata": {}
  }
 ]
}