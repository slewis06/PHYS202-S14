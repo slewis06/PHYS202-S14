{
 "metadata": {
  "name": "",
  "signature": "sha256:d68b459b3626c288e8033e12f8bbe56f708f2d9a8fcef2bd23d7f0be02511ed8"
 },
 "nbformat": 3,
 "nbformat_minor": 0,
 "worksheets": [
  {
   "cells": [
    {
     "cell_type": "heading",
     "level": 1,
     "metadata": {},
     "source": [
      "Random Numbers, Monte Carlo Sampling and Simulation Exercises"
     ]
    },
    {
     "cell_type": "code",
     "collapsed": false,
     "input": [
      "%pylab inline\n",
      "import numpy as np\n",
      "import matplotlib.pyplot as plt\n",
      "from IPython.html.widgets import interact, interactive\n",
      "from scipy.integrate import trapz,cumtrapz"
     ],
     "language": "python",
     "metadata": {},
     "outputs": [
      {
       "output_type": "stream",
       "stream": "stdout",
       "text": [
        "Populating the interactive namespace from numpy and matplotlib\n"
       ]
      }
     ],
     "prompt_number": 1
    },
    {
     "cell_type": "heading",
     "level": 2,
     "metadata": {},
     "source": [
      "Question 1"
     ]
    },
    {
     "cell_type": "markdown",
     "metadata": {},
     "source": [
      "The Weibull distribution, with parameters \u03b1>0 and \u03b2>0 is described by the density function\n",
      "\n",
      "**(a)** Solve for the CDF of the Weibull distribution analytically, using\n",
      "F(x)= \u222bx\u2212\u221ef(t)dt"
     ]
    },
    {
     "cell_type": "code",
     "collapsed": false,
     "input": [],
     "language": "python",
     "metadata": {},
     "outputs": [],
     "prompt_number": 0
    },
    {
     "cell_type": "markdown",
     "metadata": {},
     "source": [
      "<div class=\"inner_cell\">\n",
      "<div class=\"text_cell_render border-box-sizing rendered_html\">\n",
      "<p><strong>(b)</strong> Find the inverse of the CDF <span class=\"math\">\\(F^{-1}(x)\\)</span> analytically.</p>\n",
      "</div>\n",
      "</div>\n",
      "</div>"
     ]
    },
    {
     "cell_type": "code",
     "collapsed": false,
     "input": [],
     "language": "python",
     "metadata": {},
     "outputs": [],
     "prompt_number": 0
    },
    {
     "cell_type": "markdown",
     "metadata": {},
     "source": [
      "<div class=\"inner_cell\">\n",
      "<div class=\"text_cell_render border-box-sizing rendered_html\">\n",
      "<p><strong>(c)</strong> Write a program to generate 10,000 samples from the Weibull distribution and plot the true distribution, the CDF and the sampled distribution as a histogram, all on the same graph. Let <span class=\"math\">\\(\\alpha\\)</span> = 1.5, <span class=\"math\">\\(\\beta\\)</span> = 6.</p>\n",
      "<p>Note: Do not use the built-in Weibull function from <code>numpy.random</code>.</p>\n",
      "</div>\n",
      "</div>\n",
      "</div>"
     ]
    },
    {
     "cell_type": "code",
     "collapsed": false,
     "input": [],
     "language": "python",
     "metadata": {},
     "outputs": [],
     "prompt_number": 1
    },
    {
     "cell_type": "markdown",
     "metadata": {},
     "source": [
      "<div class=\"inner_cell\">\n",
      "<div class=\"text_cell_render border-box-sizing rendered_html\">\n",
      "<p><strong>(d)</strong> Run the four statistical tests of randomness (mean, variance, chi-square, K-S) on your results from question 1(c). Does it pass all of them?</p>\n",
      "</div>\n",
      "</div>\n",
      "</div>"
     ]
    },
    {
     "cell_type": "code",
     "collapsed": false,
     "input": [],
     "language": "python",
     "metadata": {},
     "outputs": [],
     "prompt_number": 1
    },
    {
     "cell_type": "markdown",
     "metadata": {},
     "source": [
      "<div class=\"inner_cell\">\n",
      "<div class=\"text_cell_render border-box-sizing rendered_html\">\n",
      "<h3 id=\"Question-2\">Question 2<a class=\"anchor-link\" href=\"#Question-2\">&#182;</a></h3>\n",
      "</div>\n",
      "</div>\n",
      "</div>\n",
      "\n",
      "<div class=\"cell border-box-sizing text_cell rendered\">\n",
      "<div class=\"prompt input_prompt\">\n",
      "</div>\n",
      "<div class=\"inner_cell\">\n",
      "<div class=\"text_cell_render border-box-sizing rendered_html\">\n",
      "<p>The Beta(4,3) distribution has density</p>\n",
      "<p><span class=\"math\">\\[ f(x) = \\begin{cases} 60 x^3 (1 - x)^2 &amp; 0 \\le x \\le 1 \\\\ 0 &amp; \\text{otherwise} \\end{cases} \\]</span></p>\n",
      "<p>The maximum of this distribution is <span class=\"math\">\\(f(0.6) = 2.0736\\)</span> (exactly).</p>\n",
      "<p><strong>(a)</strong> Write a program that uses the <em>Rejection Sampling Method</em> to generate a set of 10,000 samples from this distribution and plot the density distribution, the CDF, and a histogram of the sampled distribution on the same graph.</p>\n",
      "<p>Note: Do not use the built-in Beta function from <code>numpy.random</code>.</p>\n",
      "</div>\n",
      "</div>\n",
      "</div>\n",
      " "
     ]
    },
    {
     "cell_type": "code",
     "collapsed": false,
     "input": [
      "def f(x):\n",
      "    return (60*x**3)*(1-x)**2\n",
      "\n",
      "x = np.arange(0,1,0.01)\n",
      "ymax = f(x).max()\n",
      "N = 10000\n",
      "samples_x = np.random.random_sample(N);\n",
      "samples_y = ymax*np.random.random_sample(N);\n",
      "\n",
      "\n",
      "plt.plot(x,f(x))\n",
      "plt.plot(samples_x[1:500],samples_y[1:500],'g.')\n",
      "plt.show()"
     ],
     "language": "python",
     "metadata": {},
     "outputs": [
      {
       "metadata": {},
       "output_type": "display_data",
       "png": "[encoded data removed]",
       "text": [
        "<matplotlib.figure.Figure at 0x11a593d50>"
       ]
      }
     ],
     "prompt_number": 40
    },
    {
     "cell_type": "code",
     "collapsed": false,
     "input": [
      "newmask = (samples_y < f(samples_x))\n",
      "newmask.sum()\n",
      "#Just show the first 500 points or it gets hard to see\n",
      "plt.plot(samples_x[1:500],samples_y[1:500],'.')\n",
      "\n",
      "#Use the mask to show the ones below the function in red\n",
      "plt.plot(x,f(x),'k',linewidth=3,label='true distribution')\n",
      "plt.plot(samples_x[newmask[:500]],samples_y[newmask[:500]],'.')\n",
      "plt.hist(samples_x[newmask[:]],bins=100,normed=True,label='sampled distribution')\n",
      "plt.legend(loc='best')\n",
      "plt.show()"
     ],
     "language": "python",
     "metadata": {},
     "outputs": [
      {
       "metadata": {},
       "output_type": "display_data",
       "png": "[encoded data removed]",
       "text": [
        "<matplotlib.figure.Figure at 0x10b7e7b90>"
       ]
      }
     ],
     "prompt_number": 67
    },
    {
     "cell_type": "markdown",
     "metadata": {},
     "source": [
      "<div class=\"inner_cell\">\n",
      "<div class=\"text_cell_render border-box-sizing rendered_html\">\n",
      "<p><strong>(b)</strong> Run the four statistical tests of randomness (mean, variance, chi-square, K-S) on your results from question 2(a). Does it pass all of them?</p>\n",
      "</div>\n",
      "</div>"
     ]
    },
    {
     "cell_type": "code",
     "collapsed": false,
     "input": [
      "#Mean Test\n",
      "m = samples_x[newmask[:]].mean()\n",
      "print \"The mean x_value of the above data is: %.6f\" %(m), \"\\n\"\n",
      "\n",
      "#Variance Test\n",
      "variance = (1./float(len(samples_x[newmask[:]])-1))*((samples_x[newmask[:]] - m)**2).sum()\n",
      "\n",
      "print \"The variance of the data is: %.6f\" %(variance)\n",
      "print \"the standard deviation is: %.6f\" %(np.sqrt(variance)), \"\\n\"\n",
      "\n",
      "#Chi-Square Test\n",
      "n,b = np.histogram(samples_x[newmask[:]], 100)\n",
      "O = n\n",
      "E = f(b[:-1])*0.01*len(samples_x[newmask[:]])\n",
      "Chi = np.sqrt((((O[6:-6]-E[6:-6])**2)/E[6:-6]).sum())\n",
      "print Chi"
     ],
     "language": "python",
     "metadata": {},
     "outputs": [
      {
       "output_type": "stream",
       "stream": "stdout",
       "text": [
        "The mean x_value of the above data is: 0.572626 \n",
        "\n",
        "The variance of the data is: 0.031105\n",
        "the standard deviation is: 0.176366 \n",
        "\n",
        "11.1517186921\n"
       ]
      }
     ],
     "prompt_number": 75
    },
    {
     "cell_type": "markdown",
     "metadata": {},
     "source": [
      "<div class=\"cell border-box-sizing text_cell rendered\">\n",
      "<div class=\"prompt input_prompt\">\n",
      "</div>\n",
      "<div class=\"inner_cell\">\n",
      "<div class=\"text_cell_render border-box-sizing rendered_html\">\n",
      "<h3 id=\"Question-3\">Question 3<a class=\"anchor-link\" href=\"#Question-3\">&#182;</a></h3>\n",
      "</div>\n",
      "</div>\n",
      "</div>\n",
      "\n",
      "<div class=\"cell border-box-sizing text_cell rendered\">\n",
      "<div class=\"prompt input_prompt\">\n",
      "</div>\n",
      "<div class=\"inner_cell\">\n",
      "<div class=\"text_cell_render border-box-sizing rendered_html\">\n",
      "<p>Nuclei are composed of an ensemble of tightly bound protons and neutrons. If two nuclei are made to collide at very high energies, such as at the CERN Large Hadron Collider (LHC), they can vaporize into quarks and gluons and form a Quark Gluon Plasma.</p>\n",
      "<p>The left-hand figure below shows two Au (gold) nuclei just after a grazing collision in which only a fraction of the 197 protons and neutrons (collectively called <em>nucleons</em>) actually interact. The right-hand side of the figure shows the substructure of the nucleons, which are composed of three quarks and the gluons that hold them together.</p>\n",
      "</div>\n",
      "</div>\n",
      "</div>\n",
      "<div class=\"cell border-box-sizing text_cell rendered\">\n",
      "<div class=\"prompt input_prompt\">\n",
      "</div>\n",
      "<div class=\"inner_cell\">\n",
      "<div class=\"text_cell_render border-box-sizing rendered_html\">\n",
      "<p>Only some of the nucleons interact when the nuclei collide unless they hit perfectly head-on. We define the offset of the two nuclei by an impact parameter, <span class=\"math\">\\(b\\)</span>, defined as the distance between the centers of the two nuclei as seen in a beam's-eye view. This figure illustrates the two-dimensional geometric overlap region.</p>\n",
      "</div>\n",
      "</div>\n",
      "</div>\n",
      "<div class=\"cell border-box-sizing text_cell rendered\">\n",
      "<div class=\"prompt input_prompt\">\n",
      "</div>\n",
      "<div class=\"inner_cell\">\n",
      "<div class=\"text_cell_render border-box-sizing rendered_html\">\n",
      "<p>The distribution of nucleons within a nucleus is not uniform. The radial distribution for spherical nuclei is generally described by the Woods-Saxon density profile, given by</p>\n",
      "<p><span class=\"math\">\\[\n",
      "\\rho(r) = \\frac{\\rho_0 (1 + wr^2/R^2)}{1 + \\exp((r-R)/a)}\n",
      "\\]</span></p>\n",
      "<p>where <span class=\"math\">\\(R\\)</span> is the average radius of the nucleus, and <span class=\"math\">\\(a\\)</span>, <span class=\"math\">\\(w\\)</span> are density parameters. These parameters come from empirical observations of electron scattering off various nuclei. The three parameter Woods-Saxon distribution describes a central nucleon density suppression to minimize the Coulombic potential, a maximum nucleon density radius, and then a fall off to zero density at infinite radius. Typical values for an assortment of nuclei is given in the Table.</p>\n",
      "<table><tr><th>\n",
      "Nucleus\n",
      "</th><th>\n",
      "A\n",
      "</th><th>\n",
      "R (fm)\n",
      "</th><th>\n",
      "a (fm<span class=\"math\">\\(^{-1}\\)</span>)\n",
      "</th><th>\n",
      "w\n",
      "</th></tr>\n",
      "<tr><td>\n",
      "C\n",
      "</td><td>\n",
      "12\n",
      "</td><td>\n",
      "2.47\n",
      "</td><td>\n",
      "0\n",
      "</td><td>\n",
      "0\n",
      "</td></tr>\n",
      "<tr><td>\n",
      "O\n",
      "</td><td>\n",
      "16\n",
      "</td><td>\n",
      "2.608\n",
      "</td><td>\n",
      "0.513\n",
      "</td><td>\n",
      "-0.051\n",
      "</td></tr>\n",
      "<tr><td>\n",
      "Al\n",
      "</td><td>\n",
      "27\n",
      "</td><td>\n",
      "3.07\n",
      "</td><td>\n",
      "0.519\n",
      "</td><td>\n",
      "0\n",
      "</td></tr>\n",
      "<tr><td>\n",
      "S\n",
      "</td><td>\n",
      "32\n",
      "</td><td>\n",
      "3.458\n",
      "</td><td>\n",
      "0.61\n",
      "</td><td>\n",
      "0\n",
      "</td></tr>\n",
      "<tr><td>\n",
      "Ca\n",
      "</td><td>\n",
      "40\n",
      "</td><td>\n",
      "3.76\n",
      "</td><td>\n",
      "0.586\n",
      "</td><td>\n",
      "-0.161\n",
      "</td></tr>\n",
      "<tr><td>\n",
      "Ni\n",
      "</td><td>\n",
      "58\n",
      "</td><td>\n",
      "4.309\n",
      "</td><td>\n",
      "0.516\n",
      "</td><td>\n",
      "-0.1308\n",
      "</td></tr>\n",
      "<tr><td>\n",
      "Cu\n",
      "</td><td>\n",
      "63\n",
      "</td><td>\n",
      "4.2\n",
      "</td><td>\n",
      "0.596\n",
      "</td><td>\n",
      "0\n",
      "</td></tr>\n",
      "<tr><td>\n",
      "W\n",
      "</td><td>\n",
      "186\n",
      "</td><td>\n",
      "6.51\n",
      "</td><td>\n",
      "0.535\n",
      "</td><td>\n",
      "0\n",
      "</td></tr>\n",
      "<tr><td>\n",
      "Au\n",
      "</td><td>\n",
      "197\n",
      "</td><td>\n",
      "6.38\n",
      "</td><td>\n",
      "0.535\n",
      "</td><td>\n",
      "0\n",
      "</td></tr>\n",
      "<tr><td>\n",
      "Pb\n",
      "</td><td>\n",
      "208\n",
      "</td><td>\n",
      "6.68\n",
      "</td><td>\n",
      "0.546\n",
      "</td><td>\n",
      "0\n",
      "</td></tr>\n",
      "<tr><td>\n",
      "U\n",
      "</td><td>\n",
      "238\n",
      "</td><td>\n",
      "6.68\n",
      "</td><td>\n",
      "0.6\n",
      "</td><td>\n",
      "0\n",
      "</td></tr>\n",
      "</table>\n",
      "</div>\n",
      "</div>\n",
      "</div>\n",
      "<div class=\"cell border-box-sizing text_cell rendered\">\n",
      "<div class=\"prompt input_prompt\">\n",
      "</div>\n",
      "<div class=\"inner_cell\">\n",
      "<div class=\"text_cell_render border-box-sizing rendered_html\">\n",
      "<p><strong>(a)</strong> Plot the Woods-Saxon distribution <span class=\"math\">\\(\\rho(r)\\)</span> and <span class=\"math\">\\(r^2\\rho(r)\\)</span> for gold from <span class=\"math\">\\(r\\)</span> = 0 fm to <span class=\"math\">\\(r\\)</span> = 18 fm.</p>\n",
      "</div>\n",
      "</div>\n",
      "</div>"
     ]
    },
    {
     "cell_type": "code",
     "collapsed": false,
     "input": [
      "r = np.arange(0,18,0.001)\n",
      "A = 197\n",
      "R = 6.38 #fm\n",
      "a = 0.535 #fm\n",
      "w = 0\n",
      "\n",
      "p = (1+(w*r**2)/R)/(1+exp((r-R)/a))\n",
      "p2 = (r**2)*p\n",
      "plt.plot(r,p,'r',label = 'p(r)')\n",
      "\n",
      "plt.ylabel('p(r) in terms of $p_0$')\n",
      "plt.xlabel('r (fm)')\n",
      "plt.legend(loc='best')\n",
      "plt.show()\n",
      "plt.figure()\n",
      "\n",
      "plt.plot(r,p2, label='p(r)*r**2')\n",
      "plt.ylabel('(r**2)*p(r) in terms of $p_0$')\n",
      "plt.xlabel('r (fm)')\n",
      "plt.legend(loc='best')\n",
      "plt.show()"
     ],
     "language": "python",
     "metadata": {},
     "outputs": [
      {
       "metadata": {},
       "output_type": "display_data",
       "png": "[encoded data removed]",
       "text": [
        "<matplotlib.figure.Figure at 0x109edb110>"
       ]
      },
      {
       "metadata": {},
       "output_type": "display_data",
       "png": "[encoded data removed]",
       "text": [
        "<matplotlib.figure.Figure at 0x109ed8390>"
       ]
      }
     ],
     "prompt_number": 16
    },
    {
     "cell_type": "markdown",
     "metadata": {},
     "source": [
      "<div class=\"inner_cell\">\n",
      "<div class=\"text_cell_render border-box-sizing rendered_html\">\n",
      "<p><strong>(b)</strong> Let\u2019s create a realistic distribution for two gold ions, A, and B.</p>\n",
      "<ul>\n",
      "<li><p>First, distribute 197 nucleons for each nucleus using the Woods-Saxon distribution multiplied by the spherical coordinate weighting factor, <span class=\"math\">\\(r^2\\)</span>. Use the <code>distribute1d</code> function from the tour to sample <span class=\"math\">\\(r\\)</span> values numerically.</p></li>\n",
      "<li><p>Then, use uniform sampling of a number <span class=\"math\">\\(u\\)</span> from [0,1) scaled by <span class=\"math\">\\(2\\pi\\)</span> to obtain the azimuthal angle <span class=\"math\">\\(\\phi\\)</span> = 2<span class=\"math\">\\(\\pi u\\)</span></p></li>\n",
      "<li><p>Followed by uniform sampling of another number <span class=\"math\">\\(v\\)</span> = [0,1), transformed to <span class=\"math\">\\(\\theta = \\cos^{-1}(2v - 1)\\)</span> to obtain the polar angle <span class=\"math\">\\(\\theta\\)</span>.</p></li>\n",
      "</ul>\n",
      "<p>(Note that this is the physics definition of azimuthal and polar angles, not the math definition.)</p>\n",
      "<p>The reason for these transformations is that the volume element <span class=\"math\">\\(dV = r^2\\sin\\theta dr d\\theta d\\phi\\)</span> has both radial and polar angle dependence. If you do not sample in this way, your results will be bunched up at the poles and toward the outer edges of the sphere.</p>\n",
      "</div>\n",
      "</div>\n",
      "</div>"
     ]
    },
    {
     "cell_type": "code",
     "collapsed": false,
     "input": [
      "def distribute1D(x,prob,N):\n",
      "    \"\"\"takes any distribution which is directly proportional \n",
      "    to the number of particles, and returns data that is \n",
      "    statistically the same as the input data.\"\"\"\n",
      "    CDF = cumtrapz(prob)/np.sum(prob)\n",
      "    xsamples = np.zeros(N,float)\n",
      "    for i in range(0,N):\n",
      "        r = np.random.ranf()\n",
      "        xsamples[i] = x[CDF.searchsorted(r)]\n",
      "    return xsamples"
     ],
     "language": "python",
     "metadata": {},
     "outputs": [],
     "prompt_number": 3
    },
    {
     "cell_type": "code",
     "collapsed": false,
     "input": [
      "r = np.arange(0,18,0.001)\n",
      "A = 197\n",
      "R = 6.38 #fm\n",
      "a = 0.535 #fm\n",
      "w = 0\n",
      "\n",
      "p = (1+(w*r**2)/R)/(1+exp((r-R)/a))\n",
      "p2 = (r**2)*p\n",
      "GoldA = distribute1D(r,p2,A)\n",
      "GoldB = distribute1D(r,p2,A)\n",
      "\n",
      "u = 2*np.pi*np.arange(0,1,0.001)\n"
     ],
     "language": "python",
     "metadata": {},
     "outputs": [],
     "prompt_number": 7
    },
    {
     "cell_type": "markdown",
     "metadata": {},
     "source": [
      "<div class=\"inner_cell\">\n",
      "<div class=\"text_cell_render border-box-sizing rendered_html\">\n",
      "<p><strong>(c)</strong> Once you have the spherical coordinates for each of the nucleons in each nucleus, convert to cartesian coordinates. In nuclear collisions, the beam axis along which the particles travel/collide is the <span class=\"math\">\\(z\\)</span> axis. The polar angle <span class=\"math\">\\(\\theta\\)</span> is measured <em>up</em> from the positive-<span class=\"math\">\\(z\\)</span> axis and the azimuthal angle <span class=\"math\">\\(\\phi\\)</span> is measured <em>up</em> from the positive <span class=\"math\">\\(x\\)</span>-axis.</p>\n",
      "<p>Plot the nuclei in 2d for two different planar projections: the side view (<span class=\"math\">\\(y\\)</span>-<span class=\"math\">\\(z\\)</span>) and the beam's eye view (<span class=\"math\">\\(x\\)</span>-<span class=\"math\">\\(y\\)</span>) side-by-side.</p>\n",
      "<p>Let the nucleons have radius of 1 fm, make the nucleons from each nucleus a different color, and displace them by a randomly chosen impact parameter <span class=\"math\">\\(b\\)</span> between 0 and 18 fm. For example, shift ion A by <span class=\"math\">\\(b/2\\)</span> to the left along the <span class=\"math\">\\(x\\)</span>-axis and B by <span class=\"math\">\\(b/2\\)</span> to the right along the x-axis.</p>\n",
      "</div>\n",
      "</div>\n",
      "</div>"
     ]
    },
    {
     "cell_type": "code",
     "collapsed": false,
     "input": [],
     "language": "python",
     "metadata": {},
     "outputs": [],
     "prompt_number": 1
    },
    {
     "cell_type": "markdown",
     "metadata": {},
     "source": [
      "<div class=\"inner_cell\">\n",
      "<div class=\"text_cell_render border-box-sizing rendered_html\">\n",
      "<p><strong>(d)</strong> Since we cannot measure the impact parameter directly for each collision, we need a method to estimate the geometric overlap so that we can categorize the collisions based on the number of nucleons participating in each collision and how many nucleon-nucleon collisions occurred. Nucleons that pass close enough to each other will experience an inelastic collision that will rip the quarks right out of the nucleon. The distance that dictates when an inelastic collision occurs is governed by the interaction cross-section, which has been measured very carefully at proton colliders. The inelastic cross-section at collision energy of 200 GeV is <span class=\"math\">\\(\\sigma_{inel}\\)</span> = 42 mb (1 mb = 1 millibarn = 10<span class=\"math\">\\(^{-24}\\)</span> cm<span class=\"math\">\\(^2\\)</span> = 10<span class=\"math\">\\(^{-31}\\)</span> m<span class=\"math\">\\(^2\\)</span>), defining an overlap area between two nucleons.</p>\n",
      "<p>Make an <code>interact</code> object for your two plots in part (c) that let's you vary the impact parameter from 0 to 18 fm. On the plots, change the color of the nucleons that &quot;participate&quot; in interactions to something else. (Let the participating nucleons in nucleus A be one color and those in nucleus B be another color.)</p>\n",
      "<p>To do this, you\u2019ll need to find all the nucleons from ion A that are within a distance, <span class=\"math\">\\(D\\)</span>, of a nucleon from ion B using <span class=\"math\">\\(D = \\frac{1}{\\pi}\\sqrt{\\sigma_{inel}}\\)</span>, where <span class=\"math\">\\(\\sigma_{inel}\\)</span> is the cross sectional area measured in millibarns. Don\u2019t forget to convert the millibarns to fm<span class=\"math\">\\(^{2}\\)</span>.</p>\n",
      "</div>\n",
      "</div>\n",
      "</div>"
     ]
    },
    {
     "cell_type": "code",
     "collapsed": false,
     "input": [],
     "language": "python",
     "metadata": {},
     "outputs": []
    }
   ],
   "metadata": {}
  }
 ]
}