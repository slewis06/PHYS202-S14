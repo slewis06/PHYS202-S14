{
 "metadata": {
  "name": "",
  "signature": "sha256:970da14b50d153aac64f5059506f594051b1fc527de86f077345278011a573a2"
 },
 "nbformat": 3,
 "nbformat_minor": 0,
 "worksheets": [
  {
   "cells": [
    {
     "cell_type": "heading",
     "level": 1,
     "metadata": {},
     "source": [
      "ODE Exercises"
     ]
    },
    {
     "cell_type": "code",
     "collapsed": false,
     "input": [
      "%pylab inline\n",
      "import numpy as np\n",
      "import matplotlib.pyplot as plt\n",
      "from scipy.integrate import odeint\n",
      "from IPython.html.widgets import interact, interactive"
     ],
     "language": "python",
     "metadata": {},
     "outputs": [
      {
       "output_type": "stream",
       "stream": "stdout",
       "text": [
        "Populating the interactive namespace from numpy and matplotlib\n"
       ]
      }
     ],
     "prompt_number": 1
    },
    {
     "cell_type": "heading",
     "level": 2,
     "metadata": {},
     "source": [
      "Question 1"
     ]
    },
    {
     "cell_type": "markdown",
     "metadata": {},
     "source": [
      "For this question refer to the solutions for the simple pendulum we got using scipy's odeint from the beginning of the ODE Tour.\n",
      "\n",
      "**(a)** See what happens to the period of the pendulum as you change the initial angle of release. Plot \u03b8 vs t for 5 different initial angles, \u03b8_0 , spanning 0 to \u03c0. (i.e. 0, \u03c0/4 , \u03c0/2 , 3\u03c0/4 , and \u03c0 ). Put them all on the same plot. What happens to the period of the pendulum as the initial angle increases from \u03c0/4 to 3\u03c0/4? What happens to the trajectory when the initial angle is 0 and \u03c0 ?"
     ]
    },
    {
     "cell_type": "code",
     "collapsed": false,
     "input": [],
     "language": "python",
     "metadata": {},
     "outputs": [],
     "prompt_number": 1
    },
    {
     "cell_type": "markdown",
     "metadata": {},
     "source": [
      "**(b)** Make plots of \u03b8 vs. t, \u03c9 vs. t, and \u03c9 vs. \u03b8 (the so-called \"phase plot\") for \u03b80 = 0.95\u03c0. Look carefully at their behavior. What is going on in these figures?"
     ]
    },
    {
     "cell_type": "code",
     "collapsed": false,
     "input": [],
     "language": "python",
     "metadata": {},
     "outputs": [],
     "prompt_number": 1
    },
    {
     "cell_type": "markdown",
     "metadata": {},
     "source": [
      "**(c)** For the \u03b8_0 = 0.95\u03c0 case, check that energy is conserved by plotting E/m vs. t (where E=mg\u2113cos(\u03b8)+0.5m(\u03c9r)^2).\n",
      "\n",
      "Is the energy a constant? If not, then the computational errors are producing a non-physical loss (or gain) of energy. Review the documentation for odeint and change the error tolerance value to a tighter number."
     ]
    },
    {
     "cell_type": "code",
     "collapsed": false,
     "input": [],
     "language": "python",
     "metadata": {},
     "outputs": [],
     "prompt_number": 1
    },
    {
     "cell_type": "markdown",
     "metadata": {},
     "source": [
      "**(d)** Now look at what happens if we start the pendulum straight up, \u03b8=\u03c0. Go for at least 50 s. Be sure to describe what happens numerically according to the \u03b8 vs. t, \u03c9 vs. t and E/m vs. t plots. What do you think should happen? What happens if you change the error tolerance on odeint? How does this compare to a nearly vertical pendulum: \u03b80=\u03c0\u22120.000001 ?"
     ]
    },
    {
     "cell_type": "code",
     "collapsed": false,
     "input": [],
     "language": "python",
     "metadata": {},
     "outputs": [],
     "prompt_number": 1
    },
    {
     "cell_type": "heading",
     "level": 2,
     "metadata": {},
     "source": [
      "Question 2"
     ]
    },
    {
     "cell_type": "markdown",
     "metadata": {},
     "source": [
      "**(a)** Use Euler's method to solve the following first-order differential equation with given initial condition y(0) = 0.\n",
      "\n",
      "dy/dx = x+2y\n",
      "\n",
      "Find the value of y when x = 1, that is y(1), using a first a step size of 0.25, and then 0.02."
     ]
    },
    {
     "cell_type": "code",
     "collapsed": false,
     "input": [],
     "language": "python",
     "metadata": {},
     "outputs": [],
     "prompt_number": 1
    },
    {
     "cell_type": "markdown",
     "metadata": {},
     "source": [
      "**(b)** Plot the results from part (a) for the two different step sizes with the exact solution\n",
      "\n",
      "y = 0.25e^(2x) \u2212 0.5x \u2212 0.25\n",
      "\n",
      "on one plot. Include a legend. Which step size gives a more accurate result?"
     ]
    },
    {
     "cell_type": "code",
     "collapsed": false,
     "input": [],
     "language": "python",
     "metadata": {},
     "outputs": []
    },
    {
     "cell_type": "markdown",
     "metadata": {},
     "source": [
      "**(c)** Now solve the same problem using Euler-Cromer and the Midpoint method, using the same pair of step sizes and plot the results along with the exact solution. Instead of plotting the solutions, plot the difference between the approximate numerical solutions and the exact solution. Which combination of method and step-size gives the best result?"
     ]
    },
    {
     "cell_type": "code",
     "collapsed": false,
     "input": [],
     "language": "python",
     "metadata": {},
     "outputs": [],
     "prompt_number": 1
    },
    {
     "cell_type": "heading",
     "level": 2,
     "metadata": {},
     "source": [
      "Question 3"
     ]
    },
    {
     "cell_type": "markdown",
     "metadata": {},
     "source": [
      "**(a)** Create a derivative function to solve this system of equations and use odeint to solve it for a projectile fired at an angle of 50 degrees from the horizontal at an initial speed of 30 m/s. Track the projectile's motion over the time interval of 0 to 200 seconds and let (x0,y0) = (0,0). You'll have to calculate (v_x0,v_y0) from the information provided. Let v_ter=44 m/s. Plot the trajectory of the projectile (y vs. x) to see how far the projectile can travel in the x direction before landing.\n",
      " "
     ]
    },
    {
     "cell_type": "markdown",
     "metadata": {},
     "source": [
      "**(b)** Now create an interact object that uses sliders for the initial speed, terminal velocity, launch angle, and time. Have it plot two curves - one representing the solution with quadratic drag and the other in the absence of drag:\n",
      "\n",
      "x(t) = x0 + v_x0 * t\n",
      "\n",
      "y(t) = y0 + v_y0 * t \u2212 (1/2)*gt^2\n"
     ]
    },
    {
     "cell_type": "code",
     "collapsed": false,
     "input": [],
     "language": "python",
     "metadata": {},
     "outputs": [],
     "prompt_number": 1
    },
    {
     "cell_type": "markdown",
     "metadata": {},
     "source": [
      "**(c)** Use your interact object to find 3 pairs of initial angle and speed needed for the following projectiles to reach a target 80 m away. How do the values change if there is no air resistance? Put your results in a table for easier reading.\n",
      "\n",
      "\n",
      "Projectile\t| Terminal velocity (m/s)\t| Initial height (m)\n",
      "\n",
      "Golfball\t     |         44\t       |       0\n",
      "\n",
      "Baseball\t| 43\t| 1.5\n",
      "\n",
      "Pumpkin\t| 107\t| 1.5\n"
     ]
    },
    {
     "cell_type": "code",
     "collapsed": false,
     "input": [],
     "language": "python",
     "metadata": {},
     "outputs": []
    }
   ],
   "metadata": {}
  }
 ]
}