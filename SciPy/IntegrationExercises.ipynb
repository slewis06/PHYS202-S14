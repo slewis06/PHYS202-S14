{
 "metadata": {
  "name": "",
  "signature": "sha256:0bdd1403e38d6b365916eb0f4f5973b75e4b26cbaa4700eba48c90e0a16992b3"
 },
 "nbformat": 3,
 "nbformat_minor": 0,
 "worksheets": [
  {
   "cells": [
    {
     "cell_type": "heading",
     "level": 1,
     "metadata": {},
     "source": [
      "Integration Exercises"
     ]
    },
    {
     "cell_type": "code",
     "collapsed": false,
     "input": [
      "%pylab inline\n",
      "import numpy as np\n",
      "import matplotlib.pyplot as plt\n",
      "\n",
      "import scipy.integrate as integrate\n",
      "from scipy.integrate import dblquad\n",
      "from scipy.integrate import tplquad\n"
     ],
     "language": "python",
     "metadata": {},
     "outputs": [
      {
       "output_type": "stream",
       "stream": "stdout",
       "text": [
        "Populating the interactive namespace from numpy and matplotlib\n"
       ]
      }
     ],
     "prompt_number": 1
    },
    {
     "cell_type": "heading",
     "level": 2,
     "metadata": {},
     "source": [
      "Question 1"
     ]
    },
    {
     "cell_type": "markdown",
     "metadata": {},
     "source": [
      "**(a)** Write two functions trapz(func,x) and simps(func,x) to compute the integral of the function func over the variable x using the trapezoidal rule and Simpson's rule to a file called Integrators.py. Do not use the scipy.integrate built-in functions. Include docstrings with each function that describe what they do. Then import the module and use the functions to answer the following questions."
     ]
    },
    {
     "cell_type": "code",
     "collapsed": false,
     "input": [
      "%%file Integrators.py\n",
      "\n",
      "import numpy as np\n",
      "import matplotlib.pyplot as plt\n",
      "\n",
      "import scipy.integrate as integrate\n",
      "from scipy.integrate import dblquad\n",
      "from scipy.integrate import tplquad\n",
      "\n",
      "def trapz(func,start,end,Num_steps):\n",
      "    \"\"\"\n",
      "    Trapz takes an equation (func), start and end points, and the number of trapezoids you want to use.\n",
      "    Trapz then uses this to calculate the integral (I) from start to end using trapezoids.\n",
      "    \"\"\"\n",
      "    h = (end-start)/Num_steps\n",
      "    k = np.arange(1,Num_steps)\n",
      "    I = h*(0.5*func(start) + 0.5*func(end) + func(start+k*h).sum())\n",
      "    \n",
      "    return I\n",
      "\n",
      "def simps(func,start,end,Num_steps):\n",
      "    \"\"\"\n",
      "    Simps takes an equation (func), start and end points, and the number of quadratic curves\n",
      "    you want to use. Simps then uses this to calculate the integral (I) from start to end\n",
      "    using quadratic curves as opposed to straight lines.\n",
      "    \"\"\"\n",
      "    h = (end-start)/Num_steps\n",
      "    k1 = np.arange(1,Num_steps/2+1)\n",
      "    k2 = np.arange(1,Num_steps/2)\n",
      "    I = (1./3.)*h*(func(start) + func(end) + 4.*func(start+(2*k1-1)*h).sum() + 2.*func(start+2*k2*h).sum())\n",
      "    \n",
      "    return I"
     ],
     "language": "python",
     "metadata": {},
     "outputs": [
      {
       "output_type": "stream",
       "stream": "stdout",
       "text": [
        "Overwriting Integrators.py\n"
       ]
      }
     ],
     "prompt_number": 2
    },
    {
     "cell_type": "markdown",
     "metadata": {},
     "source": [
      "**(b)** Use your trapz and simps functions from part (a) to calculate the integral of x^4\u22122x+1 from x = 0 to x = 2 with N = 10, N = 100, and N = 1000. Then compare your result to the known correct value of 4.4. What is the percent error in each case?"
     ]
    },
    {
     "cell_type": "code",
     "collapsed": false,
     "input": [
      "import Integrators as myint\n",
      "help(myint.trapz)\n",
      "help(myint.simps)\n",
      "func = lambda x : (x**4) - (2*x) +1\n",
      "\n",
      "print \"At N=10, the integral using trapz is:\", myint.trapz(func,0.,2.,10)\n",
      "print \"Percent error =\", (myint.trapz(func,0.,2.,10) - 4.4)/4.4\n",
      "print \"At N=10, the integral using simps is:\", myint.simps(func,0.,2.,10)\n",
      "print \"Percent error =\", (myint.simps(func,0.,2.,10) - 4.4)/4.4, \"\\n\"\n",
      "\n",
      "print \"At N=100, the integral using trapz is:\", myint.trapz(func,0.,2.,100)\n",
      "print \"Percent error =\", (myint.trapz(func,0.,2.,100) - 4.4)/4.4\n",
      "print \"At N=100, the integral using simps is:\", myint.simps(func,0.,2.,100)\n",
      "print \"Percent error =\", (myint.simps(func,0.,2.,100) - 4.4)/4.4, \"\\n\"\n",
      "\n",
      "\n",
      "print \"At N=1000, the integral using trapz is:\", myint.trapz(func,0.,2.,1000)\n",
      "print \"Percent error =\", (myint.trapz(func,0.,2.,1000) - 4.4)/4.4\n",
      "print \"At N=1000, the integral using simps is:\", myint.simps(func,0.,2.,1000)\n",
      "print \"Percent error =\", (myint.simps(func,0.,2.,1000) - 4.4)/4.4, \"\\n\""
     ],
     "language": "python",
     "metadata": {},
     "outputs": [
      {
       "output_type": "stream",
       "stream": "stdout",
       "text": [
        "Help on function trapz in module Integrators:\n",
        "\n",
        "trapz(func, start, end, Num_steps)\n",
        "    Trapz takes an equation (func), start and end points, and the number of trapezoids you want to use.\n",
        "    Trapz then uses this to calculate the integral (I) from start to end using trapezoids.\n",
        "\n",
        "Help on function simps in module Integrators:\n",
        "\n",
        "simps(func, start, end, Num_steps)\n",
        "    Simps takes an equation (func), start and end points, and the number of quadratic curves\n",
        "    you want to use. Simps then uses this to calculate the integral (I) from start to end\n",
        "    using quadratic curves as opposed to straight lines.\n",
        "\n",
        "At N=10, the integral using trapz is: 4.50656\n",
        "Percent error = 0.0242181818182\n",
        "At N=10, the integral using simps is: 4.40042666667\n",
        "Percent error = 9.69696969697e-05 \n",
        "\n",
        "At N=100, the integral using trapz is: 4.401066656\n",
        "Percent error = 0.000242421818182\n",
        "At N=100, the integral using simps is: 4.40000004267\n",
        "Percent error = 9.69696969187e-09 \n",
        "\n",
        "At N=1000, the integral using trapz is: 4.40001066667\n",
        "Percent error = 2.42424218175e-06\n",
        "At N=1000, the integral using simps is: 4.4\n",
        "Percent error = 9.69729347327e-13 \n",
        "\n"
       ]
      }
     ],
     "prompt_number": 3
    },
    {
     "cell_type": "heading",
     "level": 2,
     "metadata": {},
     "source": [
      "Question 2"
     ]
    },
    {
     "cell_type": "markdown",
     "metadata": {},
     "source": [
      "**(a)** Use scipy.integrate.cumtrapz to calculate E(x) for values of x from 0 to 3 in steps of 0.1. Print the result."
     ]
    },
    {
     "cell_type": "code",
     "collapsed": false,
     "input": [
      "t = np.arange(0.,3.1,0.1)\n",
      "x = np.arange(0.,3.1,0.1)\n",
      "\n",
      "func = lambda x : np.exp(-(x**2.))\n",
      "\n",
      "y = integrate.cumtrapz(func(t),dx=0.1,initial=0)\n",
      "print y"
     ],
     "language": "python",
     "metadata": {},
     "outputs": [
      {
       "output_type": "stream",
       "stream": "stdout",
       "text": [
        "[ 0.          0.09950249  0.19704446  0.29078049  0.37908424  0.46063146\n",
        "  0.53445532  0.59997046  0.6569664   0.70557392  0.7462108   0.77951463\n",
        "  0.80627088  0.82734325  0.84361215  0.85592503  0.86506023  0.87170427\n",
        "  0.87644128  0.87975207  0.88202044  0.88354398  0.88454709  0.88519453\n",
        "  0.88560418  0.88585826  0.88601274  0.88610482  0.88615862  0.88618943\n",
        "  0.88620673]\n"
       ]
      }
     ],
     "prompt_number": 4
    },
    {
     "cell_type": "markdown",
     "metadata": {},
     "source": [
      "**(b)** Plot the integrand as a function of t and E(x) as a function of x (both ranging from 0 to 3) on the same graph."
     ]
    },
    {
     "cell_type": "code",
     "collapsed": false,
     "input": [
      "plt.plot(t,func(t),label='Integrand')\n",
      "plt.plot(x,y,label='Integral: E(x)')\n",
      "plt.legend(loc='best')\n",
      "plt.show()"
     ],
     "language": "python",
     "metadata": {},
     "outputs": [
      {
       "metadata": {},
       "output_type": "display_data",
       "png": "[encoded data removed]",
       "text": [
        "<matplotlib.figure.Figure at 0x106472fd0>"
       ]
      }
     ],
     "prompt_number": 5
    },
    {
     "cell_type": "heading",
     "level": 2,
     "metadata": {},
     "source": [
      "Question 3"
     ]
    },
    {
     "cell_type": "markdown",
     "metadata": {},
     "source": [
      "**(a)** What is the probability of finding the particle between L/3 and L/2 for the ground state (n = 1) and for the first excited state (n = 2)? Let L = 1. Perform the integral using both scipy.integrate.trapz and scipy.integrate.quad with an accuracy of 6 sig figs. How many slices did you need to use for scipy.integrate.trapz?"
     ]
    },
    {
     "cell_type": "code",
     "collapsed": false,
     "input": [
      "L = 1.\n",
      "t = np.linspace(L/3.,L/2.,1000)\n",
      "x = np.arange(0,1,0.01)\n",
      "func1 = lambda x : abs(np.sqrt(2./L)*np.sin((np.pi*1.*x)/L))**2\n",
      "func2 = lambda x : abs(np.sqrt(2./L)*np.sin((np.pi*2.*x)/L))**2\n",
      "\n",
      "print \"For n=1:\\n\"\n",
      "print \"Integrate.quad, error:\", integrate.quad(func1,L/3.,L/2.)\n",
      "print \"Integrate.trapz:\", integrate.trapz(func1(t),t), \"\\n\"\n",
      "print \"For n=2:\\n\"\n",
      "print \"Integrate.quad, error:\", integrate.quad(func2,L/3.,L/2.)\n",
      "print \"Integrate.trapz:\", integrate.trapz(func2(t),t)"
     ],
     "language": "python",
     "metadata": {},
     "outputs": [
      {
       "output_type": "stream",
       "stream": "stdout",
       "text": [
        "For n=1:\n",
        "\n",
        "Integrate.quad, error: (0.3044988905221147, 3.380616792304666e-15)\n",
        "Integrate.trapz: 0.304498877901 \n",
        "\n",
        "For n=2:\n",
        "\n",
        "Integrate.quad, error: (0.09775055473894276, 1.0852491654105595e-15)\n",
        "Integrate.trapz: 0.0977505799811\n"
       ]
      }
     ],
     "prompt_number": 6
    },
    {
     "cell_type": "markdown",
     "metadata": {},
     "source": [
      "**(b)** Make a plot of |\u03c8(x)|^2 vs. x for the first two excited states with L=1."
     ]
    },
    {
     "cell_type": "code",
     "collapsed": false,
     "input": [
      "plt.plot(x,func1(x),label='n=1')\n",
      "plt.plot(x,func2(x),label='n=2')\n",
      "plt.legend(loc='best')\n",
      "plt.show()"
     ],
     "language": "python",
     "metadata": {},
     "outputs": [
      {
       "metadata": {},
       "output_type": "display_data",
       "png": "[encoded data removed]",
       "text": [
        "<matplotlib.figure.Figure at 0x106737d90>"
       ]
      }
     ],
     "prompt_number": 7
    },
    {
     "cell_type": "heading",
     "level": 2,
     "metadata": {},
     "source": [
      "Question 4"
     ]
    },
    {
     "cell_type": "markdown",
     "metadata": {},
     "source": [
      "**(a)** Use numerical integration to find M, r\u20d7 cm, and Icm. Note that you need M to compute r\u20d7 cm and r\u20d7 cm to compute Icm. The moments of inertia Icm are Ixx, Iyy, and Izz, where e.g. Ixx=\u222b((y\u2212ycm)^2+(z\u2212zcm)^2)\u03c1dV, etc."
     ]
    },
    {
     "cell_type": "code",
     "collapsed": false,
     "input": [
      "integrand = lambda z,y,x : 100.*(y+0.1+z**2.)\n",
      "xmin = -0.1\n",
      "xmax = 0.1\n",
      "\n",
      "ymin = lambda x: -0.1\n",
      "ymax = lambda x: 0.1\n",
      "\n",
      "#Note the order of these arguments\n",
      "zmin = lambda x,y: -0.5\n",
      "zmax = lambda x,y: 0.5\n",
      "M, err = tplquad(integrand, xmin, xmax, ymin, ymax, zmin, zmax)\n",
      "print \"Mass, M, equals:\", M"
     ],
     "language": "python",
     "metadata": {},
     "outputs": [
      {
       "output_type": "stream",
       "stream": "stdout",
       "text": [
        "Mass, M, equals: 0.733333333333\n"
       ]
      }
     ],
     "prompt_number": 8
    },
    {
     "cell_type": "markdown",
     "metadata": {},
     "source": [
      "**(b)** The mass, center of mass, and moments of inertia can be easily computed analytically for a rectangular box of uniform density. (Compute them yourself or look them up). Verify your algorithm from part (a) works by having it compute the result for this test case. How accurate (how many sig figs?) is the numerical result?"
     ]
    },
    {
     "cell_type": "code",
     "collapsed": false,
     "input": [
      "r_x = lambda z,y,x : x*(100.*(y+0.1+z**2.))\n",
      "r_y = lambda z,y,x : y*(100.*(y+0.1+z**2.))\n",
      "r_z = lambda z,y,x : z*(100.*(y+0.1+z**2.))\n",
      "\n",
      "xmin = -0.1\n",
      "xmax = 0.1\n",
      "ymin = lambda x: -0.1\n",
      "ymax = lambda x: 0.1\n",
      "zmin = lambda x,y: -0.5\n",
      "zmax = lambda x,y: 0.5\n",
      "\n",
      "r_x_cm, err = tplquad(r_x, xmin, xmax, ymin, ymax, zmin, zmax)\n",
      "r_y_cm, err = tplquad(r_y, xmin, xmax, ymin, ymax, zmin, zmax)\n",
      "r_z_cm, err = tplquad(r_z, xmin, xmax, ymin, ymax, zmin, zmax)\n",
      "print \"r_x = \",r_x_cm/M, \"\\n\", \"r_y = \", r_y_cm/M, \"\\n\", \"r_z = \", r_z_cm/M\n",
      "\n",
      "I_x = lambda z,y,x : ((y - r_y_cm/M)**2 + (z - r_z_cm/M)**2)*(100.*(y+0.1+z**2.))\n",
      "I_y = lambda z,y,x : ((x - r_x_cm/M)**2 + (z - r_z_cm/M)**2)*(100.*(y+0.1+z**2.))\n",
      "I_z = lambda z,y,x : ((y - r_y_cm/M)**2 + (x - r_x_cm/M)**2)*(100.*(y+0.1+z**2.))\n",
      "\n",
      "I_xx, err = tplquad(I_x, xmin, xmax, ymin, ymax, zmin, zmax)\n",
      "I_yy, err = tplquad(I_y, xmin, xmax, ymin, ymax, zmin, zmax)\n",
      "I_zz, err = tplquad(I_z, xmin, xmax, ymin, ymax, zmin, zmax)\n",
      "\n",
      "print I_xx\n",
      "print I_yy\n",
      "print I_zz"
     ],
     "language": "python",
     "metadata": {},
     "outputs": [
      {
       "output_type": "stream",
       "stream": "stdout",
       "text": [
        "r_x =  0.0 \n",
        "r_y =  0.0181818181818 \n",
        "r_z =  0.0\n",
        "0.0855353535354\n",
        "0.0857777777778\n",
        "0.00464646464646\n"
       ]
      }
     ],
     "prompt_number": 24
    },
    {
     "cell_type": "markdown",
     "metadata": {},
     "source": [
      "**(c)** Finally, change the density function to something of your choosing (different from that used in parts (a) and (b)) and recompute M, r\u20d7 cm and Icm for that case."
     ]
    },
    {
     "cell_type": "code",
     "collapsed": false,
     "input": [],
     "language": "python",
     "metadata": {},
     "outputs": [],
     "prompt_number": 9
    }
   ],
   "metadata": {}
  }
 ]
}