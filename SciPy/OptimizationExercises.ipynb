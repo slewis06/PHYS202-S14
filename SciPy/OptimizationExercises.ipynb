{
 "metadata": {
  "name": "",
  "signature": "sha256:5b8fe327144b39c30a4701d20ea900518a881ff3eaa4ac7cef4d5b6b37772dd1"
 },
 "nbformat": 3,
 "nbformat_minor": 0,
 "worksheets": [
  {
   "cells": [
    {
     "cell_type": "heading",
     "level": 1,
     "metadata": {},
     "source": [
      "Linear Regression, Optimization and Curve Fitting Exercises"
     ]
    },
    {
     "cell_type": "code",
     "collapsed": false,
     "input": [
      "%pylab inline\n",
      "import numpy as np\n",
      "import matplotlib.pyplot as plt\n",
      "from scipy.optimize import curve_fit"
     ],
     "language": "python",
     "metadata": {},
     "outputs": [
      {
       "output_type": "stream",
       "stream": "stdout",
       "text": [
        "Populating the interactive namespace from numpy and matplotlib\n"
       ]
      }
     ],
     "prompt_number": 1
    },
    {
     "cell_type": "heading",
     "level": 3,
     "metadata": {},
     "source": [
      "Question 1"
     ]
    },
    {
     "cell_type": "markdown",
     "metadata": {},
     "source": [
      "**(a)** Write a function that can compute the weighted linear least squares (WLSQ) best fit line to a set of data. Here is the function template to use:\n",
      "def WeightedLLSqFit(x,y,w):\n",
      "    \"\"\"Take in arrays representing (x,y) values for a set of linearly varying data and an array of weights w.\n",
      "    Perform a weighted linear least squares regression.  Return the resulting slope and intercept\n",
      "    parameters of the best fit line with their uncertainties.\n",
      "\n",
      "    If the weights are all equal to one, the uncertainties on the parameters are calculated using the \n",
      "    non-weighted least squares equations.\"\"\"\n",
      "\n",
      "    #your code goes here...\n",
      "\n",
      "    return slope,slerr,intercept,interr\n",
      "Your function should test whether there are unequal weights on the data points and return the correctly calculated uncertainties for whichever case is requested.\n",
      "Use the features of numpy arrays rather than loops to take advantage of their superior computational speed."
     ]
    },
    {
     "cell_type": "code",
     "collapsed": false,
     "input": [
      "def WeightedLLSqFit(x,y,w):\n",
      "    \"\"\"Take in arrays representing (x,y) values for a set of linearly varying data and an array of weights w.\n",
      "    Perform a weighted linear least squares regression.  Return the resulting slope and intercept\n",
      "    parameters of the best fit line with their uncertainties.\n",
      "\n",
      "    If the weights are all equal to one, the uncertainties on the parameters are calculated using the \n",
      "    non-weighted least squares equations.\"\"\"\n",
      "\n",
      "    slope = ((w.sum())*((w*x*y).sum()) - ((w*x).sum())*\\\n",
      "             ((w*y).sum())) / ((w.sum())*((w*x**2).sum()) - (((w*x).sum())**2))\n",
      "    \n",
      "    intercept = (((w*x**2).sum())*((w*y).sum()) - \\\n",
      "                 ((w*x).sum())*((w*x*y).sum())) / ((w.sum())*((w*x**2).sum()) - (((w*x).sum())**2))\n",
      "\n",
      "    slerr = sqrt((w.sum()) / ((w.sum())*((w*x**2).sum()) - (((w*x).sum())**2)))\n",
      "    \n",
      "    interr = sqrt(((w*x**2).sum()) / ((w.sum())*((w*x**2).sum()) - (((w*x).sum())**2)))\n",
      "    return slope,slerr,intercept,interr"
     ],
     "language": "python",
     "metadata": {},
     "outputs": [],
     "prompt_number": 3
    },
    {
     "cell_type": "markdown",
     "metadata": {},
     "source": [
      "**(b)** For the data below, use the uncertainties on the position values as weights to perform a WLSQ best fit. Print the results of the fit, both the fitted parameter values and their uncertainties.\n",
      "\n",
      "   * time = np.array([1.,2.,3.,4.,5.,6.,7.,8.,9.,10.])\n",
      "   * pos = np.array([7.75, 7.33, 6.89, 6.45, 5.96, 5.55, 5.10, 4.49, 3.93, 3.58])\n",
      "   * sigp = np.array([0.02, 0.03, 0.03, 0.04, 0.05, 0.06, 0.08, 0.11, 0.14, 0.17])\n",
      "   \n",
      "If you did it right you should get m = -0.4510 \u00b1 0.0066 and b = 8.2201 \u00b1 0.0214."
     ]
    },
    {
     "cell_type": "code",
     "collapsed": false,
     "input": [
      "time = np.array([1.,2.,3.,4.,5.,6.,7.,8.,9.,10.])\n",
      "pos = np.array([7.75, 7.33, 6.89, 6.45, 5.96, 5.55, 5.10, 4.49, 3.93, 3.58])\n",
      "sigp = np.array([0.02, 0.03, 0.03, 0.04, 0.05, 0.06, 0.08, 0.11, 0.14, 0.17])\n",
      "\n",
      "slope, slopeerr, intercept, interr = WeightedLLSqFit(time,pos,1/(sigp)**2)\n",
      "\n",
      "print \" Slope = %.6f \\n Slope Error = +/- %.6f \\n y-intercept = %.6f \\n y-intercept error = +/- %.6f\" \\\n",
      "        %(slope, slopeerr, intercept, interr)"
     ],
     "language": "python",
     "metadata": {},
     "outputs": [
      {
       "output_type": "stream",
       "stream": "stdout",
       "text": [
        " Slope = -0.451024 \n",
        " Slope Error = +/- 0.006576 \n",
        " y-intercept = 8.220072 \n",
        " y-intercept error = +/- 0.021438\n"
       ]
      }
     ],
     "prompt_number": 23
    },
    {
     "cell_type": "markdown",
     "metadata": {},
     "source": [
      "**(c)** Now make an errorbar plot that shows the (time,position) data with markers and error bars \u03c3p. Also plot lines representing the results from the LSQ and WSLQ fits to these data. Include a legend that shows the fitted line equations with the fit parameters as you did in the tour, with labels indicating which one is the weighted result and which the unweighted result."
     ]
    },
    {
     "cell_type": "code",
     "collapsed": false,
     "input": [
      "def LinearLSqFit(x,y):\n",
      "    \"\"\"Take in arrays representing (x,y) values for a set of linearly varying data and \n",
      "    perform a linear least squares regression.  Return the resulting slope and intercept\n",
      "    parameters of the best fit line with their uncertainties.\"\"\"\n",
      "\n",
      "    xave = x.mean()\n",
      "    yave = y.mean()\n",
      "    x2ave = (x*x).mean()\n",
      "    xyave = (x*y).mean()\n",
      "    denom = (x2ave - xave**2)\n",
      "    m = (xyave - xave*yave)/denom\n",
      "    b = (x2ave*yave - xave*xyave)/denom\n",
      "    delta = y - (m*x + b)\n",
      "    d2ave = (delta*delta).mean()\n",
      "    n = len(y)\n",
      "    merr = sqrt((n-2)**(-1)*d2ave/denom)\n",
      "    berr = sqrt((n-2)**(-1)*d2ave*x2ave/denom)\n",
      "    \n",
      "    return m,b,merr,berr"
     ],
     "language": "python",
     "metadata": {},
     "outputs": [],
     "prompt_number": 18
    },
    {
     "cell_type": "code",
     "collapsed": false,
     "input": [
      "y = WeightedLLSqFit(time,pos,1/(sigp)**2)\n",
      "slope = y[0]\n",
      "intercept = y[2]\n",
      "f = lambda x,m,b: m*x + b\n",
      "\n",
      "m1,b1,m1err,b1err = LinearLSqFit(time,pos)\n",
      "f2 = lambda x,m,b: m*x + b\n",
      "plt.errorbar(time,pos,sigp,fmt=\"bd\",label=\"data with errors\")\n",
      "plt.plot(time, f(time, slope, intercept), 'r--', label=\"WSLQ fit\")\n",
      "plt.plot(time, f2(time, m1, b1), 'g--', label='LSQ fit')\n",
      "plt.xlim(0.,11.)\n",
      "plt.ylim(3.,9.)\n",
      "\n",
      "plt.legend(loc=\"best\")\n",
      "plt.xlabel(\"time (s)\",fontsize=20)\n",
      "plt.ylabel(\"position (m)\",fontsize=20)\n",
      "\n",
      "plt.show()\n",
      " "
     ],
     "language": "python",
     "metadata": {},
     "outputs": [
      {
       "metadata": {},
       "output_type": "display_data",
       "png": "[encoded data removed]",
       "text": [
        "<matplotlib.figure.Figure at 0x1099ecf50>"
       ]
      }
     ],
     "prompt_number": 21
    },
    {
     "cell_type": "heading",
     "level": 3,
     "metadata": {},
     "source": [
      "Question 2"
     ]
    },
    {
     "cell_type": "markdown",
     "metadata": {},
     "source": [
      "**(a)** Download the linked file waveform_2.npy by right-clicking on the link and selecting \"Save Link As\". Read in the data and plot it."
     ]
    },
    {
     "cell_type": "code",
     "collapsed": false,
     "input": [
      "!cat waveform_2.npy\n",
      "\n",
      "waveform = np.load('waveform_2.npy')\n",
      "t = np.arange(0,len(waveform))\n",
      "\n",
      "plt.plot(t,waveform)\n",
      "plt.show()"
     ],
     "language": "python",
     "metadata": {},
     "outputs": [
      {
       "output_type": "stream",
       "stream": "stdout",
       "text": [
        "\ufffdNUMPY\u0001\u0000F\u0000{'descr': '|u1', 'fortran_order': False, 'shape': (80,), }           \r\n",
        "\u0003\u0002\u0002\u0002\u0002\u0002\u0001\u0002\u0002\u0002\u0002\u0002\u0002\u0005\r\n",
        "\u0012\u0019\u0019\u0014\r",
        "\t\t\u000b",
        "\f",
        "\f",
        "\r\n",
        "\b\b\b\b\u0007\u0006\u0005\u0003\u0003\u0003\u0003\u0002\u0002\u0003\u0003\u0004\u0003\u0003\u0004\u0002\u0003\u0004\u0003\u0003\u0003\u0003\u0003\u0003\u0002\u0003\u0003\u0003\u0002\u0002\u0002\u0001\u0002\u0003\u0003\u0003\u0002\u0002\u0002\u0003\u0002\u0002\u0002\u0003\u0003\u0003\u0003\u0002\u0002\u0001"
       ]
      },
      {
       "metadata": {},
       "output_type": "display_data",
       "png": "[encoded data removed]",
       "text": [
        "<matplotlib.figure.Figure at 0x1094ea210>"
       ]
      }
     ],
     "prompt_number": 8
    },
    {
     "cell_type": "markdown",
     "metadata": {},
     "source": [
      "**(b)** This data is more complicated than that in waveform_1.npy from the tour, but not considerably so. It looks like it could be modeled as the sum of a noise floor and three Gaussian peaks with different amplitude, mean, and sigma. Write a function to model this data."
     ]
    },
    {
     "cell_type": "code",
     "collapsed": false,
     "input": [
      "#Gaussian function plus noise floor.\n",
      "def model(t, B, A1, A2, A3, mu1, mu2, mu3, sigma1, sigma2, sigma3):\n",
      "    return B + A1 * exp(-((t-mu1)/sigma1)**2) + B + A2 * exp(-((t-mu2)/sigma2)**2) + B + A3 * exp(-((t-mu3)/sigma3)**2) "
     ],
     "language": "python",
     "metadata": {},
     "outputs": [],
     "prompt_number": 10
    },
    {
     "cell_type": "code",
     "collapsed": false,
     "input": [
      "# x0 corresponds to part c. The numbers are my guesses for the values passed to the model function.\n",
      "# t = time, B = noise floor level, A's = peak heights, mu's = x-value of peak max, sigma's = peak width.\n",
      "x0 = np.array([3.,26.,12.5,8.,15.5,23.5,28.,8.,6.,5.])\n",
      "popt,pcov = curve_fit(model,t,waveform,x0)\n",
      "\n",
      "#part d\n",
      "plt.plot(t,waveform,label=\"data\")\n",
      "plt.plot(t, model(t, popt[0], popt[1], popt[2], popt[3], popt[4], popt[5], popt[6], popt[7], popt[8], popt[9]), \\\n",
      "         'r-', label='fit', linewidth=2)\n",
      "plt.legend(loc='best')\n",
      "plt.show()"
     ],
     "language": "python",
     "metadata": {},
     "outputs": [
      {
       "metadata": {},
       "output_type": "display_data",
       "png": "[encoded data removed]",
       "text": [
        "<matplotlib.figure.Figure at 0x1097c97d0>"
       ]
      }
     ],
     "prompt_number": 16
    },
    {
     "cell_type": "markdown",
     "metadata": {},
     "source": [
      "**(c)** By inspecting the graph, come up with a set of initial guesses for the parameters of the fit and fit the data using curve_fit. Print the resulting parameters and their uncertainties."
     ]
    },
    {
     "cell_type": "code",
     "collapsed": false,
     "input": [
      "#See above cell"
     ],
     "language": "python",
     "metadata": {},
     "outputs": []
    },
    {
     "cell_type": "markdown",
     "metadata": {},
     "source": [
      "**(d)** Plot the data and the fit to see how well the model matches the data."
     ]
    },
    {
     "cell_type": "code",
     "collapsed": false,
     "input": [
      "#See above cell"
     ],
     "language": "python",
     "metadata": {},
     "outputs": []
    }
   ],
   "metadata": {}
  }
 ]
}